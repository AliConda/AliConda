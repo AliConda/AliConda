{
  "nbformat": 4,
  "nbformat_minor": 0,
  "metadata": {
    "colab": {
      "name": "BS4 Beautifull soup",
      "provenance": [],
      "authorship_tag": "ABX9TyOMQwEl/4liJM5VMYQvXsZW",
      "include_colab_link": true
    },
    "kernelspec": {
      "name": "python3",
      "display_name": "Python 3"
    },
    "language_info": {
      "name": "python"
    }
  },
  "cells": [
    {
      "cell_type": "markdown",
      "metadata": {
        "id": "view-in-github",
        "colab_type": "text"
      },
      "source": [
        "<a href=\"https://colab.research.google.com/github/AliConda/AliConda/blob/main/BS4_Beautifull_soup.ipynb\" target=\"_parent\"><img src=\"https://colab.research.google.com/assets/colab-badge.svg\" alt=\"Open In Colab\"/></a>"
      ]
    },
    {
      "cell_type": "code",
      "metadata": {
        "id": "dKkAWwiyFRQ9"
      },
      "source": [
        "import bs4 as bs\n",
        "import numpy as np\n",
        "import matplotlib.pyplot as plt\n",
        "import pandas as pd\n",
        "from bs4 import BeautifulSoup\n",
        "import requests"
      ],
      "execution_count": null,
      "outputs": []
    },
    {
      "cell_type": "markdown",
      "metadata": {
        "id": "PwN0_FXuyOFf"
      },
      "source": [
        "##HTTP Request"
      ]
    },
    {
      "cell_type": "code",
      "metadata": {
        "id": "DqCJSLawyi9C"
      },
      "source": [
        "#store the website in variable\n",
        "\n",
        "website= 'https://www.cars.com/shopping/results/?stock_type=all&makes%5B%5D=mercedes_benz&models%5B%5D=&list_price_max=&maximum_distance=20&zip='"
      ],
      "execution_count": null,
      "outputs": []
    },
    {
      "cell_type": "markdown",
      "metadata": {
        "id": "Rwu0E1cNy_o2"
      },
      "source": [
        "##Get HTTP request"
      ]
    },
    {
      "cell_type": "code",
      "metadata": {
        "id": "vop0MbukzNeB"
      },
      "source": [
        "response=requests.get(website)"
      ],
      "execution_count": null,
      "outputs": []
    },
    {
      "cell_type": "code",
      "metadata": {
        "colab": {
          "base_uri": "https://localhost:8080/"
        },
        "id": "ng5V242JzjaF",
        "outputId": "0edb9efd-0efb-46bc-bc42-c19dee032dda"
      },
      "source": [
        "response.status_code"
      ],
      "execution_count": null,
      "outputs": [
        {
          "output_type": "execute_result",
          "data": {
            "text/plain": [
              "200"
            ]
          },
          "metadata": {},
          "execution_count": 4
        }
      ]
    },
    {
      "cell_type": "markdown",
      "metadata": {
        "id": "nSm57s0hzXUu"
      },
      "source": [
        "##Soup Object"
      ]
    },
    {
      "cell_type": "code",
      "metadata": {
        "id": "MrFM6a0Ozain"
      },
      "source": [
        "soup=BeautifulSoup(response.content,'html.parser')"
      ],
      "execution_count": null,
      "outputs": []
    },
    {
      "cell_type": "code",
      "metadata": {
        "id": "5VjX5Anfz3xF"
      },
      "source": [
        ""
      ],
      "execution_count": null,
      "outputs": []
    },
    {
      "cell_type": "markdown",
      "metadata": {
        "id": "SHf47jLI0Lem"
      },
      "source": [
        "###Results\n",
        "\n",
        "### create a variable and store the results into it, a list"
      ]
    },
    {
      "cell_type": "code",
      "metadata": {
        "id": "pMVP9F2Y2fGr"
      },
      "source": [
        "results=soup.find_all('div',{'class':'vehicle-card'})  #   <div class='vehicle-car   div is tag,   classis  attribute  vehicle-car is result"
      ],
      "execution_count": null,
      "outputs": []
    },
    {
      "cell_type": "code",
      "metadata": {
        "colab": {
          "base_uri": "https://localhost:8080/"
        },
        "id": "XZnUK81F7Qne",
        "outputId": "6a8340ab-cad9-4453-d0d3-b43495223b42"
      },
      "source": [
        "len(results)\n",
        "\n",
        "# as there are 20 cars in each page, and each div tag   "
      ],
      "execution_count": null,
      "outputs": [
        {
          "output_type": "execute_result",
          "data": {
            "text/plain": [
              "20"
            ]
          },
          "metadata": {},
          "execution_count": 7
        }
      ]
    },
    {
      "cell_type": "code",
      "metadata": {
        "id": "-a_5GUy176jf"
      },
      "source": [
        "# so  result[0] , refers to the first car in the list"
      ],
      "execution_count": null,
      "outputs": []
    },
    {
      "cell_type": "markdown",
      "metadata": {
        "id": "3lPKqcnz8VQK"
      },
      "source": [
        "#Target the necessary Data"
      ]
    },
    {
      "cell_type": "code",
      "metadata": {
        "id": "5rVaQ0ca9voG"
      },
      "source": [
        "# Name\n",
        "#Milage\n",
        "#Rating\n",
        "#Rating Count\n",
        "#Price"
      ],
      "execution_count": null,
      "outputs": []
    },
    {
      "cell_type": "markdown",
      "metadata": {
        "id": "J_ElMWUG-UGe"
      },
      "source": [
        "###Name"
      ]
    },
    {
      "cell_type": "code",
      "metadata": {
        "colab": {
          "base_uri": "https://localhost:8080/",
          "height": 36
        },
        "id": "qLDfjU7V-YK0",
        "outputId": "8f45215f-cb93-4c6c-e0f0-2327e0108c1d"
      },
      "source": [
        "results[0].find('h2').get_text()"
      ],
      "execution_count": null,
      "outputs": [
        {
          "output_type": "execute_result",
          "data": {
            "application/vnd.google.colaboratory.intrinsic+json": {
              "type": "string"
            },
            "text/plain": [
              "'2019 Mercedes-Benz SLC 300 Base'"
            ]
          },
          "metadata": {},
          "execution_count": 10
        }
      ]
    },
    {
      "cell_type": "code",
      "metadata": {
        "colab": {
          "base_uri": "https://localhost:8080/",
          "height": 36
        },
        "id": "Inr6y1tA_gLO",
        "outputId": "4e8455b3-c848-4d91-f65e-8d8407ca7183"
      },
      "source": [
        "results[0].find('div',{'class':'mileage'}).get_text()"
      ],
      "execution_count": null,
      "outputs": [
        {
          "output_type": "execute_result",
          "data": {
            "application/vnd.google.colaboratory.intrinsic+json": {
              "type": "string"
            },
            "text/plain": [
              "'22,248 mi.'"
            ]
          },
          "metadata": {},
          "execution_count": 11
        }
      ]
    },
    {
      "cell_type": "code",
      "metadata": {
        "colab": {
          "base_uri": "https://localhost:8080/",
          "height": 36
        },
        "id": "IfEK81QmACxl",
        "outputId": "336a5ce5-9426-4393-afb0-b5d7323fbb55"
      },
      "source": [
        "results[0].find('span',{'class':'sds-rating__count'}).get_text()"
      ],
      "execution_count": null,
      "outputs": [
        {
          "output_type": "execute_result",
          "data": {
            "application/vnd.google.colaboratory.intrinsic+json": {
              "type": "string"
            },
            "text/plain": [
              "'4.9'"
            ]
          },
          "metadata": {},
          "execution_count": 12
        }
      ]
    },
    {
      "cell_type": "code",
      "metadata": {
        "colab": {
          "base_uri": "https://localhost:8080/",
          "height": 36
        },
        "id": "dhqG699aPJQG",
        "outputId": "7a1bc420-3436-46e7-ff1c-9336147b0ff0"
      },
      "source": [
        "results[0].find('span',{'class':'sds-rating__link sds-button-link'}).get_text()"
      ],
      "execution_count": null,
      "outputs": [
        {
          "output_type": "execute_result",
          "data": {
            "application/vnd.google.colaboratory.intrinsic+json": {
              "type": "string"
            },
            "text/plain": [
              "'(1,072 reviews)'"
            ]
          },
          "metadata": {},
          "execution_count": 13
        }
      ]
    },
    {
      "cell_type": "code",
      "metadata": {
        "colab": {
          "base_uri": "https://localhost:8080/",
          "height": 36
        },
        "id": "QkCmmDQlPlQT",
        "outputId": "5c69bcda-e856-462c-f818-339b061595b0"
      },
      "source": [
        "results[0].find('span',{'class':'sds-rating__link'}).get_text()"
      ],
      "execution_count": null,
      "outputs": [
        {
          "output_type": "execute_result",
          "data": {
            "application/vnd.google.colaboratory.intrinsic+json": {
              "type": "string"
            },
            "text/plain": [
              "'(1,072 reviews)'"
            ]
          },
          "metadata": {},
          "execution_count": 14
        }
      ]
    },
    {
      "cell_type": "code",
      "metadata": {
        "colab": {
          "base_uri": "https://localhost:8080/",
          "height": 36
        },
        "id": "obdhcrgIQP8K",
        "outputId": "5e2edee8-0839-4f39-bd9a-a801b8eefac5"
      },
      "source": [
        "results[0].find('span',{'class':'primary-price'}).get_text()"
      ],
      "execution_count": null,
      "outputs": [
        {
          "output_type": "execute_result",
          "data": {
            "application/vnd.google.colaboratory.intrinsic+json": {
              "type": "string"
            },
            "text/plain": [
              "'$49,988'"
            ]
          },
          "metadata": {},
          "execution_count": 15
        }
      ]
    },
    {
      "cell_type": "code",
      "metadata": {
        "colab": {
          "base_uri": "https://localhost:8080/",
          "height": 36
        },
        "id": "a6Khh40pRLeY",
        "outputId": "903a93fb-b9a2-40ff-adc6-b3218a772dda"
      },
      "source": [
        "results[0].find('div',{'class':'dealer-name'}).get_text()"
      ],
      "execution_count": null,
      "outputs": [
        {
          "output_type": "execute_result",
          "data": {
            "application/vnd.google.colaboratory.intrinsic+json": {
              "type": "string"
            },
            "text/plain": [
              "'\\nMercedes-Benz of North Scottsdale\\n'"
            ]
          },
          "metadata": {},
          "execution_count": 16
        }
      ]
    },
    {
      "cell_type": "code",
      "metadata": {
        "colab": {
          "base_uri": "https://localhost:8080/",
          "height": 36
        },
        "id": "mrpn_5aMRego",
        "outputId": "516d61b6-67cc-4a2c-e0fe-46350b6a7e47"
      },
      "source": [
        "'\\n djsksm sksksl\\n'.strip()   #so that you know what .strip( does)"
      ],
      "execution_count": null,
      "outputs": [
        {
          "output_type": "execute_result",
          "data": {
            "application/vnd.google.colaboratory.intrinsic+json": {
              "type": "string"
            },
            "text/plain": [
              "'djsksm sksksl'"
            ]
          },
          "metadata": {},
          "execution_count": 17
        }
      ]
    },
    {
      "cell_type": "markdown",
      "metadata": {
        "id": "YXDAIXvORosT"
      },
      "source": [
        "###Looping through All results"
      ]
    },
    {
      "cell_type": "markdown",
      "metadata": {
        "id": "pZTa1IwoMeJg"
      },
      "source": [
        "# Creating  an empty list for each data point and then fill them with looping through each data source\n"
      ]
    },
    {
      "cell_type": "code",
      "metadata": {
        "id": "S9ajgc6zNfRd"
      },
      "source": [
        "name=[]\n",
        "milage=[]\n",
        "dealer_name=[]\n",
        "rating=[]\n",
        "rating_count=[]\n",
        "price=[]"
      ],
      "execution_count": null,
      "outputs": []
    },
    {
      "cell_type": "code",
      "metadata": {
        "id": "NHt7fosFN9MK"
      },
      "source": [
        "\n",
        "\n",
        "\n",
        "\n",
        "for i in range(len(results)):\n",
        "  name.append(results[i].find('h2').get_text())\n",
        "  milage.append(results[i].find('div',{'class':'mileage'}).get_text())\n",
        "  dealer_name.append(results[i].find('div',{'class':'dealer-name'}).get_text())\n",
        "  rating.append(results[i].find('span',{'class':'sds-rating__count'}).get_text())\n",
        "  rating_count.append(results[i].find('span',{'class':'sds-rating__link'}).get_text())\n",
        "  price.append(results[i].find('span',{'class':'primary-price'}).get_text())"
      ],
      "execution_count": null,
      "outputs": []
    },
    {
      "cell_type": "code",
      "metadata": {
        "id": "2sJKrjIiPBCW"
      },
      "source": [
        "#Note  In case data points missing use the following the for loop\n",
        "\n",
        "#     for i in range(len(results)):\n",
        "#        try:\n",
        "            #name.append(results[i].find('h2').get_text())\n",
        "#        except:\n",
        "#           name.append('not data')\n",
        "\n",
        "#  This will ensure that if a data poiint is missing from the data , we dont get an error message , and have the not data inputed in the designated list"
      ],
      "execution_count": null,
      "outputs": []
    },
    {
      "cell_type": "markdown",
      "metadata": {
        "id": "64btBz24NpOt"
      },
      "source": [
        "#Create a Pandas data fram"
      ]
    },
    {
      "cell_type": "code",
      "metadata": {
        "id": "CcOCKC61NtF9"
      },
      "source": [
        "df=pd.DataFrame({'Name':name, 'Milage':milage, 'Dealer':dealer_name, 'Rating':rating, 'Rating_count':rating_count, 'Price':price})"
      ],
      "execution_count": null,
      "outputs": []
    },
    {
      "cell_type": "code",
      "metadata": {
        "colab": {
          "base_uri": "https://localhost:8080/",
          "height": 201
        },
        "id": "WzC9xRcQOwD_",
        "outputId": "442b2750-3aab-455a-d2b3-e35d7e72bb8f"
      },
      "source": [
        "df.head(5)"
      ],
      "execution_count": null,
      "outputs": [
        {
          "output_type": "execute_result",
          "data": {
            "text/html": [
              "<div>\n",
              "<style scoped>\n",
              "    .dataframe tbody tr th:only-of-type {\n",
              "        vertical-align: middle;\n",
              "    }\n",
              "\n",
              "    .dataframe tbody tr th {\n",
              "        vertical-align: top;\n",
              "    }\n",
              "\n",
              "    .dataframe thead th {\n",
              "        text-align: right;\n",
              "    }\n",
              "</style>\n",
              "<table border=\"1\" class=\"dataframe\">\n",
              "  <thead>\n",
              "    <tr style=\"text-align: right;\">\n",
              "      <th></th>\n",
              "      <th>Name</th>\n",
              "      <th>Milage</th>\n",
              "      <th>Dealer</th>\n",
              "      <th>Rating</th>\n",
              "      <th>Rating_count</th>\n",
              "      <th>Price</th>\n",
              "    </tr>\n",
              "  </thead>\n",
              "  <tbody>\n",
              "    <tr>\n",
              "      <th>0</th>\n",
              "      <td>2019 Mercedes-Benz SLC 300 Base</td>\n",
              "      <td>22,248 mi.</td>\n",
              "      <td>\\nMercedes-Benz of North Scottsdale\\n</td>\n",
              "      <td>4.9</td>\n",
              "      <td>(1,072 reviews)</td>\n",
              "      <td>$49,988</td>\n",
              "    </tr>\n",
              "    <tr>\n",
              "      <th>1</th>\n",
              "      <td>2020 Mercedes-Benz GLS 450 Base 4MATIC</td>\n",
              "      <td>13,509 mi.</td>\n",
              "      <td>\\nCelebrity Auto Group\\n</td>\n",
              "      <td>3.9</td>\n",
              "      <td>(7 reviews)</td>\n",
              "      <td>$99,500</td>\n",
              "    </tr>\n",
              "    <tr>\n",
              "      <th>2</th>\n",
              "      <td>2016 Mercedes-Benz GLE-Class GLE 350</td>\n",
              "      <td>82,084 mi.</td>\n",
              "      <td>\\nHouston Direct Auto\\n</td>\n",
              "      <td>4.3</td>\n",
              "      <td>(807 reviews)</td>\n",
              "      <td>$26,991</td>\n",
              "    </tr>\n",
              "    <tr>\n",
              "      <th>3</th>\n",
              "      <td>2017 Mercedes-Benz AMG CLS 63 S-Model 4MATIC</td>\n",
              "      <td>58,329 mi.</td>\n",
              "      <td>\\nBM Motorcars\\n</td>\n",
              "      <td>4.5</td>\n",
              "      <td>(1,264 reviews)</td>\n",
              "      <td>$56,795</td>\n",
              "    </tr>\n",
              "    <tr>\n",
              "      <th>4</th>\n",
              "      <td>2017 Mercedes-Benz CLS 550 Base 4MATIC</td>\n",
              "      <td>23,687 mi.</td>\n",
              "      <td>\\n21 Century Auto Group\\n</td>\n",
              "      <td>4.4</td>\n",
              "      <td>(2,648 reviews)</td>\n",
              "      <td>$44,921</td>\n",
              "    </tr>\n",
              "  </tbody>\n",
              "</table>\n",
              "</div>"
            ],
            "text/plain": [
              "                                           Name  ...    Price\n",
              "0               2019 Mercedes-Benz SLC 300 Base  ...  $49,988\n",
              "1        2020 Mercedes-Benz GLS 450 Base 4MATIC  ...  $99,500\n",
              "2          2016 Mercedes-Benz GLE-Class GLE 350  ...  $26,991\n",
              "3  2017 Mercedes-Benz AMG CLS 63 S-Model 4MATIC  ...  $56,795\n",
              "4        2017 Mercedes-Benz CLS 550 Base 4MATIC  ...  $44,921\n",
              "\n",
              "[5 rows x 6 columns]"
            ]
          },
          "metadata": {},
          "execution_count": 45
        }
      ]
    },
    {
      "cell_type": "code",
      "metadata": {
        "id": "KM_IpSP6TlDX"
      },
      "source": [
        "# Lets clean up the data"
      ],
      "execution_count": null,
      "outputs": []
    },
    {
      "cell_type": "code",
      "metadata": {
        "id": "C3RoqENMTzVa"
      },
      "source": [
        "df['Rating_count']=df['Rating_count'].apply(lambda X: X.strip('reviews)').strip('('))"
      ],
      "execution_count": null,
      "outputs": []
    },
    {
      "cell_type": "code",
      "metadata": {
        "colab": {
          "base_uri": "https://localhost:8080/",
          "height": 109
        },
        "id": "g8Bd9KYuUNjC",
        "outputId": "84479b75-56db-4ef5-de4f-ddfa89139e68"
      },
      "source": [
        "df.head(2)"
      ],
      "execution_count": null,
      "outputs": [
        {
          "output_type": "execute_result",
          "data": {
            "text/html": [
              "<div>\n",
              "<style scoped>\n",
              "    .dataframe tbody tr th:only-of-type {\n",
              "        vertical-align: middle;\n",
              "    }\n",
              "\n",
              "    .dataframe tbody tr th {\n",
              "        vertical-align: top;\n",
              "    }\n",
              "\n",
              "    .dataframe thead th {\n",
              "        text-align: right;\n",
              "    }\n",
              "</style>\n",
              "<table border=\"1\" class=\"dataframe\">\n",
              "  <thead>\n",
              "    <tr style=\"text-align: right;\">\n",
              "      <th></th>\n",
              "      <th>Name</th>\n",
              "      <th>Milage</th>\n",
              "      <th>Dealer</th>\n",
              "      <th>Rating</th>\n",
              "      <th>Rating_count</th>\n",
              "      <th>Price</th>\n",
              "    </tr>\n",
              "  </thead>\n",
              "  <tbody>\n",
              "    <tr>\n",
              "      <th>0</th>\n",
              "      <td>2019 Mercedes-Benz SLC 300 Base</td>\n",
              "      <td>22,248 mi.</td>\n",
              "      <td>\\nMercedes-Benz of North Scottsdale\\n</td>\n",
              "      <td>4.9</td>\n",
              "      <td>1,072</td>\n",
              "      <td>$49,988</td>\n",
              "    </tr>\n",
              "    <tr>\n",
              "      <th>1</th>\n",
              "      <td>2020 Mercedes-Benz GLS 450 Base 4MATIC</td>\n",
              "      <td>13,509 mi.</td>\n",
              "      <td>\\nCelebrity Auto Group\\n</td>\n",
              "      <td>3.9</td>\n",
              "      <td>7</td>\n",
              "      <td>$99,500</td>\n",
              "    </tr>\n",
              "  </tbody>\n",
              "</table>\n",
              "</div>"
            ],
            "text/plain": [
              "                                     Name      Milage  ... Rating_count    Price\n",
              "0         2019 Mercedes-Benz SLC 300 Base  22,248 mi.  ...       1,072   $49,988\n",
              "1  2020 Mercedes-Benz GLS 450 Base 4MATIC  13,509 mi.  ...           7   $99,500\n",
              "\n",
              "[2 rows x 6 columns]"
            ]
          },
          "metadata": {},
          "execution_count": 48
        }
      ]
    },
    {
      "cell_type": "code",
      "metadata": {
        "id": "R9h07swUU1qi"
      },
      "source": [
        "df['Price']=df['Price'].apply(lambda X:X.strip('$'))"
      ],
      "execution_count": null,
      "outputs": []
    },
    {
      "cell_type": "code",
      "metadata": {
        "colab": {
          "base_uri": "https://localhost:8080/",
          "height": 109
        },
        "id": "QuYnlVQyVyJW",
        "outputId": "a8d407a0-b656-417b-f461-f9910ed3c0f7"
      },
      "source": [
        "df.head(2)"
      ],
      "execution_count": null,
      "outputs": [
        {
          "output_type": "execute_result",
          "data": {
            "text/html": [
              "<div>\n",
              "<style scoped>\n",
              "    .dataframe tbody tr th:only-of-type {\n",
              "        vertical-align: middle;\n",
              "    }\n",
              "\n",
              "    .dataframe tbody tr th {\n",
              "        vertical-align: top;\n",
              "    }\n",
              "\n",
              "    .dataframe thead th {\n",
              "        text-align: right;\n",
              "    }\n",
              "</style>\n",
              "<table border=\"1\" class=\"dataframe\">\n",
              "  <thead>\n",
              "    <tr style=\"text-align: right;\">\n",
              "      <th></th>\n",
              "      <th>Name</th>\n",
              "      <th>Milage</th>\n",
              "      <th>Dealer</th>\n",
              "      <th>Rating</th>\n",
              "      <th>Rating_count</th>\n",
              "      <th>Price</th>\n",
              "    </tr>\n",
              "  </thead>\n",
              "  <tbody>\n",
              "    <tr>\n",
              "      <th>0</th>\n",
              "      <td>2019 Mercedes-Benz SLC 300 Base</td>\n",
              "      <td>22,248 mi.</td>\n",
              "      <td>\\nMercedes-Benz of North Scottsdale\\n</td>\n",
              "      <td>4.9</td>\n",
              "      <td>1,072</td>\n",
              "      <td>49,988</td>\n",
              "    </tr>\n",
              "    <tr>\n",
              "      <th>1</th>\n",
              "      <td>2020 Mercedes-Benz GLS 450 Base 4MATIC</td>\n",
              "      <td>13,509 mi.</td>\n",
              "      <td>\\nCelebrity Auto Group\\n</td>\n",
              "      <td>3.9</td>\n",
              "      <td>7</td>\n",
              "      <td>99,500</td>\n",
              "    </tr>\n",
              "  </tbody>\n",
              "</table>\n",
              "</div>"
            ],
            "text/plain": [
              "                                     Name      Milage  ... Rating_count   Price\n",
              "0         2019 Mercedes-Benz SLC 300 Base  22,248 mi.  ...       1,072   49,988\n",
              "1  2020 Mercedes-Benz GLS 450 Base 4MATIC  13,509 mi.  ...           7   99,500\n",
              "\n",
              "[2 rows x 6 columns]"
            ]
          },
          "metadata": {},
          "execution_count": 50
        }
      ]
    },
    {
      "cell_type": "code",
      "metadata": {
        "id": "vi7L2xgBVzc1"
      },
      "source": [
        "df['Dealer']=df['Dealer'].apply(lambda X: X.strip())"
      ],
      "execution_count": null,
      "outputs": []
    },
    {
      "cell_type": "code",
      "metadata": {
        "colab": {
          "base_uri": "https://localhost:8080/",
          "height": 109
        },
        "id": "s9i-JbuAWAsB",
        "outputId": "463f489d-068c-487e-e862-4716fcc53e66"
      },
      "source": [
        "df.head(2)"
      ],
      "execution_count": null,
      "outputs": [
        {
          "output_type": "execute_result",
          "data": {
            "text/html": [
              "<div>\n",
              "<style scoped>\n",
              "    .dataframe tbody tr th:only-of-type {\n",
              "        vertical-align: middle;\n",
              "    }\n",
              "\n",
              "    .dataframe tbody tr th {\n",
              "        vertical-align: top;\n",
              "    }\n",
              "\n",
              "    .dataframe thead th {\n",
              "        text-align: right;\n",
              "    }\n",
              "</style>\n",
              "<table border=\"1\" class=\"dataframe\">\n",
              "  <thead>\n",
              "    <tr style=\"text-align: right;\">\n",
              "      <th></th>\n",
              "      <th>Name</th>\n",
              "      <th>Milage</th>\n",
              "      <th>Dealer</th>\n",
              "      <th>Rating</th>\n",
              "      <th>Rating_count</th>\n",
              "      <th>Price</th>\n",
              "    </tr>\n",
              "  </thead>\n",
              "  <tbody>\n",
              "    <tr>\n",
              "      <th>0</th>\n",
              "      <td>2019 Mercedes-Benz SLC 300 Base</td>\n",
              "      <td>22,248 mi.</td>\n",
              "      <td>Mercedes-Benz of North Scottsdale</td>\n",
              "      <td>4.9</td>\n",
              "      <td>1,072</td>\n",
              "      <td>49,988</td>\n",
              "    </tr>\n",
              "    <tr>\n",
              "      <th>1</th>\n",
              "      <td>2020 Mercedes-Benz GLS 450 Base 4MATIC</td>\n",
              "      <td>13,509 mi.</td>\n",
              "      <td>Celebrity Auto Group</td>\n",
              "      <td>3.9</td>\n",
              "      <td>7</td>\n",
              "      <td>99,500</td>\n",
              "    </tr>\n",
              "  </tbody>\n",
              "</table>\n",
              "</div>"
            ],
            "text/plain": [
              "                                     Name      Milage  ... Rating_count   Price\n",
              "0         2019 Mercedes-Benz SLC 300 Base  22,248 mi.  ...       1,072   49,988\n",
              "1  2020 Mercedes-Benz GLS 450 Base 4MATIC  13,509 mi.  ...           7   99,500\n",
              "\n",
              "[2 rows x 6 columns]"
            ]
          },
          "metadata": {},
          "execution_count": 52
        }
      ]
    },
    {
      "cell_type": "code",
      "metadata": {
        "id": "TsBVDRNbWCCP"
      },
      "source": [
        "df['Milage']=df['Milage'].apply(lambda X: X.strip('mi'))"
      ],
      "execution_count": null,
      "outputs": []
    },
    {
      "cell_type": "code",
      "metadata": {
        "colab": {
          "base_uri": "https://localhost:8080/",
          "height": 109
        },
        "id": "SfpnbbJ9WRW8",
        "outputId": "174866e0-311b-41a7-f3bd-1042c34cedff"
      },
      "source": [
        "df.head(2)"
      ],
      "execution_count": null,
      "outputs": [
        {
          "output_type": "execute_result",
          "data": {
            "text/html": [
              "<div>\n",
              "<style scoped>\n",
              "    .dataframe tbody tr th:only-of-type {\n",
              "        vertical-align: middle;\n",
              "    }\n",
              "\n",
              "    .dataframe tbody tr th {\n",
              "        vertical-align: top;\n",
              "    }\n",
              "\n",
              "    .dataframe thead th {\n",
              "        text-align: right;\n",
              "    }\n",
              "</style>\n",
              "<table border=\"1\" class=\"dataframe\">\n",
              "  <thead>\n",
              "    <tr style=\"text-align: right;\">\n",
              "      <th></th>\n",
              "      <th>Name</th>\n",
              "      <th>Milage</th>\n",
              "      <th>Dealer</th>\n",
              "      <th>Rating</th>\n",
              "      <th>Rating_count</th>\n",
              "      <th>Price</th>\n",
              "    </tr>\n",
              "  </thead>\n",
              "  <tbody>\n",
              "    <tr>\n",
              "      <th>0</th>\n",
              "      <td>2019 Mercedes-Benz SLC 300 Base</td>\n",
              "      <td>22,248 mi.</td>\n",
              "      <td>Mercedes-Benz of North Scottsdale</td>\n",
              "      <td>4.9</td>\n",
              "      <td>1,072</td>\n",
              "      <td>49,988</td>\n",
              "    </tr>\n",
              "    <tr>\n",
              "      <th>1</th>\n",
              "      <td>2020 Mercedes-Benz GLS 450 Base 4MATIC</td>\n",
              "      <td>13,509 mi.</td>\n",
              "      <td>Celebrity Auto Group</td>\n",
              "      <td>3.9</td>\n",
              "      <td>7</td>\n",
              "      <td>99,500</td>\n",
              "    </tr>\n",
              "  </tbody>\n",
              "</table>\n",
              "</div>"
            ],
            "text/plain": [
              "                                     Name      Milage  ... Rating_count   Price\n",
              "0         2019 Mercedes-Benz SLC 300 Base  22,248 mi.  ...       1,072   49,988\n",
              "1  2020 Mercedes-Benz GLS 450 Base 4MATIC  13,509 mi.  ...           7   99,500\n",
              "\n",
              "[2 rows x 6 columns]"
            ]
          },
          "metadata": {},
          "execution_count": 55
        }
      ]
    },
    {
      "cell_type": "code",
      "metadata": {
        "id": "vCEuAtbRWSqj"
      },
      "source": [
        "df.to_excel('Benz.xlsx',index=False)"
      ],
      "execution_count": null,
      "outputs": []
    },
    {
      "cell_type": "code",
      "metadata": {
        "id": "RSBc7K9OdCAU"
      },
      "source": [
        "# So far we only Got results from one page,   how about all the pages available?"
      ],
      "execution_count": null,
      "outputs": []
    },
    {
      "cell_type": "code",
      "metadata": {
        "id": "XpPGdwkedaV9"
      },
      "source": [
        "#We need to Implement some modifications to our codes, so  lets copy this code and modify it"
      ],
      "execution_count": null,
      "outputs": []
    },
    {
      "cell_type": "code",
      "metadata": {
        "id": "jwklII-odlKA"
      },
      "source": [
        ""
      ],
      "execution_count": null,
      "outputs": []
    }
  ]
}