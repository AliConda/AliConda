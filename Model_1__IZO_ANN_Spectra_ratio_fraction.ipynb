{
  "nbformat": 4,
  "nbformat_minor": 0,
  "metadata": {
    "colab": {
      "name": "Model_1_ IZO ANN Spectra ratio fraction",
      "provenance": [],
      "authorship_tag": "ABX9TyPbrRIVtPWugXQMdaQRHnoa",
      "include_colab_link": true
    },
    "kernelspec": {
      "name": "python3",
      "display_name": "Python 3"
    },
    "language_info": {
      "name": "python"
    },
    "accelerator": "GPU"
  },
  "cells": [
    {
      "cell_type": "markdown",
      "metadata": {
        "id": "view-in-github",
        "colab_type": "text"
      },
      "source": [
        "<a href=\"https://colab.research.google.com/github/AliConda/AliConda/blob/main/Model_1__IZO_ANN_Spectra_ratio_fraction.ipynb\" target=\"_parent\"><img src=\"https://colab.research.google.com/assets/colab-badge.svg\" alt=\"Open In Colab\"/></a>"
      ]
    },
    {
      "cell_type": "code",
      "metadata": {
        "id": "N4a4lgpOAze0"
      },
      "source": [
        "import pandas as pd\n",
        "import tensorflow as tf\n",
        "import numpy as np\n",
        "import matplotlib.pyplot as plt"
      ],
      "execution_count": null,
      "outputs": []
    },
    {
      "cell_type": "code",
      "metadata": {
        "id": "7CX6XOowBEIm"
      },
      "source": [
        "df_raw=pd.read_excel('IZO_zeroed and scaled sum.xlsx')\n",
        "df_reserve=pd.read_excel('Full_IZO_spectral_ann.xlsx')"
      ],
      "execution_count": null,
      "outputs": []
    },
    {
      "cell_type": "code",
      "metadata": {
        "colab": {
          "base_uri": "https://localhost:8080/",
          "height": 262
        },
        "id": "8_HrC8QFBZLC",
        "outputId": "cb348689-945f-4f83-9678-4d36375d52a3"
      },
      "source": [
        "df_raw.head(3)"
      ],
      "execution_count": null,
      "outputs": [
        {
          "output_type": "execute_result",
          "data": {
            "text/html": [
              "<div>\n",
              "<style scoped>\n",
              "    .dataframe tbody tr th:only-of-type {\n",
              "        vertical-align: middle;\n",
              "    }\n",
              "\n",
              "    .dataframe tbody tr th {\n",
              "        vertical-align: top;\n",
              "    }\n",
              "\n",
              "    .dataframe thead th {\n",
              "        text-align: right;\n",
              "    }\n",
              "</style>\n",
              "<table border=\"1\" class=\"dataframe\">\n",
              "  <thead>\n",
              "    <tr style=\"text-align: right;\">\n",
              "      <th></th>\n",
              "      <th>Unnamed: 0</th>\n",
              "      <th>195</th>\n",
              "      <th>195.2</th>\n",
              "      <th>195.4</th>\n",
              "      <th>195.6</th>\n",
              "      <th>195.8</th>\n",
              "      <th>196</th>\n",
              "      <th>196.2</th>\n",
              "      <th>196.4</th>\n",
              "      <th>196.6</th>\n",
              "      <th>196.8</th>\n",
              "      <th>197</th>\n",
              "      <th>197.2</th>\n",
              "      <th>197.4</th>\n",
              "      <th>197.6</th>\n",
              "      <th>197.8</th>\n",
              "      <th>198</th>\n",
              "      <th>198.2</th>\n",
              "      <th>198.4</th>\n",
              "      <th>198.6</th>\n",
              "      <th>198.8</th>\n",
              "      <th>199</th>\n",
              "      <th>199.2</th>\n",
              "      <th>199.4</th>\n",
              "      <th>199.6</th>\n",
              "      <th>199.8</th>\n",
              "      <th>200</th>\n",
              "      <th>200.2</th>\n",
              "      <th>200.4</th>\n",
              "      <th>200.6</th>\n",
              "      <th>200.8</th>\n",
              "      <th>201</th>\n",
              "      <th>201.2</th>\n",
              "      <th>201.4</th>\n",
              "      <th>201.6</th>\n",
              "      <th>201.8</th>\n",
              "      <th>202</th>\n",
              "      <th>202.2</th>\n",
              "      <th>202.4</th>\n",
              "      <th>202.6</th>\n",
              "      <th>...</th>\n",
              "      <th>1097.2</th>\n",
              "      <th>1097.4</th>\n",
              "      <th>1097.6</th>\n",
              "      <th>1097.8</th>\n",
              "      <th>1098</th>\n",
              "      <th>1098.2</th>\n",
              "      <th>1098.4</th>\n",
              "      <th>1098.6</th>\n",
              "      <th>1098.8</th>\n",
              "      <th>1099</th>\n",
              "      <th>1099.2</th>\n",
              "      <th>1099.4</th>\n",
              "      <th>1099.6</th>\n",
              "      <th>1099.8</th>\n",
              "      <th>1100</th>\n",
              "      <th>1100.2</th>\n",
              "      <th>1100.4</th>\n",
              "      <th>1100.6</th>\n",
              "      <th>1100.8</th>\n",
              "      <th>1101</th>\n",
              "      <th>1101.2</th>\n",
              "      <th>1101.4</th>\n",
              "      <th>1101.6</th>\n",
              "      <th>1101.8</th>\n",
              "      <th>1102</th>\n",
              "      <th>1102.2</th>\n",
              "      <th>1102.4</th>\n",
              "      <th>1102.6</th>\n",
              "      <th>1102.8</th>\n",
              "      <th>1103</th>\n",
              "      <th>1103.2</th>\n",
              "      <th>1103.4</th>\n",
              "      <th>1103.6</th>\n",
              "      <th>1103.8</th>\n",
              "      <th>1104</th>\n",
              "      <th>1104.2</th>\n",
              "      <th>1104.4</th>\n",
              "      <th>1104.6</th>\n",
              "      <th>1104.8</th>\n",
              "      <th>sum</th>\n",
              "    </tr>\n",
              "  </thead>\n",
              "  <tbody>\n",
              "    <tr>\n",
              "      <th>0</th>\n",
              "      <td>0</td>\n",
              "      <td>0</td>\n",
              "      <td>0.000002</td>\n",
              "      <td>6.339045e-07</td>\n",
              "      <td>0.000000</td>\n",
              "      <td>0.0</td>\n",
              "      <td>0</td>\n",
              "      <td>0.0</td>\n",
              "      <td>0.0</td>\n",
              "      <td>0.000000</td>\n",
              "      <td>0.000000</td>\n",
              "      <td>0.000000</td>\n",
              "      <td>6.995184e-07</td>\n",
              "      <td>0.000003</td>\n",
              "      <td>0.000008</td>\n",
              "      <td>0.000014</td>\n",
              "      <td>0.000018</td>\n",
              "      <td>0.000014</td>\n",
              "      <td>9.434174e-06</td>\n",
              "      <td>4.883140e-06</td>\n",
              "      <td>0.000002</td>\n",
              "      <td>0.0</td>\n",
              "      <td>0</td>\n",
              "      <td>0.0</td>\n",
              "      <td>0.000002</td>\n",
              "      <td>3.138990e-06</td>\n",
              "      <td>9.822319e-07</td>\n",
              "      <td>0.0</td>\n",
              "      <td>0</td>\n",
              "      <td>0</td>\n",
              "      <td>0.000000e+00</td>\n",
              "      <td>0.000000</td>\n",
              "      <td>0.000000</td>\n",
              "      <td>0.000000</td>\n",
              "      <td>0.000000e+00</td>\n",
              "      <td>0.0</td>\n",
              "      <td>0.0</td>\n",
              "      <td>1.604555e-07</td>\n",
              "      <td>0.0</td>\n",
              "      <td>0</td>\n",
              "      <td>...</td>\n",
              "      <td>0</td>\n",
              "      <td>0</td>\n",
              "      <td>0.000000</td>\n",
              "      <td>0.0</td>\n",
              "      <td>0</td>\n",
              "      <td>0</td>\n",
              "      <td>0</td>\n",
              "      <td>0</td>\n",
              "      <td>0</td>\n",
              "      <td>0</td>\n",
              "      <td>0</td>\n",
              "      <td>0</td>\n",
              "      <td>0</td>\n",
              "      <td>0</td>\n",
              "      <td>0</td>\n",
              "      <td>0</td>\n",
              "      <td>0</td>\n",
              "      <td>0</td>\n",
              "      <td>0</td>\n",
              "      <td>0</td>\n",
              "      <td>0</td>\n",
              "      <td>0</td>\n",
              "      <td>0</td>\n",
              "      <td>0</td>\n",
              "      <td>0</td>\n",
              "      <td>0</td>\n",
              "      <td>0</td>\n",
              "      <td>0</td>\n",
              "      <td>0</td>\n",
              "      <td>0</td>\n",
              "      <td>0</td>\n",
              "      <td>0</td>\n",
              "      <td>0</td>\n",
              "      <td>0</td>\n",
              "      <td>0</td>\n",
              "      <td>0</td>\n",
              "      <td>0</td>\n",
              "      <td>0</td>\n",
              "      <td>0</td>\n",
              "      <td>1</td>\n",
              "    </tr>\n",
              "    <tr>\n",
              "      <th>1</th>\n",
              "      <td>1</td>\n",
              "      <td>0</td>\n",
              "      <td>0.000000</td>\n",
              "      <td>0.000000e+00</td>\n",
              "      <td>0.000000</td>\n",
              "      <td>0.0</td>\n",
              "      <td>0</td>\n",
              "      <td>0.0</td>\n",
              "      <td>0.0</td>\n",
              "      <td>0.000001</td>\n",
              "      <td>0.000006</td>\n",
              "      <td>0.000005</td>\n",
              "      <td>4.400519e-06</td>\n",
              "      <td>0.000004</td>\n",
              "      <td>0.000006</td>\n",
              "      <td>0.000008</td>\n",
              "      <td>0.000009</td>\n",
              "      <td>0.000005</td>\n",
              "      <td>2.217574e-07</td>\n",
              "      <td>0.000000e+00</td>\n",
              "      <td>0.000000</td>\n",
              "      <td>0.0</td>\n",
              "      <td>0</td>\n",
              "      <td>0.0</td>\n",
              "      <td>0.000000</td>\n",
              "      <td>5.029072e-07</td>\n",
              "      <td>0.000000e+00</td>\n",
              "      <td>0.0</td>\n",
              "      <td>0</td>\n",
              "      <td>0</td>\n",
              "      <td>6.303286e-08</td>\n",
              "      <td>0.000002</td>\n",
              "      <td>0.000002</td>\n",
              "      <td>0.000001</td>\n",
              "      <td>4.746836e-07</td>\n",
              "      <td>0.0</td>\n",
              "      <td>0.0</td>\n",
              "      <td>0.000000e+00</td>\n",
              "      <td>0.0</td>\n",
              "      <td>0</td>\n",
              "      <td>...</td>\n",
              "      <td>0</td>\n",
              "      <td>0</td>\n",
              "      <td>0.000000</td>\n",
              "      <td>0.0</td>\n",
              "      <td>0</td>\n",
              "      <td>0</td>\n",
              "      <td>0</td>\n",
              "      <td>0</td>\n",
              "      <td>0</td>\n",
              "      <td>0</td>\n",
              "      <td>0</td>\n",
              "      <td>0</td>\n",
              "      <td>0</td>\n",
              "      <td>0</td>\n",
              "      <td>0</td>\n",
              "      <td>0</td>\n",
              "      <td>0</td>\n",
              "      <td>0</td>\n",
              "      <td>0</td>\n",
              "      <td>0</td>\n",
              "      <td>0</td>\n",
              "      <td>0</td>\n",
              "      <td>0</td>\n",
              "      <td>0</td>\n",
              "      <td>0</td>\n",
              "      <td>0</td>\n",
              "      <td>0</td>\n",
              "      <td>0</td>\n",
              "      <td>0</td>\n",
              "      <td>0</td>\n",
              "      <td>0</td>\n",
              "      <td>0</td>\n",
              "      <td>0</td>\n",
              "      <td>0</td>\n",
              "      <td>0</td>\n",
              "      <td>0</td>\n",
              "      <td>0</td>\n",
              "      <td>0</td>\n",
              "      <td>0</td>\n",
              "      <td>1</td>\n",
              "    </tr>\n",
              "    <tr>\n",
              "      <th>2</th>\n",
              "      <td>2</td>\n",
              "      <td>0</td>\n",
              "      <td>0.000004</td>\n",
              "      <td>4.009876e-06</td>\n",
              "      <td>0.000003</td>\n",
              "      <td>0.0</td>\n",
              "      <td>0</td>\n",
              "      <td>0.0</td>\n",
              "      <td>0.0</td>\n",
              "      <td>0.000000</td>\n",
              "      <td>0.000003</td>\n",
              "      <td>0.000004</td>\n",
              "      <td>5.331071e-06</td>\n",
              "      <td>0.000006</td>\n",
              "      <td>0.000009</td>\n",
              "      <td>0.000012</td>\n",
              "      <td>0.000014</td>\n",
              "      <td>0.000010</td>\n",
              "      <td>5.345027e-06</td>\n",
              "      <td>9.396877e-07</td>\n",
              "      <td>0.000000</td>\n",
              "      <td>0.0</td>\n",
              "      <td>0</td>\n",
              "      <td>0.0</td>\n",
              "      <td>0.000005</td>\n",
              "      <td>1.084514e-05</td>\n",
              "      <td>6.023756e-06</td>\n",
              "      <td>0.0</td>\n",
              "      <td>0</td>\n",
              "      <td>0</td>\n",
              "      <td>0.000000e+00</td>\n",
              "      <td>0.000000</td>\n",
              "      <td>0.000001</td>\n",
              "      <td>0.000002</td>\n",
              "      <td>2.889537e-06</td>\n",
              "      <td>0.0</td>\n",
              "      <td>0.0</td>\n",
              "      <td>0.000000e+00</td>\n",
              "      <td>0.0</td>\n",
              "      <td>0</td>\n",
              "      <td>...</td>\n",
              "      <td>0</td>\n",
              "      <td>0</td>\n",
              "      <td>0.000001</td>\n",
              "      <td>0.0</td>\n",
              "      <td>0</td>\n",
              "      <td>0</td>\n",
              "      <td>0</td>\n",
              "      <td>0</td>\n",
              "      <td>0</td>\n",
              "      <td>0</td>\n",
              "      <td>0</td>\n",
              "      <td>0</td>\n",
              "      <td>0</td>\n",
              "      <td>0</td>\n",
              "      <td>0</td>\n",
              "      <td>0</td>\n",
              "      <td>0</td>\n",
              "      <td>0</td>\n",
              "      <td>0</td>\n",
              "      <td>0</td>\n",
              "      <td>0</td>\n",
              "      <td>0</td>\n",
              "      <td>0</td>\n",
              "      <td>0</td>\n",
              "      <td>0</td>\n",
              "      <td>0</td>\n",
              "      <td>0</td>\n",
              "      <td>0</td>\n",
              "      <td>0</td>\n",
              "      <td>0</td>\n",
              "      <td>0</td>\n",
              "      <td>0</td>\n",
              "      <td>0</td>\n",
              "      <td>0</td>\n",
              "      <td>0</td>\n",
              "      <td>0</td>\n",
              "      <td>0</td>\n",
              "      <td>0</td>\n",
              "      <td>0</td>\n",
              "      <td>1</td>\n",
              "    </tr>\n",
              "  </tbody>\n",
              "</table>\n",
              "<p>3 rows × 4552 columns</p>\n",
              "</div>"
            ],
            "text/plain": [
              "   Unnamed: 0  195     195.2         195.4  ...  1104.4  1104.6  1104.8  sum\n",
              "0           0    0  0.000002  6.339045e-07  ...       0       0       0    1\n",
              "1           1    0  0.000000  0.000000e+00  ...       0       0       0    1\n",
              "2           2    0  0.000004  4.009876e-06  ...       0       0       0    1\n",
              "\n",
              "[3 rows x 4552 columns]"
            ]
          },
          "metadata": {},
          "execution_count": 35
        }
      ]
    },
    {
      "cell_type": "code",
      "metadata": {
        "colab": {
          "base_uri": "https://localhost:8080/"
        },
        "id": "KnBXeTD-BcSI",
        "outputId": "82c34ffb-8da9-4bdd-988f-f72e95aaa353"
      },
      "source": [
        "df_raw.shape"
      ],
      "execution_count": null,
      "outputs": [
        {
          "output_type": "execute_result",
          "data": {
            "text/plain": [
              "(113, 4552)"
            ]
          },
          "metadata": {},
          "execution_count": 36
        }
      ]
    },
    {
      "cell_type": "code",
      "metadata": {
        "id": "fNiWgj7NBj8o"
      },
      "source": [
        "df_raw=df_raw.drop('sum',axis=1)\n"
      ],
      "execution_count": null,
      "outputs": []
    },
    {
      "cell_type": "code",
      "metadata": {
        "id": "FByLyiOiME3w"
      },
      "source": [
        "df_raw['sheet']=df_reserve['sheet']"
      ],
      "execution_count": null,
      "outputs": []
    },
    {
      "cell_type": "code",
      "metadata": {
        "colab": {
          "base_uri": "https://localhost:8080/"
        },
        "id": "KgQCQ7apMEuB",
        "outputId": "9e913ea5-681d-4729-f695-86047f7628db"
      },
      "source": [
        "df_raw.shape"
      ],
      "execution_count": null,
      "outputs": [
        {
          "output_type": "execute_result",
          "data": {
            "text/plain": [
              "(113, 4552)"
            ]
          },
          "metadata": {},
          "execution_count": 39
        }
      ]
    },
    {
      "cell_type": "code",
      "metadata": {
        "id": "k3TIym2MQ1Yl"
      },
      "source": [
        "#df_raw.to_excel('IZO_zeroed and sum.xlsx')"
      ],
      "execution_count": null,
      "outputs": []
    },
    {
      "cell_type": "code",
      "metadata": {
        "colab": {
          "base_uri": "https://localhost:8080/",
          "height": 262
        },
        "id": "P3V8Ee-jPhwN",
        "outputId": "5ce8c84c-30dc-4786-be20-2933797be2ed"
      },
      "source": [
        "#df_raw.iloc[0,4550]\n",
        "df_raw.head(3)"
      ],
      "execution_count": null,
      "outputs": [
        {
          "output_type": "execute_result",
          "data": {
            "text/html": [
              "<div>\n",
              "<style scoped>\n",
              "    .dataframe tbody tr th:only-of-type {\n",
              "        vertical-align: middle;\n",
              "    }\n",
              "\n",
              "    .dataframe tbody tr th {\n",
              "        vertical-align: top;\n",
              "    }\n",
              "\n",
              "    .dataframe thead th {\n",
              "        text-align: right;\n",
              "    }\n",
              "</style>\n",
              "<table border=\"1\" class=\"dataframe\">\n",
              "  <thead>\n",
              "    <tr style=\"text-align: right;\">\n",
              "      <th></th>\n",
              "      <th>Unnamed: 0</th>\n",
              "      <th>195</th>\n",
              "      <th>195.2</th>\n",
              "      <th>195.4</th>\n",
              "      <th>195.6</th>\n",
              "      <th>195.8</th>\n",
              "      <th>196</th>\n",
              "      <th>196.2</th>\n",
              "      <th>196.4</th>\n",
              "      <th>196.6</th>\n",
              "      <th>196.8</th>\n",
              "      <th>197</th>\n",
              "      <th>197.2</th>\n",
              "      <th>197.4</th>\n",
              "      <th>197.6</th>\n",
              "      <th>197.8</th>\n",
              "      <th>198</th>\n",
              "      <th>198.2</th>\n",
              "      <th>198.4</th>\n",
              "      <th>198.6</th>\n",
              "      <th>198.8</th>\n",
              "      <th>199</th>\n",
              "      <th>199.2</th>\n",
              "      <th>199.4</th>\n",
              "      <th>199.6</th>\n",
              "      <th>199.8</th>\n",
              "      <th>200</th>\n",
              "      <th>200.2</th>\n",
              "      <th>200.4</th>\n",
              "      <th>200.6</th>\n",
              "      <th>200.8</th>\n",
              "      <th>201</th>\n",
              "      <th>201.2</th>\n",
              "      <th>201.4</th>\n",
              "      <th>201.6</th>\n",
              "      <th>201.8</th>\n",
              "      <th>202</th>\n",
              "      <th>202.2</th>\n",
              "      <th>202.4</th>\n",
              "      <th>202.6</th>\n",
              "      <th>...</th>\n",
              "      <th>1097.2</th>\n",
              "      <th>1097.4</th>\n",
              "      <th>1097.6</th>\n",
              "      <th>1097.8</th>\n",
              "      <th>1098</th>\n",
              "      <th>1098.2</th>\n",
              "      <th>1098.4</th>\n",
              "      <th>1098.6</th>\n",
              "      <th>1098.8</th>\n",
              "      <th>1099</th>\n",
              "      <th>1099.2</th>\n",
              "      <th>1099.4</th>\n",
              "      <th>1099.6</th>\n",
              "      <th>1099.8</th>\n",
              "      <th>1100</th>\n",
              "      <th>1100.2</th>\n",
              "      <th>1100.4</th>\n",
              "      <th>1100.6</th>\n",
              "      <th>1100.8</th>\n",
              "      <th>1101</th>\n",
              "      <th>1101.2</th>\n",
              "      <th>1101.4</th>\n",
              "      <th>1101.6</th>\n",
              "      <th>1101.8</th>\n",
              "      <th>1102</th>\n",
              "      <th>1102.2</th>\n",
              "      <th>1102.4</th>\n",
              "      <th>1102.6</th>\n",
              "      <th>1102.8</th>\n",
              "      <th>1103</th>\n",
              "      <th>1103.2</th>\n",
              "      <th>1103.4</th>\n",
              "      <th>1103.6</th>\n",
              "      <th>1103.8</th>\n",
              "      <th>1104</th>\n",
              "      <th>1104.2</th>\n",
              "      <th>1104.4</th>\n",
              "      <th>1104.6</th>\n",
              "      <th>1104.8</th>\n",
              "      <th>sheet</th>\n",
              "    </tr>\n",
              "  </thead>\n",
              "  <tbody>\n",
              "    <tr>\n",
              "      <th>0</th>\n",
              "      <td>0</td>\n",
              "      <td>0</td>\n",
              "      <td>0.000002</td>\n",
              "      <td>6.339045e-07</td>\n",
              "      <td>0.000000</td>\n",
              "      <td>0.0</td>\n",
              "      <td>0</td>\n",
              "      <td>0.0</td>\n",
              "      <td>0.0</td>\n",
              "      <td>0.000000</td>\n",
              "      <td>0.000000</td>\n",
              "      <td>0.000000</td>\n",
              "      <td>6.995184e-07</td>\n",
              "      <td>0.000003</td>\n",
              "      <td>0.000008</td>\n",
              "      <td>0.000014</td>\n",
              "      <td>0.000018</td>\n",
              "      <td>0.000014</td>\n",
              "      <td>9.434174e-06</td>\n",
              "      <td>4.883140e-06</td>\n",
              "      <td>0.000002</td>\n",
              "      <td>0.0</td>\n",
              "      <td>0</td>\n",
              "      <td>0.0</td>\n",
              "      <td>0.000002</td>\n",
              "      <td>3.138990e-06</td>\n",
              "      <td>9.822319e-07</td>\n",
              "      <td>0.0</td>\n",
              "      <td>0</td>\n",
              "      <td>0</td>\n",
              "      <td>0.000000e+00</td>\n",
              "      <td>0.000000</td>\n",
              "      <td>0.000000</td>\n",
              "      <td>0.000000</td>\n",
              "      <td>0.000000e+00</td>\n",
              "      <td>0.0</td>\n",
              "      <td>0.0</td>\n",
              "      <td>1.604555e-07</td>\n",
              "      <td>0.0</td>\n",
              "      <td>0</td>\n",
              "      <td>...</td>\n",
              "      <td>0</td>\n",
              "      <td>0</td>\n",
              "      <td>0.000000</td>\n",
              "      <td>0.0</td>\n",
              "      <td>0</td>\n",
              "      <td>0</td>\n",
              "      <td>0</td>\n",
              "      <td>0</td>\n",
              "      <td>0</td>\n",
              "      <td>0</td>\n",
              "      <td>0</td>\n",
              "      <td>0</td>\n",
              "      <td>0</td>\n",
              "      <td>0</td>\n",
              "      <td>0</td>\n",
              "      <td>0</td>\n",
              "      <td>0</td>\n",
              "      <td>0</td>\n",
              "      <td>0</td>\n",
              "      <td>0</td>\n",
              "      <td>0</td>\n",
              "      <td>0</td>\n",
              "      <td>0</td>\n",
              "      <td>0</td>\n",
              "      <td>0</td>\n",
              "      <td>0</td>\n",
              "      <td>0</td>\n",
              "      <td>0</td>\n",
              "      <td>0</td>\n",
              "      <td>0</td>\n",
              "      <td>0</td>\n",
              "      <td>0</td>\n",
              "      <td>0</td>\n",
              "      <td>0</td>\n",
              "      <td>0</td>\n",
              "      <td>0</td>\n",
              "      <td>0</td>\n",
              "      <td>0</td>\n",
              "      <td>0</td>\n",
              "      <td>11.0</td>\n",
              "    </tr>\n",
              "    <tr>\n",
              "      <th>1</th>\n",
              "      <td>1</td>\n",
              "      <td>0</td>\n",
              "      <td>0.000000</td>\n",
              "      <td>0.000000e+00</td>\n",
              "      <td>0.000000</td>\n",
              "      <td>0.0</td>\n",
              "      <td>0</td>\n",
              "      <td>0.0</td>\n",
              "      <td>0.0</td>\n",
              "      <td>0.000001</td>\n",
              "      <td>0.000006</td>\n",
              "      <td>0.000005</td>\n",
              "      <td>4.400519e-06</td>\n",
              "      <td>0.000004</td>\n",
              "      <td>0.000006</td>\n",
              "      <td>0.000008</td>\n",
              "      <td>0.000009</td>\n",
              "      <td>0.000005</td>\n",
              "      <td>2.217574e-07</td>\n",
              "      <td>0.000000e+00</td>\n",
              "      <td>0.000000</td>\n",
              "      <td>0.0</td>\n",
              "      <td>0</td>\n",
              "      <td>0.0</td>\n",
              "      <td>0.000000</td>\n",
              "      <td>5.029072e-07</td>\n",
              "      <td>0.000000e+00</td>\n",
              "      <td>0.0</td>\n",
              "      <td>0</td>\n",
              "      <td>0</td>\n",
              "      <td>6.303286e-08</td>\n",
              "      <td>0.000002</td>\n",
              "      <td>0.000002</td>\n",
              "      <td>0.000001</td>\n",
              "      <td>4.746836e-07</td>\n",
              "      <td>0.0</td>\n",
              "      <td>0.0</td>\n",
              "      <td>0.000000e+00</td>\n",
              "      <td>0.0</td>\n",
              "      <td>0</td>\n",
              "      <td>...</td>\n",
              "      <td>0</td>\n",
              "      <td>0</td>\n",
              "      <td>0.000000</td>\n",
              "      <td>0.0</td>\n",
              "      <td>0</td>\n",
              "      <td>0</td>\n",
              "      <td>0</td>\n",
              "      <td>0</td>\n",
              "      <td>0</td>\n",
              "      <td>0</td>\n",
              "      <td>0</td>\n",
              "      <td>0</td>\n",
              "      <td>0</td>\n",
              "      <td>0</td>\n",
              "      <td>0</td>\n",
              "      <td>0</td>\n",
              "      <td>0</td>\n",
              "      <td>0</td>\n",
              "      <td>0</td>\n",
              "      <td>0</td>\n",
              "      <td>0</td>\n",
              "      <td>0</td>\n",
              "      <td>0</td>\n",
              "      <td>0</td>\n",
              "      <td>0</td>\n",
              "      <td>0</td>\n",
              "      <td>0</td>\n",
              "      <td>0</td>\n",
              "      <td>0</td>\n",
              "      <td>0</td>\n",
              "      <td>0</td>\n",
              "      <td>0</td>\n",
              "      <td>0</td>\n",
              "      <td>0</td>\n",
              "      <td>0</td>\n",
              "      <td>0</td>\n",
              "      <td>0</td>\n",
              "      <td>0</td>\n",
              "      <td>0</td>\n",
              "      <td>11.0</td>\n",
              "    </tr>\n",
              "    <tr>\n",
              "      <th>2</th>\n",
              "      <td>2</td>\n",
              "      <td>0</td>\n",
              "      <td>0.000004</td>\n",
              "      <td>4.009876e-06</td>\n",
              "      <td>0.000003</td>\n",
              "      <td>0.0</td>\n",
              "      <td>0</td>\n",
              "      <td>0.0</td>\n",
              "      <td>0.0</td>\n",
              "      <td>0.000000</td>\n",
              "      <td>0.000003</td>\n",
              "      <td>0.000004</td>\n",
              "      <td>5.331071e-06</td>\n",
              "      <td>0.000006</td>\n",
              "      <td>0.000009</td>\n",
              "      <td>0.000012</td>\n",
              "      <td>0.000014</td>\n",
              "      <td>0.000010</td>\n",
              "      <td>5.345027e-06</td>\n",
              "      <td>9.396877e-07</td>\n",
              "      <td>0.000000</td>\n",
              "      <td>0.0</td>\n",
              "      <td>0</td>\n",
              "      <td>0.0</td>\n",
              "      <td>0.000005</td>\n",
              "      <td>1.084514e-05</td>\n",
              "      <td>6.023756e-06</td>\n",
              "      <td>0.0</td>\n",
              "      <td>0</td>\n",
              "      <td>0</td>\n",
              "      <td>0.000000e+00</td>\n",
              "      <td>0.000000</td>\n",
              "      <td>0.000001</td>\n",
              "      <td>0.000002</td>\n",
              "      <td>2.889537e-06</td>\n",
              "      <td>0.0</td>\n",
              "      <td>0.0</td>\n",
              "      <td>0.000000e+00</td>\n",
              "      <td>0.0</td>\n",
              "      <td>0</td>\n",
              "      <td>...</td>\n",
              "      <td>0</td>\n",
              "      <td>0</td>\n",
              "      <td>0.000001</td>\n",
              "      <td>0.0</td>\n",
              "      <td>0</td>\n",
              "      <td>0</td>\n",
              "      <td>0</td>\n",
              "      <td>0</td>\n",
              "      <td>0</td>\n",
              "      <td>0</td>\n",
              "      <td>0</td>\n",
              "      <td>0</td>\n",
              "      <td>0</td>\n",
              "      <td>0</td>\n",
              "      <td>0</td>\n",
              "      <td>0</td>\n",
              "      <td>0</td>\n",
              "      <td>0</td>\n",
              "      <td>0</td>\n",
              "      <td>0</td>\n",
              "      <td>0</td>\n",
              "      <td>0</td>\n",
              "      <td>0</td>\n",
              "      <td>0</td>\n",
              "      <td>0</td>\n",
              "      <td>0</td>\n",
              "      <td>0</td>\n",
              "      <td>0</td>\n",
              "      <td>0</td>\n",
              "      <td>0</td>\n",
              "      <td>0</td>\n",
              "      <td>0</td>\n",
              "      <td>0</td>\n",
              "      <td>0</td>\n",
              "      <td>0</td>\n",
              "      <td>0</td>\n",
              "      <td>0</td>\n",
              "      <td>0</td>\n",
              "      <td>0</td>\n",
              "      <td>11.0</td>\n",
              "    </tr>\n",
              "  </tbody>\n",
              "</table>\n",
              "<p>3 rows × 4552 columns</p>\n",
              "</div>"
            ],
            "text/plain": [
              "   Unnamed: 0  195     195.2         195.4  ...  1104.4  1104.6  1104.8  sheet\n",
              "0           0    0  0.000002  6.339045e-07  ...       0       0       0   11.0\n",
              "1           1    0  0.000000  0.000000e+00  ...       0       0       0   11.0\n",
              "2           2    0  0.000004  4.009876e-06  ...       0       0       0   11.0\n",
              "\n",
              "[3 rows x 4552 columns]"
            ]
          },
          "metadata": {},
          "execution_count": 41
        }
      ]
    },
    {
      "cell_type": "code",
      "metadata": {
        "id": "drq2RkULQuWK"
      },
      "source": [
        "#df_raw.to_excel('IZO_zeroed and scaled sum.xlsx')"
      ],
      "execution_count": null,
      "outputs": []
    },
    {
      "cell_type": "code",
      "metadata": {
        "id": "qpQQo-gCQHQs"
      },
      "source": [
        ""
      ],
      "execution_count": null,
      "outputs": []
    },
    {
      "cell_type": "code",
      "metadata": {
        "id": "r4vCVB6mfRVT",
        "colab": {
          "base_uri": "https://localhost:8080/"
        },
        "outputId": "51b28d68-c0d8-4384-b4c5-ae150bd2582b"
      },
      "source": [
        "df_raw.shape"
      ],
      "execution_count": null,
      "outputs": [
        {
          "output_type": "execute_result",
          "data": {
            "text/plain": [
              "(113, 4552)"
            ]
          },
          "metadata": {},
          "execution_count": 43
        }
      ]
    },
    {
      "cell_type": "code",
      "metadata": {
        "id": "yODdglInft18"
      },
      "source": [
        ""
      ],
      "execution_count": null,
      "outputs": []
    },
    {
      "cell_type": "code",
      "metadata": {
        "id": "96-AHP-xCDRM"
      },
      "source": [
        "X=df_raw.iloc[:,:-1].values\n",
        "y=df_raw.iloc[:,-1].values"
      ],
      "execution_count": null,
      "outputs": []
    },
    {
      "cell_type": "code",
      "metadata": {
        "id": "SDzmgHykCgWX"
      },
      "source": [
        "from sklearn.preprocessing import StandardScaler,MinMaxScaler\n",
        "sc_s=StandardScaler()\n",
        "sc_m=StandardScaler()"
      ],
      "execution_count": null,
      "outputs": []
    },
    {
      "cell_type": "code",
      "metadata": {
        "id": "0HzgroQ6DzcZ"
      },
      "source": [
        "y=y.reshape(113,1)"
      ],
      "execution_count": null,
      "outputs": []
    },
    {
      "cell_type": "code",
      "metadata": {
        "id": "N3XhV-e5Cjf_"
      },
      "source": [
        ""
      ],
      "execution_count": null,
      "outputs": []
    },
    {
      "cell_type": "code",
      "metadata": {
        "id": "9m7WJObFDqBx"
      },
      "source": [
        "from sklearn.model_selection import train_test_split"
      ],
      "execution_count": null,
      "outputs": []
    },
    {
      "cell_type": "code",
      "metadata": {
        "id": "defziBXRDwfl"
      },
      "source": [
        "X_train,X_test,y_train,y_test=train_test_split(X,y,test_size=0.2)"
      ],
      "execution_count": null,
      "outputs": []
    },
    {
      "cell_type": "code",
      "metadata": {
        "id": "FxtZgiGYg0zL"
      },
      "source": [
        "X_train=sc_s.fit_transform(X_train)\n",
        "X_test=sc_s.transform(X_test)"
      ],
      "execution_count": null,
      "outputs": []
    },
    {
      "cell_type": "code",
      "metadata": {
        "id": "sovTXJwKEOzV"
      },
      "source": [
        "from tensorflow.keras.models import Sequential\n",
        "from tensorflow.keras.layers import Dense"
      ],
      "execution_count": null,
      "outputs": []
    },
    {
      "cell_type": "code",
      "metadata": {
        "id": "lXnMACMxEmhq"
      },
      "source": [
        "\n",
        "model=Sequential()"
      ],
      "execution_count": null,
      "outputs": []
    },
    {
      "cell_type": "code",
      "metadata": {
        "id": "H6f2eRfAErKs"
      },
      "source": [
        "model.add(Dense(units=9000,activation='relu'))\n",
        "\n",
        "#model.add(Dense(units=9000,activation='relu'))\n",
        "#model.add(Dense(units=15000,activation='relu'))\n",
        "model.add(Dense(units=1000,activation='relu'))\n",
        "#model.add(Dense(units=1000,activation='relu'))\n",
        "model.add(Dense(units=500,activation='relu'))\n",
        "#model.add(Dense(units=300,activation='relu'))\n",
        "model.add(Dense(units=300,activation='relu'))\n",
        "#model.add(Dense(units=100,activation='relu'))\n",
        "model.add(Dense(units=50,activation='relu'))\n",
        "#model.add(Dense(units=20,activation='relu'))\n",
        "model.add(Dense(units=8,activation='relu'))\n",
        "model.add(Dense(units=4,activation='relu'))\n",
        "model.add(Dense(units=1))"
      ],
      "execution_count": null,
      "outputs": []
    },
    {
      "cell_type": "code",
      "metadata": {
        "id": "pSPytteSFavs"
      },
      "source": [
        "model.compile(optimizer=tf.keras.optimizers.Adam(learning_rate=0.01),\n",
        "              loss=tf.keras.losses.Huber(),\n",
        "              metrics=['mae'])"
      ],
      "execution_count": null,
      "outputs": []
    },
    {
      "cell_type": "code",
      "metadata": {
        "colab": {
          "base_uri": "https://localhost:8080/"
        },
        "id": "qJcO_zIVFgqq",
        "outputId": "a84b106b-c21f-41f9-ac5a-3c7cef8473bd"
      },
      "source": [
        "model.fit(X_train,y_train,batch_size=32,epochs=100)"
      ],
      "execution_count": null,
      "outputs": [
        {
          "output_type": "stream",
          "name": "stdout",
          "text": [
            "Epoch 1/100\n",
            "3/3 [==============================] - 1s 31ms/step - loss: 1393.7889 - mae: 1394.2740\n",
            "Epoch 2/100\n",
            "3/3 [==============================] - 0s 31ms/step - loss: 11.8674 - mae: 12.3586\n",
            "Epoch 3/100\n",
            "3/3 [==============================] - 0s 28ms/step - loss: 5.8664 - mae: 6.3561\n",
            "Epoch 4/100\n",
            "3/3 [==============================] - 0s 30ms/step - loss: 4.3438 - mae: 4.8426\n",
            "Epoch 5/100\n",
            "3/3 [==============================] - 0s 29ms/step - loss: 3.2001 - mae: 3.6738\n",
            "Epoch 6/100\n",
            "3/3 [==============================] - 0s 28ms/step - loss: 2.9672 - mae: 3.4403\n",
            "Epoch 7/100\n",
            "3/3 [==============================] - 0s 24ms/step - loss: 3.6090 - mae: 4.0716\n",
            "Epoch 8/100\n",
            "3/3 [==============================] - 0s 26ms/step - loss: 2.5291 - mae: 3.0114\n",
            "Epoch 9/100\n",
            "3/3 [==============================] - 0s 24ms/step - loss: 2.9355 - mae: 3.4147\n",
            "Epoch 10/100\n",
            "3/3 [==============================] - 0s 28ms/step - loss: 3.0913 - mae: 3.5735\n",
            "Epoch 11/100\n",
            "3/3 [==============================] - 0s 24ms/step - loss: 2.2104 - mae: 2.6766\n",
            "Epoch 12/100\n",
            "3/3 [==============================] - 0s 23ms/step - loss: 2.3230 - mae: 2.7800\n",
            "Epoch 13/100\n",
            "3/3 [==============================] - 0s 25ms/step - loss: 2.7899 - mae: 3.2660\n",
            "Epoch 14/100\n",
            "3/3 [==============================] - 0s 23ms/step - loss: 2.5535 - mae: 3.0261\n",
            "Epoch 15/100\n",
            "3/3 [==============================] - 0s 24ms/step - loss: 1.8417 - mae: 2.2886\n",
            "Epoch 16/100\n",
            "3/3 [==============================] - 0s 24ms/step - loss: 1.9985 - mae: 2.4688\n",
            "Epoch 17/100\n",
            "3/3 [==============================] - 0s 24ms/step - loss: 2.0442 - mae: 2.5299\n",
            "Epoch 18/100\n",
            "3/3 [==============================] - 0s 24ms/step - loss: 2.5571 - mae: 3.0195\n",
            "Epoch 19/100\n",
            "3/3 [==============================] - 0s 30ms/step - loss: 2.9858 - mae: 3.4719\n",
            "Epoch 20/100\n",
            "3/3 [==============================] - 0s 23ms/step - loss: 1.8299 - mae: 2.2793\n",
            "Epoch 21/100\n",
            "3/3 [==============================] - 0s 23ms/step - loss: 1.4347 - mae: 1.8712\n",
            "Epoch 22/100\n",
            "3/3 [==============================] - 0s 24ms/step - loss: 1.5555 - mae: 2.0014\n",
            "Epoch 23/100\n",
            "3/3 [==============================] - 0s 23ms/step - loss: 1.4301 - mae: 1.8603\n",
            "Epoch 24/100\n",
            "3/3 [==============================] - 0s 24ms/step - loss: 1.7613 - mae: 2.2308\n",
            "Epoch 25/100\n",
            "3/3 [==============================] - 0s 24ms/step - loss: 2.0780 - mae: 2.5431\n",
            "Epoch 26/100\n",
            "3/3 [==============================] - 0s 24ms/step - loss: 3.0122 - mae: 3.5064\n",
            "Epoch 27/100\n",
            "3/3 [==============================] - 0s 23ms/step - loss: 2.0355 - mae: 2.4953\n",
            "Epoch 28/100\n",
            "3/3 [==============================] - 0s 23ms/step - loss: 1.6547 - mae: 2.1126\n",
            "Epoch 29/100\n",
            "3/3 [==============================] - 0s 22ms/step - loss: 1.6973 - mae: 2.1672\n",
            "Epoch 30/100\n",
            "3/3 [==============================] - 0s 24ms/step - loss: 1.6765 - mae: 2.1515\n",
            "Epoch 31/100\n",
            "3/3 [==============================] - 0s 23ms/step - loss: 1.2867 - mae: 1.7315\n",
            "Epoch 32/100\n",
            "3/3 [==============================] - 0s 24ms/step - loss: 1.3981 - mae: 1.8639\n",
            "Epoch 33/100\n",
            "3/3 [==============================] - 0s 24ms/step - loss: 1.0714 - mae: 1.5074\n",
            "Epoch 34/100\n",
            "3/3 [==============================] - 0s 23ms/step - loss: 0.9410 - mae: 1.3609\n",
            "Epoch 35/100\n",
            "3/3 [==============================] - 0s 23ms/step - loss: 0.7189 - mae: 1.1197\n",
            "Epoch 36/100\n",
            "3/3 [==============================] - 0s 23ms/step - loss: 0.6551 - mae: 1.0512\n",
            "Epoch 37/100\n",
            "3/3 [==============================] - 0s 23ms/step - loss: 0.5458 - mae: 0.9394\n",
            "Epoch 38/100\n",
            "3/3 [==============================] - 0s 24ms/step - loss: 0.5172 - mae: 0.8802\n",
            "Epoch 39/100\n",
            "3/3 [==============================] - 0s 23ms/step - loss: 0.4039 - mae: 0.7600\n",
            "Epoch 40/100\n",
            "3/3 [==============================] - 0s 24ms/step - loss: 0.3950 - mae: 0.7750\n",
            "Epoch 41/100\n",
            "3/3 [==============================] - 0s 24ms/step - loss: 0.4194 - mae: 0.7956\n",
            "Epoch 42/100\n",
            "3/3 [==============================] - 0s 28ms/step - loss: 0.4916 - mae: 0.8970\n",
            "Epoch 43/100\n",
            "3/3 [==============================] - 0s 23ms/step - loss: 0.5198 - mae: 0.9003\n",
            "Epoch 44/100\n",
            "3/3 [==============================] - 0s 24ms/step - loss: 0.4321 - mae: 0.8061\n",
            "Epoch 45/100\n",
            "3/3 [==============================] - 0s 23ms/step - loss: 0.2500 - mae: 0.5920\n",
            "Epoch 46/100\n",
            "3/3 [==============================] - 0s 24ms/step - loss: 0.2174 - mae: 0.5446\n",
            "Epoch 47/100\n",
            "3/3 [==============================] - 0s 23ms/step - loss: 0.3064 - mae: 0.6602\n",
            "Epoch 48/100\n",
            "3/3 [==============================] - 0s 24ms/step - loss: 0.1987 - mae: 0.5278\n",
            "Epoch 49/100\n",
            "3/3 [==============================] - 0s 24ms/step - loss: 0.3792 - mae: 0.7412\n",
            "Epoch 50/100\n",
            "3/3 [==============================] - 0s 23ms/step - loss: 0.6088 - mae: 1.0364\n",
            "Epoch 51/100\n",
            "3/3 [==============================] - 0s 26ms/step - loss: 0.3674 - mae: 0.7399\n",
            "Epoch 52/100\n",
            "3/3 [==============================] - 0s 24ms/step - loss: 0.3163 - mae: 0.6879\n",
            "Epoch 53/100\n",
            "3/3 [==============================] - 0s 23ms/step - loss: 0.2919 - mae: 0.6499\n",
            "Epoch 54/100\n",
            "3/3 [==============================] - 0s 23ms/step - loss: 0.2393 - mae: 0.5746\n",
            "Epoch 55/100\n",
            "3/3 [==============================] - 0s 23ms/step - loss: 0.4053 - mae: 0.7919\n",
            "Epoch 56/100\n",
            "3/3 [==============================] - 0s 23ms/step - loss: 0.3418 - mae: 0.6977\n",
            "Epoch 57/100\n",
            "3/3 [==============================] - 0s 24ms/step - loss: 0.4619 - mae: 0.8477\n",
            "Epoch 58/100\n",
            "3/3 [==============================] - 0s 24ms/step - loss: 0.3336 - mae: 0.6997\n",
            "Epoch 59/100\n",
            "3/3 [==============================] - 0s 26ms/step - loss: 0.2082 - mae: 0.5355\n",
            "Epoch 60/100\n",
            "3/3 [==============================] - 0s 23ms/step - loss: 0.3766 - mae: 0.7640\n",
            "Epoch 61/100\n",
            "3/3 [==============================] - 0s 23ms/step - loss: 1.1719 - mae: 1.6616\n",
            "Epoch 62/100\n",
            "3/3 [==============================] - 0s 28ms/step - loss: 1.8859 - mae: 2.3803\n",
            "Epoch 63/100\n",
            "3/3 [==============================] - 0s 24ms/step - loss: 1.3846 - mae: 1.8238\n",
            "Epoch 64/100\n",
            "3/3 [==============================] - 0s 29ms/step - loss: 2.0046 - mae: 2.4817\n",
            "Epoch 65/100\n",
            "3/3 [==============================] - 0s 25ms/step - loss: 2.0853 - mae: 2.5627\n",
            "Epoch 66/100\n",
            "3/3 [==============================] - 0s 23ms/step - loss: 2.1949 - mae: 2.6619\n",
            "Epoch 67/100\n",
            "3/3 [==============================] - 0s 24ms/step - loss: 1.8052 - mae: 2.2818\n",
            "Epoch 68/100\n",
            "3/3 [==============================] - 0s 23ms/step - loss: 1.1657 - mae: 1.5947\n",
            "Epoch 69/100\n",
            "3/3 [==============================] - 0s 25ms/step - loss: 1.0128 - mae: 1.4369\n",
            "Epoch 70/100\n",
            "3/3 [==============================] - 0s 25ms/step - loss: 0.9173 - mae: 1.3541\n",
            "Epoch 71/100\n",
            "3/3 [==============================] - 0s 23ms/step - loss: 0.9872 - mae: 1.4160\n",
            "Epoch 72/100\n",
            "3/3 [==============================] - 0s 24ms/step - loss: 0.5810 - mae: 0.9931\n",
            "Epoch 73/100\n",
            "3/3 [==============================] - 0s 24ms/step - loss: 0.8322 - mae: 1.2229\n",
            "Epoch 74/100\n",
            "3/3 [==============================] - 0s 24ms/step - loss: 0.5787 - mae: 0.9789\n",
            "Epoch 75/100\n",
            "3/3 [==============================] - 0s 23ms/step - loss: 0.8240 - mae: 1.2556\n",
            "Epoch 76/100\n",
            "3/3 [==============================] - 0s 25ms/step - loss: 0.7804 - mae: 1.2435\n",
            "Epoch 77/100\n",
            "3/3 [==============================] - 0s 24ms/step - loss: 0.8581 - mae: 1.2952\n",
            "Epoch 78/100\n",
            "3/3 [==============================] - 0s 23ms/step - loss: 0.8083 - mae: 1.2377\n",
            "Epoch 79/100\n",
            "3/3 [==============================] - 0s 24ms/step - loss: 0.4756 - mae: 0.8858\n",
            "Epoch 80/100\n",
            "3/3 [==============================] - 0s 23ms/step - loss: 0.3608 - mae: 0.7099\n",
            "Epoch 81/100\n",
            "3/3 [==============================] - 0s 25ms/step - loss: 0.5541 - mae: 0.9852\n",
            "Epoch 82/100\n",
            "3/3 [==============================] - 0s 24ms/step - loss: 0.7703 - mae: 1.2179\n",
            "Epoch 83/100\n",
            "3/3 [==============================] - 0s 24ms/step - loss: 0.4604 - mae: 0.8825\n",
            "Epoch 84/100\n",
            "3/3 [==============================] - 0s 23ms/step - loss: 0.5441 - mae: 0.9541\n",
            "Epoch 85/100\n",
            "3/3 [==============================] - 0s 24ms/step - loss: 0.2434 - mae: 0.5718\n",
            "Epoch 86/100\n",
            "3/3 [==============================] - 0s 22ms/step - loss: 0.1571 - mae: 0.4502\n",
            "Epoch 87/100\n",
            "3/3 [==============================] - 0s 23ms/step - loss: 0.2810 - mae: 0.6135\n",
            "Epoch 88/100\n",
            "3/3 [==============================] - 0s 22ms/step - loss: 0.1711 - mae: 0.5025\n",
            "Epoch 89/100\n",
            "3/3 [==============================] - 0s 24ms/step - loss: 0.1687 - mae: 0.4688\n",
            "Epoch 90/100\n",
            "3/3 [==============================] - 0s 23ms/step - loss: 0.1993 - mae: 0.5332\n",
            "Epoch 91/100\n",
            "3/3 [==============================] - 0s 24ms/step - loss: 0.1620 - mae: 0.4860\n",
            "Epoch 92/100\n",
            "3/3 [==============================] - 0s 23ms/step - loss: 0.0668 - mae: 0.2973\n",
            "Epoch 93/100\n",
            "3/3 [==============================] - 0s 24ms/step - loss: 0.1861 - mae: 0.5385\n",
            "Epoch 94/100\n",
            "3/3 [==============================] - 0s 24ms/step - loss: 0.1389 - mae: 0.4442\n",
            "Epoch 95/100\n",
            "3/3 [==============================] - 0s 23ms/step - loss: 0.1170 - mae: 0.3986\n",
            "Epoch 96/100\n",
            "3/3 [==============================] - 0s 24ms/step - loss: 0.0577 - mae: 0.2614\n",
            "Epoch 97/100\n",
            "3/3 [==============================] - 0s 23ms/step - loss: 0.0519 - mae: 0.2615\n",
            "Epoch 98/100\n",
            "3/3 [==============================] - 0s 23ms/step - loss: 0.0278 - mae: 0.1805\n",
            "Epoch 99/100\n",
            "3/3 [==============================] - 0s 23ms/step - loss: 0.0381 - mae: 0.2264\n",
            "Epoch 100/100\n",
            "3/3 [==============================] - 0s 23ms/step - loss: 0.0358 - mae: 0.2173\n"
          ]
        },
        {
          "output_type": "execute_result",
          "data": {
            "text/plain": [
              "<keras.callbacks.History at 0x7f7d4f306550>"
            ]
          },
          "metadata": {},
          "execution_count": 54
        }
      ]
    },
    {
      "cell_type": "code",
      "metadata": {
        "id": "G-2ROUMdh7r1"
      },
      "source": [
        "#losses=pd.DataFrame(model.history.history)\n",
        "#losses.plot()"
      ],
      "execution_count": null,
      "outputs": []
    },
    {
      "cell_type": "code",
      "metadata": {
        "id": "tlaD2Z66Fmz9"
      },
      "source": [
        "y_pred=model.predict(X_test)"
      ],
      "execution_count": null,
      "outputs": []
    },
    {
      "cell_type": "code",
      "metadata": {
        "id": "A9hNhrywGknK",
        "colab": {
          "base_uri": "https://localhost:8080/"
        },
        "outputId": "c988f00f-807c-4281-b53d-27a51215b03f"
      },
      "source": [
        "y_pred.shape"
      ],
      "execution_count": null,
      "outputs": [
        {
          "output_type": "execute_result",
          "data": {
            "text/plain": [
              "(23, 1)"
            ]
          },
          "metadata": {},
          "execution_count": 57
        }
      ]
    },
    {
      "cell_type": "code",
      "metadata": {
        "id": "tINBpLRwGnfW",
        "colab": {
          "base_uri": "https://localhost:8080/"
        },
        "outputId": "ae56fe29-e290-41cc-a343-b131d0eb7492"
      },
      "source": [
        "y_test.shape"
      ],
      "execution_count": null,
      "outputs": [
        {
          "output_type": "execute_result",
          "data": {
            "text/plain": [
              "(23, 1)"
            ]
          },
          "metadata": {},
          "execution_count": 58
        }
      ]
    },
    {
      "cell_type": "code",
      "metadata": {
        "id": "CW2RlFrSGr85",
        "colab": {
          "base_uri": "https://localhost:8080/"
        },
        "outputId": "40f2cab5-df09-445e-8df9-7e9c541960c9"
      },
      "source": [
        "from sklearn.metrics import mean_absolute_error,mean_squared_error\n",
        "\n",
        "mean_absolute_error(y_pred,y_test)"
      ],
      "execution_count": null,
      "outputs": [
        {
          "output_type": "execute_result",
          "data": {
            "text/plain": [
              "1.0564035311989162"
            ]
          },
          "metadata": {},
          "execution_count": 59
        }
      ]
    },
    {
      "cell_type": "code",
      "metadata": {
        "id": "F86CPNpzGzQy",
        "colab": {
          "base_uri": "https://localhost:8080/",
          "height": 770
        },
        "outputId": "7f22b155-4af4-40d9-a187-0d69467c338a"
      },
      "source": [
        "results=np.concatenate((y_pred,y_test),1)\n",
        "\n",
        "results_ann_peak_ratio=pd.DataFrame(results,columns=['y_pred','y_test'])\n",
        "\n",
        "results_ann_peak_ratio.head(50)"
      ],
      "execution_count": null,
      "outputs": [
        {
          "output_type": "execute_result",
          "data": {
            "text/html": [
              "<div>\n",
              "<style scoped>\n",
              "    .dataframe tbody tr th:only-of-type {\n",
              "        vertical-align: middle;\n",
              "    }\n",
              "\n",
              "    .dataframe tbody tr th {\n",
              "        vertical-align: top;\n",
              "    }\n",
              "\n",
              "    .dataframe thead th {\n",
              "        text-align: right;\n",
              "    }\n",
              "</style>\n",
              "<table border=\"1\" class=\"dataframe\">\n",
              "  <thead>\n",
              "    <tr style=\"text-align: right;\">\n",
              "      <th></th>\n",
              "      <th>y_pred</th>\n",
              "      <th>y_test</th>\n",
              "    </tr>\n",
              "  </thead>\n",
              "  <tbody>\n",
              "    <tr>\n",
              "      <th>0</th>\n",
              "      <td>8.307530</td>\n",
              "      <td>9.6</td>\n",
              "    </tr>\n",
              "    <tr>\n",
              "      <th>1</th>\n",
              "      <td>7.315670</td>\n",
              "      <td>10.0</td>\n",
              "    </tr>\n",
              "    <tr>\n",
              "      <th>2</th>\n",
              "      <td>9.829968</td>\n",
              "      <td>11.4</td>\n",
              "    </tr>\n",
              "    <tr>\n",
              "      <th>3</th>\n",
              "      <td>9.253780</td>\n",
              "      <td>11.0</td>\n",
              "    </tr>\n",
              "    <tr>\n",
              "      <th>4</th>\n",
              "      <td>11.357098</td>\n",
              "      <td>11.4</td>\n",
              "    </tr>\n",
              "    <tr>\n",
              "      <th>5</th>\n",
              "      <td>9.351959</td>\n",
              "      <td>9.6</td>\n",
              "    </tr>\n",
              "    <tr>\n",
              "      <th>6</th>\n",
              "      <td>7.492270</td>\n",
              "      <td>7.5</td>\n",
              "    </tr>\n",
              "    <tr>\n",
              "      <th>7</th>\n",
              "      <td>9.181125</td>\n",
              "      <td>10.0</td>\n",
              "    </tr>\n",
              "    <tr>\n",
              "      <th>8</th>\n",
              "      <td>10.065929</td>\n",
              "      <td>9.8</td>\n",
              "    </tr>\n",
              "    <tr>\n",
              "      <th>9</th>\n",
              "      <td>12.331610</td>\n",
              "      <td>13.5</td>\n",
              "    </tr>\n",
              "    <tr>\n",
              "      <th>10</th>\n",
              "      <td>11.067210</td>\n",
              "      <td>11.0</td>\n",
              "    </tr>\n",
              "    <tr>\n",
              "      <th>11</th>\n",
              "      <td>10.940572</td>\n",
              "      <td>11.4</td>\n",
              "    </tr>\n",
              "    <tr>\n",
              "      <th>12</th>\n",
              "      <td>11.883314</td>\n",
              "      <td>13.5</td>\n",
              "    </tr>\n",
              "    <tr>\n",
              "      <th>13</th>\n",
              "      <td>11.152914</td>\n",
              "      <td>11.4</td>\n",
              "    </tr>\n",
              "    <tr>\n",
              "      <th>14</th>\n",
              "      <td>14.012430</td>\n",
              "      <td>13.5</td>\n",
              "    </tr>\n",
              "    <tr>\n",
              "      <th>15</th>\n",
              "      <td>12.566939</td>\n",
              "      <td>10.7</td>\n",
              "    </tr>\n",
              "    <tr>\n",
              "      <th>16</th>\n",
              "      <td>9.935330</td>\n",
              "      <td>10.0</td>\n",
              "    </tr>\n",
              "    <tr>\n",
              "      <th>17</th>\n",
              "      <td>8.141399</td>\n",
              "      <td>7.5</td>\n",
              "    </tr>\n",
              "    <tr>\n",
              "      <th>18</th>\n",
              "      <td>14.075174</td>\n",
              "      <td>13.5</td>\n",
              "    </tr>\n",
              "    <tr>\n",
              "      <th>19</th>\n",
              "      <td>3.584692</td>\n",
              "      <td>10.0</td>\n",
              "    </tr>\n",
              "    <tr>\n",
              "      <th>20</th>\n",
              "      <td>8.335762</td>\n",
              "      <td>9.6</td>\n",
              "    </tr>\n",
              "    <tr>\n",
              "      <th>21</th>\n",
              "      <td>11.534163</td>\n",
              "      <td>11.0</td>\n",
              "    </tr>\n",
              "    <tr>\n",
              "      <th>22</th>\n",
              "      <td>10.887630</td>\n",
              "      <td>10.7</td>\n",
              "    </tr>\n",
              "  </tbody>\n",
              "</table>\n",
              "</div>"
            ],
            "text/plain": [
              "       y_pred  y_test\n",
              "0    8.307530     9.6\n",
              "1    7.315670    10.0\n",
              "2    9.829968    11.4\n",
              "3    9.253780    11.0\n",
              "4   11.357098    11.4\n",
              "5    9.351959     9.6\n",
              "6    7.492270     7.5\n",
              "7    9.181125    10.0\n",
              "8   10.065929     9.8\n",
              "9   12.331610    13.5\n",
              "10  11.067210    11.0\n",
              "11  10.940572    11.4\n",
              "12  11.883314    13.5\n",
              "13  11.152914    11.4\n",
              "14  14.012430    13.5\n",
              "15  12.566939    10.7\n",
              "16   9.935330    10.0\n",
              "17   8.141399     7.5\n",
              "18  14.075174    13.5\n",
              "19   3.584692    10.0\n",
              "20   8.335762     9.6\n",
              "21  11.534163    11.0\n",
              "22  10.887630    10.7"
            ]
          },
          "metadata": {},
          "execution_count": 60
        }
      ]
    },
    {
      "cell_type": "code",
      "metadata": {
        "id": "frH0uxNxHOgH",
        "colab": {
          "base_uri": "https://localhost:8080/"
        },
        "outputId": "4ae332bc-835e-4a12-8b77-6cdff9ad535f"
      },
      "source": [
        "from sklearn import metrics\n",
        "metrics.explained_variance_score(y_test,y_pred)\n",
        "\n"
      ],
      "execution_count": null,
      "outputs": [
        {
          "output_type": "execute_result",
          "data": {
            "text/plain": [
              "0.05182776686819701"
            ]
          },
          "metadata": {},
          "execution_count": 61
        }
      ]
    },
    {
      "cell_type": "code",
      "metadata": {
        "id": "Fx6Mtp3JHiyw",
        "colab": {
          "base_uri": "https://localhost:8080/"
        },
        "outputId": "962d5152-fef2-48e0-c94b-a4ce8d7da4d6"
      },
      "source": [
        "model.summary()"
      ],
      "execution_count": null,
      "outputs": [
        {
          "output_type": "stream",
          "name": "stdout",
          "text": [
            "Model: \"sequential_1\"\n",
            "_________________________________________________________________\n",
            "Layer (type)                 Output Shape              Param #   \n",
            "=================================================================\n",
            "dense_8 (Dense)              (None, 9000)              40968000  \n",
            "_________________________________________________________________\n",
            "dense_9 (Dense)              (None, 1000)              9001000   \n",
            "_________________________________________________________________\n",
            "dense_10 (Dense)             (None, 500)               500500    \n",
            "_________________________________________________________________\n",
            "dense_11 (Dense)             (None, 300)               150300    \n",
            "_________________________________________________________________\n",
            "dense_12 (Dense)             (None, 50)                15050     \n",
            "_________________________________________________________________\n",
            "dense_13 (Dense)             (None, 8)                 408       \n",
            "_________________________________________________________________\n",
            "dense_14 (Dense)             (None, 4)                 36        \n",
            "_________________________________________________________________\n",
            "dense_15 (Dense)             (None, 1)                 5         \n",
            "=================================================================\n",
            "Total params: 50,635,299\n",
            "Trainable params: 50,635,299\n",
            "Non-trainable params: 0\n",
            "_________________________________________________________________\n"
          ]
        }
      ]
    },
    {
      "cell_type": "code",
      "metadata": {
        "id": "ZeaTuizWH-en",
        "colab": {
          "base_uri": "https://localhost:8080/",
          "height": 976
        },
        "outputId": "74eb123c-10d6-4552-d761-cd1e2d626b65"
      },
      "source": [
        "from tensorflow.keras.utils import plot_model\n",
        "\n",
        "plot_model(model=model,show_shapes=True)"
      ],
      "execution_count": null,
      "outputs": [
        {
          "output_type": "execute_result",
          "data": {
            "image/png": "[encoded data removed]",
            "text/plain": [
              "<IPython.core.display.Image object>"
            ]
          },
          "metadata": {},
          "execution_count": 63
        }
      ]
    },
    {
      "cell_type": "code",
      "metadata": {
        "id": "fkPgGl_5IFv1",
        "colab": {
          "base_uri": "https://localhost:8080/",
          "height": 297
        },
        "outputId": "011b8d31-0bbe-4502-f12b-a22dff14d68e"
      },
      "source": [
        "results=np.concatenate((y_pred,y_test),1)\n",
        "\n",
        "results_ann_peak_ratio=pd.DataFrame(results,columns=['y_pred','y_test'])\n",
        "\n",
        "#results_ann_peak_ratio.head(50)\n",
        "import seaborn as sns\n",
        "\n",
        "sns.scatterplot(x='y_pred',y='y_test',data=results_ann_peak_ratio)"
      ],
      "execution_count": null,
      "outputs": [
        {
          "output_type": "execute_result",
          "data": {
            "text/plain": [
              "<matplotlib.axes._subplots.AxesSubplot at 0x7f7cca4c8810>"
            ]
          },
          "metadata": {},
          "execution_count": 64
        },
        {
          "output_type": "display_data",
          "data": {
            "image/png": "[encoded data removed]",
            "text/plain": [
              "<Figure size 432x288 with 1 Axes>"
            ]
          },
          "metadata": {
            "needs_background": "light"
          }
        }
      ]
    },
    {
      "cell_type": "code",
      "metadata": {
        "id": "i6eXfgdiIMQQ"
      },
      "source": [
        ""
      ],
      "execution_count": null,
      "outputs": []
    }
  ]
}