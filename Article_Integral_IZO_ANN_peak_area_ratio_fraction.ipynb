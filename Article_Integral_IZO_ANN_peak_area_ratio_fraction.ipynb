{
  "nbformat": 4,
  "nbformat_minor": 0,
  "metadata": {
    "colab": {
      "name": "Article Integral  IZO ANN peak area ratio fraction",
      "provenance": [],
      "authorship_tag": "ABX9TyNbGkYi8Qu+kJI+ssijhLrB",
      "include_colab_link": true
    },
    "kernelspec": {
      "name": "python3",
      "display_name": "Python 3"
    },
    "language_info": {
      "name": "python"
    }
  },
  "cells": [
    {
      "cell_type": "markdown",
      "metadata": {
        "id": "view-in-github",
        "colab_type": "text"
      },
      "source": [
        "<a href=\"https://colab.research.google.com/github/AliConda/AliConda/blob/main/Article_Integral_IZO_ANN_peak_area_ratio_fraction.ipynb\" target=\"_parent\"><img src=\"https://colab.research.google.com/assets/colab-badge.svg\" alt=\"Open In Colab\"/></a>"
      ]
    },
    {
      "cell_type": "code",
      "metadata": {
        "id": "9AdrcreIEHQv"
      },
      "source": [
        "import pandas as pd\n",
        "import numpy as np\n",
        "import tensorflow as tf\n",
        "import matplotlib.pyplot as plt"
      ],
      "execution_count": null,
      "outputs": []
    },
    {
      "cell_type": "code",
      "metadata": {
        "id": "VS6ukA16EPyW"
      },
      "source": [
        "#df=pd.read_excel('Integral_of_peaks_comparison_IZO_only.xlsx')  the 3mbar with its 21 ohm sq was worng so now removed\n",
        "df=pd.read_excel('Integral_of_peaks_comparison_IZO_only_3mbarcutout.xlsx')"
      ],
      "execution_count": null,
      "outputs": []
    },
    {
      "cell_type": "code",
      "metadata": {
        "colab": {
          "base_uri": "https://localhost:8080/",
          "height": 108
        },
        "id": "iyvEiNpoGub9",
        "outputId": "49980343-eca8-433f-9d85-29ef988a1350"
      },
      "source": [
        "df.head(2)"
      ],
      "execution_count": null,
      "outputs": [
        {
          "output_type": "execute_result",
          "data": {
            "text/html": [
              "<div>\n",
              "<style scoped>\n",
              "    .dataframe tbody tr th:only-of-type {\n",
              "        vertical-align: middle;\n",
              "    }\n",
              "\n",
              "    .dataframe tbody tr th {\n",
              "        vertical-align: top;\n",
              "    }\n",
              "\n",
              "    .dataframe thead th {\n",
              "        text-align: right;\n",
              "    }\n",
              "</style>\n",
              "<table border=\"1\" class=\"dataframe\">\n",
              "  <thead>\n",
              "    <tr style=\"text-align: right;\">\n",
              "      <th></th>\n",
              "      <th>A</th>\n",
              "      <th>B</th>\n",
              "      <th>C</th>\n",
              "      <th>D</th>\n",
              "      <th>E</th>\n",
              "      <th>F</th>\n",
              "      <th>G</th>\n",
              "      <th>H</th>\n",
              "      <th>I</th>\n",
              "      <th>J</th>\n",
              "      <th>K</th>\n",
              "      <th>L</th>\n",
              "      <th>Pres</th>\n",
              "      <th>Sheet</th>\n",
              "      <th>Sample</th>\n",
              "      <th>ID</th>\n",
              "      <th>Unnamed: 16</th>\n",
              "      <th>sum</th>\n",
              "      <th>Unnamed: 18</th>\n",
              "      <th>A.1</th>\n",
              "      <th>B.1</th>\n",
              "      <th>C.1</th>\n",
              "      <th>D.1</th>\n",
              "      <th>E.1</th>\n",
              "      <th>F.1</th>\n",
              "      <th>G.1</th>\n",
              "      <th>H.1</th>\n",
              "      <th>I.1</th>\n",
              "      <th>J.1</th>\n",
              "      <th>K.1</th>\n",
              "      <th>L.1</th>\n",
              "      <th>Sheet.1</th>\n",
              "    </tr>\n",
              "  </thead>\n",
              "  <tbody>\n",
              "    <tr>\n",
              "      <th>0</th>\n",
              "      <td>743.8543</td>\n",
              "      <td>340.2103</td>\n",
              "      <td>2926.237</td>\n",
              "      <td>1384.301</td>\n",
              "      <td>768.4669</td>\n",
              "      <td>1008.149</td>\n",
              "      <td>861.4096</td>\n",
              "      <td>1002.9320</td>\n",
              "      <td>1570.475</td>\n",
              "      <td>2182.261</td>\n",
              "      <td>3235.216</td>\n",
              "      <td>115.4485</td>\n",
              "      <td>1.0</td>\n",
              "      <td>13.5</td>\n",
              "      <td>IZO</td>\n",
              "      <td>1</td>\n",
              "      <td>NaN</td>\n",
              "      <td>16138.9606</td>\n",
              "      <td>NaN</td>\n",
              "      <td>0.046091</td>\n",
              "      <td>0.021080</td>\n",
              "      <td>0.181315</td>\n",
              "      <td>0.085774</td>\n",
              "      <td>0.047616</td>\n",
              "      <td>0.062467</td>\n",
              "      <td>0.053375</td>\n",
              "      <td>0.062144</td>\n",
              "      <td>0.097310</td>\n",
              "      <td>0.135217</td>\n",
              "      <td>0.200460</td>\n",
              "      <td>0.007153</td>\n",
              "      <td>13.5</td>\n",
              "    </tr>\n",
              "    <tr>\n",
              "      <th>1</th>\n",
              "      <td>741.7682</td>\n",
              "      <td>335.8525</td>\n",
              "      <td>2929.873</td>\n",
              "      <td>1375.218</td>\n",
              "      <td>768.2396</td>\n",
              "      <td>1002.382</td>\n",
              "      <td>860.3216</td>\n",
              "      <td>990.2999</td>\n",
              "      <td>1558.786</td>\n",
              "      <td>2181.261</td>\n",
              "      <td>3227.857</td>\n",
              "      <td>113.7976</td>\n",
              "      <td>1.0</td>\n",
              "      <td>13.5</td>\n",
              "      <td>IZO</td>\n",
              "      <td>1</td>\n",
              "      <td>NaN</td>\n",
              "      <td>16085.6564</td>\n",
              "      <td>NaN</td>\n",
              "      <td>0.046114</td>\n",
              "      <td>0.020879</td>\n",
              "      <td>0.182142</td>\n",
              "      <td>0.085493</td>\n",
              "      <td>0.047759</td>\n",
              "      <td>0.062315</td>\n",
              "      <td>0.053484</td>\n",
              "      <td>0.061564</td>\n",
              "      <td>0.096905</td>\n",
              "      <td>0.135603</td>\n",
              "      <td>0.200667</td>\n",
              "      <td>0.007074</td>\n",
              "      <td>13.5</td>\n",
              "    </tr>\n",
              "  </tbody>\n",
              "</table>\n",
              "</div>"
            ],
            "text/plain": [
              "          A         B         C  ...       K.1       L.1  Sheet.1\n",
              "0  743.8543  340.2103  2926.237  ...  0.200460  0.007153     13.5\n",
              "1  741.7682  335.8525  2929.873  ...  0.200667  0.007074     13.5\n",
              "\n",
              "[2 rows x 32 columns]"
            ]
          },
          "metadata": {},
          "execution_count": 42
        }
      ]
    },
    {
      "cell_type": "code",
      "metadata": {
        "colab": {
          "base_uri": "https://localhost:8080/"
        },
        "id": "9_NMFDO6bVzq",
        "outputId": "3a03d011-a730-4424-9042-0ff7fd4c7a3d"
      },
      "source": [
        "df.shape"
      ],
      "execution_count": null,
      "outputs": [
        {
          "output_type": "execute_result",
          "data": {
            "text/plain": [
              "(517, 32)"
            ]
          },
          "metadata": {},
          "execution_count": 43
        }
      ]
    },
    {
      "cell_type": "code",
      "metadata": {
        "id": "yCUK0lBSGvtN"
      },
      "source": [
        "X=df.iloc[:,19:31].values\n",
        "y=df.iloc[:,31].values"
      ],
      "execution_count": null,
      "outputs": []
    },
    {
      "cell_type": "code",
      "metadata": {
        "id": "IwRZRsOeHRVi"
      },
      "source": [
        "from sklearn.model_selection import train_test_split"
      ],
      "execution_count": null,
      "outputs": []
    },
    {
      "cell_type": "code",
      "metadata": {
        "id": "fhehdQs2HsdR"
      },
      "source": [
        "X_train,X_test,y_train,y_test=train_test_split(X,y,test_size=.2)"
      ],
      "execution_count": null,
      "outputs": []
    },
    {
      "cell_type": "markdown",
      "metadata": {
        "id": "gMmMxht4IFg-"
      },
      "source": [
        "##ANN Buildup"
      ]
    },
    {
      "cell_type": "code",
      "metadata": {
        "id": "AYIVI5dKIwmR"
      },
      "source": [
        "from tensorflow.keras.models import Sequential\n",
        "from tensorflow.keras.layers import Dense"
      ],
      "execution_count": null,
      "outputs": []
    },
    {
      "cell_type": "code",
      "metadata": {
        "id": "VIoftWPBJT8D"
      },
      "source": [
        "model=Sequential()"
      ],
      "execution_count": null,
      "outputs": []
    },
    {
      "cell_type": "code",
      "metadata": {
        "id": "UD1Fj1NFJXqa"
      },
      "source": [
        "model.add(Dense(units=30,activation='relu'))\n",
        "#model.add(Dense(units=100,activation='relu'))\n",
        "#model.add(Dense(units=100,activation='relu'))\n",
        "model.add(Dense(units=20,activation='relu'))\n",
        "model.add(Dense(units=8,activation='relu'))\n",
        "model.add(Dense(units=4,activation='relu'))\n",
        "model.add(Dense(units=1))"
      ],
      "execution_count": null,
      "outputs": []
    },
    {
      "cell_type": "code",
      "metadata": {
        "id": "CHmcFn2fLLjB"
      },
      "source": [
        "model.compile(optimizer=tf.keras.optimizers.Adam(learning_rate=0.01),\n",
        "              loss=tf.keras.losses.Huber(),\n",
        "              metrics=['mae'])\n",
        "\n",
        "#mae  >> great for any regressions problem\n",
        "#mase >> when large errors are more significant than smaller errors\n",
        "#huber >> combination of both and less sensitive to outliners  tf.keras.losses.Huber()  we got the best results with this"
      ],
      "execution_count": null,
      "outputs": []
    },
    {
      "cell_type": "code",
      "metadata": {
        "colab": {
          "base_uri": "https://localhost:8080/"
        },
        "id": "rMzA6GFuMW_D",
        "outputId": "b0e02a81-ff0d-46f7-becf-67494b5cb3ea"
      },
      "source": [
        "model.fit(X_train,y_train,batch_size=32,epochs=150)"
      ],
      "execution_count": null,
      "outputs": [
        {
          "output_type": "stream",
          "name": "stdout",
          "text": [
            "Epoch 1/150\n",
            "13/13 [==============================] - 1s 2ms/step - loss: 9.3557 - mae: 9.8557\n",
            "Epoch 2/150\n",
            "13/13 [==============================] - 0s 2ms/step - loss: 6.7464 - mae: 7.2464\n",
            "Epoch 3/150\n",
            "13/13 [==============================] - 0s 2ms/step - loss: 1.6375 - mae: 2.0994\n",
            "Epoch 4/150\n",
            "13/13 [==============================] - 0s 2ms/step - loss: 1.0252 - mae: 1.4485\n",
            "Epoch 5/150\n",
            "13/13 [==============================] - 0s 2ms/step - loss: 0.8551 - mae: 1.2382\n",
            "Epoch 6/150\n",
            "13/13 [==============================] - 0s 2ms/step - loss: 0.8076 - mae: 1.2095\n",
            "Epoch 7/150\n",
            "13/13 [==============================] - 0s 2ms/step - loss: 0.8277 - mae: 1.2324\n",
            "Epoch 8/150\n",
            "13/13 [==============================] - 0s 3ms/step - loss: 0.8041 - mae: 1.2171\n",
            "Epoch 9/150\n",
            "13/13 [==============================] - 0s 3ms/step - loss: 0.8024 - mae: 1.2150\n",
            "Epoch 10/150\n",
            "13/13 [==============================] - 0s 2ms/step - loss: 0.8250 - mae: 1.2265\n",
            "Epoch 11/150\n",
            "13/13 [==============================] - 0s 2ms/step - loss: 0.8168 - mae: 1.2085\n",
            "Epoch 12/150\n",
            "13/13 [==============================] - 0s 2ms/step - loss: 0.8036 - mae: 1.2108\n",
            "Epoch 13/150\n",
            "13/13 [==============================] - 0s 2ms/step - loss: 0.7961 - mae: 1.2146\n",
            "Epoch 14/150\n",
            "13/13 [==============================] - 0s 2ms/step - loss: 0.7899 - mae: 1.2049\n",
            "Epoch 15/150\n",
            "13/13 [==============================] - 0s 2ms/step - loss: 0.7958 - mae: 1.2086\n",
            "Epoch 16/150\n",
            "13/13 [==============================] - 0s 2ms/step - loss: 0.8093 - mae: 1.2205\n",
            "Epoch 17/150\n",
            "13/13 [==============================] - 0s 2ms/step - loss: 0.7959 - mae: 1.2036\n",
            "Epoch 18/150\n",
            "13/13 [==============================] - 0s 2ms/step - loss: 0.7881 - mae: 1.2019\n",
            "Epoch 19/150\n",
            "13/13 [==============================] - 0s 2ms/step - loss: 0.7852 - mae: 1.2028\n",
            "Epoch 20/150\n",
            "13/13 [==============================] - 0s 2ms/step - loss: 0.7904 - mae: 1.2066\n",
            "Epoch 21/150\n",
            "13/13 [==============================] - 0s 2ms/step - loss: 0.8082 - mae: 1.2102\n",
            "Epoch 22/150\n",
            "13/13 [==============================] - 0s 3ms/step - loss: 0.8219 - mae: 1.2099\n",
            "Epoch 23/150\n",
            "13/13 [==============================] - 0s 2ms/step - loss: 0.8111 - mae: 1.2090\n",
            "Epoch 24/150\n",
            "13/13 [==============================] - 0s 2ms/step - loss: 0.7843 - mae: 1.2001\n",
            "Epoch 25/150\n",
            "13/13 [==============================] - 0s 2ms/step - loss: 0.7928 - mae: 1.1917\n",
            "Epoch 26/150\n",
            "13/13 [==============================] - 0s 2ms/step - loss: 0.7931 - mae: 1.1955\n",
            "Epoch 27/150\n",
            "13/13 [==============================] - 0s 2ms/step - loss: 0.7841 - mae: 1.1882\n",
            "Epoch 28/150\n",
            "13/13 [==============================] - 0s 2ms/step - loss: 0.7826 - mae: 1.1993\n",
            "Epoch 29/150\n",
            "13/13 [==============================] - 0s 2ms/step - loss: 0.7765 - mae: 1.1737\n",
            "Epoch 30/150\n",
            "13/13 [==============================] - 0s 2ms/step - loss: 0.8023 - mae: 1.1897\n",
            "Epoch 31/150\n",
            "13/13 [==============================] - 0s 2ms/step - loss: 0.7768 - mae: 1.1854\n",
            "Epoch 32/150\n",
            "13/13 [==============================] - 0s 2ms/step - loss: 0.7929 - mae: 1.1823\n",
            "Epoch 33/150\n",
            "13/13 [==============================] - 0s 3ms/step - loss: 0.8342 - mae: 1.2283\n",
            "Epoch 34/150\n",
            "13/13 [==============================] - 0s 2ms/step - loss: 0.8036 - mae: 1.1933\n",
            "Epoch 35/150\n",
            "13/13 [==============================] - 0s 2ms/step - loss: 0.7870 - mae: 1.1905\n",
            "Epoch 36/150\n",
            "13/13 [==============================] - 0s 2ms/step - loss: 0.7875 - mae: 1.1810\n",
            "Epoch 37/150\n",
            "13/13 [==============================] - 0s 2ms/step - loss: 0.7724 - mae: 1.1705\n",
            "Epoch 38/150\n",
            "13/13 [==============================] - 0s 2ms/step - loss: 0.7769 - mae: 1.1709\n",
            "Epoch 39/150\n",
            "13/13 [==============================] - 0s 2ms/step - loss: 0.7621 - mae: 1.1680\n",
            "Epoch 40/150\n",
            "13/13 [==============================] - 0s 2ms/step - loss: 0.7924 - mae: 1.1895\n",
            "Epoch 41/150\n",
            "13/13 [==============================] - 0s 2ms/step - loss: 0.8404 - mae: 1.2358\n",
            "Epoch 42/150\n",
            "13/13 [==============================] - 0s 2ms/step - loss: 0.7791 - mae: 1.1694\n",
            "Epoch 43/150\n",
            "13/13 [==============================] - 0s 2ms/step - loss: 0.7625 - mae: 1.1571\n",
            "Epoch 44/150\n",
            "13/13 [==============================] - 0s 2ms/step - loss: 0.7573 - mae: 1.1605\n",
            "Epoch 45/150\n",
            "13/13 [==============================] - 0s 3ms/step - loss: 0.7660 - mae: 1.1630\n",
            "Epoch 46/150\n",
            "13/13 [==============================] - 0s 3ms/step - loss: 0.7764 - mae: 1.1743\n",
            "Epoch 47/150\n",
            "13/13 [==============================] - 0s 2ms/step - loss: 0.7919 - mae: 1.1831\n",
            "Epoch 48/150\n",
            "13/13 [==============================] - 0s 2ms/step - loss: 0.7895 - mae: 1.1778\n",
            "Epoch 49/150\n",
            "13/13 [==============================] - 0s 2ms/step - loss: 0.7644 - mae: 1.1524\n",
            "Epoch 50/150\n",
            "13/13 [==============================] - 0s 2ms/step - loss: 0.8081 - mae: 1.2061\n",
            "Epoch 51/150\n",
            "13/13 [==============================] - 0s 2ms/step - loss: 0.7654 - mae: 1.1545\n",
            "Epoch 52/150\n",
            "13/13 [==============================] - 0s 2ms/step - loss: 0.7536 - mae: 1.1375\n",
            "Epoch 53/150\n",
            "13/13 [==============================] - 0s 2ms/step - loss: 0.7445 - mae: 1.1400\n",
            "Epoch 54/150\n",
            "13/13 [==============================] - 0s 2ms/step - loss: 0.7371 - mae: 1.1373\n",
            "Epoch 55/150\n",
            "13/13 [==============================] - 0s 3ms/step - loss: 0.7292 - mae: 1.1264\n",
            "Epoch 56/150\n",
            "13/13 [==============================] - 0s 2ms/step - loss: 0.7262 - mae: 1.1253\n",
            "Epoch 57/150\n",
            "13/13 [==============================] - 0s 2ms/step - loss: 0.7244 - mae: 1.1251\n",
            "Epoch 58/150\n",
            "13/13 [==============================] - 0s 2ms/step - loss: 0.7449 - mae: 1.1254\n",
            "Epoch 59/150\n",
            "13/13 [==============================] - 0s 2ms/step - loss: 0.7173 - mae: 1.1093\n",
            "Epoch 60/150\n",
            "13/13 [==============================] - 0s 2ms/step - loss: 0.7210 - mae: 1.1042\n",
            "Epoch 61/150\n",
            "13/13 [==============================] - 0s 2ms/step - loss: 0.7187 - mae: 1.1081\n",
            "Epoch 62/150\n",
            "13/13 [==============================] - 0s 2ms/step - loss: 0.7039 - mae: 1.0885\n",
            "Epoch 63/150\n",
            "13/13 [==============================] - 0s 2ms/step - loss: 0.7055 - mae: 1.0791\n",
            "Epoch 64/150\n",
            "13/13 [==============================] - 0s 3ms/step - loss: 0.6992 - mae: 1.0928\n",
            "Epoch 65/150\n",
            "13/13 [==============================] - 0s 2ms/step - loss: 0.6914 - mae: 1.0752\n",
            "Epoch 66/150\n",
            "13/13 [==============================] - 0s 2ms/step - loss: 0.6894 - mae: 1.0709\n",
            "Epoch 67/150\n",
            "13/13 [==============================] - 0s 2ms/step - loss: 0.6897 - mae: 1.0749\n",
            "Epoch 68/150\n",
            "13/13 [==============================] - 0s 2ms/step - loss: 0.6994 - mae: 1.0777\n",
            "Epoch 69/150\n",
            "13/13 [==============================] - 0s 2ms/step - loss: 0.6930 - mae: 1.0695\n",
            "Epoch 70/150\n",
            "13/13 [==============================] - 0s 2ms/step - loss: 0.6678 - mae: 1.0426\n",
            "Epoch 71/150\n",
            "13/13 [==============================] - 0s 2ms/step - loss: 0.7070 - mae: 1.0818\n",
            "Epoch 72/150\n",
            "13/13 [==============================] - 0s 2ms/step - loss: 0.6636 - mae: 1.0379\n",
            "Epoch 73/150\n",
            "13/13 [==============================] - 0s 2ms/step - loss: 0.6509 - mae: 1.0223\n",
            "Epoch 74/150\n",
            "13/13 [==============================] - 0s 2ms/step - loss: 0.7012 - mae: 1.1005\n",
            "Epoch 75/150\n",
            "13/13 [==============================] - 0s 2ms/step - loss: 0.6560 - mae: 1.0250\n",
            "Epoch 76/150\n",
            "13/13 [==============================] - 0s 2ms/step - loss: 0.6895 - mae: 1.0861\n",
            "Epoch 77/150\n",
            "13/13 [==============================] - 0s 2ms/step - loss: 0.6420 - mae: 1.0070\n",
            "Epoch 78/150\n",
            "13/13 [==============================] - 0s 2ms/step - loss: 0.6083 - mae: 0.9698\n",
            "Epoch 79/150\n",
            "13/13 [==============================] - 0s 2ms/step - loss: 0.5918 - mae: 0.9489\n",
            "Epoch 80/150\n",
            "13/13 [==============================] - 0s 2ms/step - loss: 0.6214 - mae: 0.9945\n",
            "Epoch 81/150\n",
            "13/13 [==============================] - 0s 2ms/step - loss: 0.6686 - mae: 1.0657\n",
            "Epoch 82/150\n",
            "13/13 [==============================] - 0s 3ms/step - loss: 0.7132 - mae: 1.1369\n",
            "Epoch 83/150\n",
            "13/13 [==============================] - 0s 2ms/step - loss: 0.6608 - mae: 1.0612\n",
            "Epoch 84/150\n",
            "13/13 [==============================] - 0s 2ms/step - loss: 0.5944 - mae: 0.9743\n",
            "Epoch 85/150\n",
            "13/13 [==============================] - 0s 2ms/step - loss: 0.5416 - mae: 0.8935\n",
            "Epoch 86/150\n",
            "13/13 [==============================] - 0s 2ms/step - loss: 0.5293 - mae: 0.8726\n",
            "Epoch 87/150\n",
            "13/13 [==============================] - 0s 2ms/step - loss: 0.5131 - mae: 0.8623\n",
            "Epoch 88/150\n",
            "13/13 [==============================] - 0s 2ms/step - loss: 0.4936 - mae: 0.8346\n",
            "Epoch 89/150\n",
            "13/13 [==============================] - 0s 2ms/step - loss: 0.5160 - mae: 0.8854\n",
            "Epoch 90/150\n",
            "13/13 [==============================] - 0s 2ms/step - loss: 0.4843 - mae: 0.8425\n",
            "Epoch 91/150\n",
            "13/13 [==============================] - 0s 2ms/step - loss: 0.4676 - mae: 0.8295\n",
            "Epoch 92/150\n",
            "13/13 [==============================] - 0s 2ms/step - loss: 0.4447 - mae: 0.7891\n",
            "Epoch 93/150\n",
            "13/13 [==============================] - 0s 2ms/step - loss: 0.4660 - mae: 0.8310\n",
            "Epoch 94/150\n",
            "13/13 [==============================] - 0s 2ms/step - loss: 0.4598 - mae: 0.8421\n",
            "Epoch 95/150\n",
            "13/13 [==============================] - 0s 2ms/step - loss: 0.4001 - mae: 0.7513\n",
            "Epoch 96/150\n",
            "13/13 [==============================] - 0s 2ms/step - loss: 0.3986 - mae: 0.7463\n",
            "Epoch 97/150\n",
            "13/13 [==============================] - 0s 2ms/step - loss: 0.4141 - mae: 0.7806\n",
            "Epoch 98/150\n",
            "13/13 [==============================] - 0s 2ms/step - loss: 0.4393 - mae: 0.8179\n",
            "Epoch 99/150\n",
            "13/13 [==============================] - 0s 2ms/step - loss: 0.3892 - mae: 0.7532\n",
            "Epoch 100/150\n",
            "13/13 [==============================] - 0s 2ms/step - loss: 0.5232 - mae: 0.9236\n",
            "Epoch 101/150\n",
            "13/13 [==============================] - 0s 2ms/step - loss: 0.4387 - mae: 0.8062\n",
            "Epoch 102/150\n",
            "13/13 [==============================] - 0s 2ms/step - loss: 0.4196 - mae: 0.7908\n",
            "Epoch 103/150\n",
            "13/13 [==============================] - 0s 2ms/step - loss: 0.4235 - mae: 0.7972\n",
            "Epoch 104/150\n",
            "13/13 [==============================] - 0s 2ms/step - loss: 0.3779 - mae: 0.7395\n",
            "Epoch 105/150\n",
            "13/13 [==============================] - 0s 2ms/step - loss: 0.3809 - mae: 0.7449\n",
            "Epoch 106/150\n",
            "13/13 [==============================] - 0s 2ms/step - loss: 0.4224 - mae: 0.7975\n",
            "Epoch 107/150\n",
            "13/13 [==============================] - 0s 2ms/step - loss: 0.3897 - mae: 0.7586\n",
            "Epoch 108/150\n",
            "13/13 [==============================] - 0s 2ms/step - loss: 0.3873 - mae: 0.7448\n",
            "Epoch 109/150\n",
            "13/13 [==============================] - 0s 2ms/step - loss: 0.3850 - mae: 0.7384\n",
            "Epoch 110/150\n",
            "13/13 [==============================] - 0s 2ms/step - loss: 0.3593 - mae: 0.7167\n",
            "Epoch 111/150\n",
            "13/13 [==============================] - 0s 2ms/step - loss: 0.3897 - mae: 0.7447\n",
            "Epoch 112/150\n",
            "13/13 [==============================] - 0s 2ms/step - loss: 0.3756 - mae: 0.7356\n",
            "Epoch 113/150\n",
            "13/13 [==============================] - 0s 2ms/step - loss: 0.3587 - mae: 0.7185\n",
            "Epoch 114/150\n",
            "13/13 [==============================] - 0s 2ms/step - loss: 0.3536 - mae: 0.7112\n",
            "Epoch 115/150\n",
            "13/13 [==============================] - 0s 2ms/step - loss: 0.3789 - mae: 0.7350\n",
            "Epoch 116/150\n",
            "13/13 [==============================] - 0s 2ms/step - loss: 0.3565 - mae: 0.7052\n",
            "Epoch 117/150\n",
            "13/13 [==============================] - 0s 2ms/step - loss: 0.4017 - mae: 0.7633\n",
            "Epoch 118/150\n",
            "13/13 [==============================] - 0s 2ms/step - loss: 0.4032 - mae: 0.7697\n",
            "Epoch 119/150\n",
            "13/13 [==============================] - 0s 2ms/step - loss: 0.3812 - mae: 0.7519\n",
            "Epoch 120/150\n",
            "13/13 [==============================] - 0s 2ms/step - loss: 0.3725 - mae: 0.7360\n",
            "Epoch 121/150\n",
            "13/13 [==============================] - 0s 2ms/step - loss: 0.3987 - mae: 0.7605\n",
            "Epoch 122/150\n",
            "13/13 [==============================] - 0s 2ms/step - loss: 0.3883 - mae: 0.7485\n",
            "Epoch 123/150\n",
            "13/13 [==============================] - 0s 2ms/step - loss: 0.3588 - mae: 0.7101\n",
            "Epoch 124/150\n",
            "13/13 [==============================] - 0s 2ms/step - loss: 0.3444 - mae: 0.6968\n",
            "Epoch 125/150\n",
            "13/13 [==============================] - 0s 2ms/step - loss: 0.3443 - mae: 0.6995\n",
            "Epoch 126/150\n",
            "13/13 [==============================] - 0s 2ms/step - loss: 0.3642 - mae: 0.7197\n",
            "Epoch 127/150\n",
            "13/13 [==============================] - 0s 2ms/step - loss: 0.3518 - mae: 0.7059\n",
            "Epoch 128/150\n",
            "13/13 [==============================] - 0s 3ms/step - loss: 0.3640 - mae: 0.7230\n",
            "Epoch 129/150\n",
            "13/13 [==============================] - 0s 2ms/step - loss: 0.3942 - mae: 0.7557\n",
            "Epoch 130/150\n",
            "13/13 [==============================] - 0s 2ms/step - loss: 0.3421 - mae: 0.6935\n",
            "Epoch 131/150\n",
            "13/13 [==============================] - 0s 2ms/step - loss: 0.4283 - mae: 0.7936\n",
            "Epoch 132/150\n",
            "13/13 [==============================] - 0s 2ms/step - loss: 0.4303 - mae: 0.8055\n",
            "Epoch 133/150\n",
            "13/13 [==============================] - 0s 2ms/step - loss: 0.3986 - mae: 0.7785\n",
            "Epoch 134/150\n",
            "13/13 [==============================] - 0s 3ms/step - loss: 0.3659 - mae: 0.7301\n",
            "Epoch 135/150\n",
            "13/13 [==============================] - 0s 2ms/step - loss: 0.3468 - mae: 0.6957\n",
            "Epoch 136/150\n",
            "13/13 [==============================] - 0s 2ms/step - loss: 0.4011 - mae: 0.7695\n",
            "Epoch 137/150\n",
            "13/13 [==============================] - 0s 3ms/step - loss: 0.3601 - mae: 0.7236\n",
            "Epoch 138/150\n",
            "13/13 [==============================] - 0s 2ms/step - loss: 0.3626 - mae: 0.7240\n",
            "Epoch 139/150\n",
            "13/13 [==============================] - 0s 2ms/step - loss: 0.3800 - mae: 0.7457\n",
            "Epoch 140/150\n",
            "13/13 [==============================] - 0s 2ms/step - loss: 0.3571 - mae: 0.7177\n",
            "Epoch 141/150\n",
            "13/13 [==============================] - 0s 2ms/step - loss: 0.3762 - mae: 0.7398\n",
            "Epoch 142/150\n",
            "13/13 [==============================] - 0s 2ms/step - loss: 0.3433 - mae: 0.6977\n",
            "Epoch 143/150\n",
            "13/13 [==============================] - 0s 2ms/step - loss: 0.3648 - mae: 0.7266\n",
            "Epoch 144/150\n",
            "13/13 [==============================] - 0s 3ms/step - loss: 0.3770 - mae: 0.7275\n",
            "Epoch 145/150\n",
            "13/13 [==============================] - 0s 2ms/step - loss: 0.3462 - mae: 0.6963\n",
            "Epoch 146/150\n",
            "13/13 [==============================] - 0s 2ms/step - loss: 0.3507 - mae: 0.7041\n",
            "Epoch 147/150\n",
            "13/13 [==============================] - 0s 3ms/step - loss: 0.3453 - mae: 0.7041\n",
            "Epoch 148/150\n",
            "13/13 [==============================] - 0s 2ms/step - loss: 0.3518 - mae: 0.7017\n",
            "Epoch 149/150\n",
            "13/13 [==============================] - 0s 2ms/step - loss: 0.3784 - mae: 0.7444\n",
            "Epoch 150/150\n",
            "13/13 [==============================] - 0s 2ms/step - loss: 0.3452 - mae: 0.7044\n"
          ]
        },
        {
          "output_type": "execute_result",
          "data": {
            "text/plain": [
              "<keras.callbacks.History at 0x7fe38ef6b390>"
            ]
          },
          "metadata": {},
          "execution_count": 51
        }
      ]
    },
    {
      "cell_type": "code",
      "metadata": {
        "id": "swkIz7_eMor6"
      },
      "source": [
        "y_pred=model.predict(X_test)"
      ],
      "execution_count": null,
      "outputs": []
    },
    {
      "cell_type": "code",
      "metadata": {
        "colab": {
          "base_uri": "https://localhost:8080/"
        },
        "id": "4N1hsYbZNo_Y",
        "outputId": "df5aeffb-e301-4561-c7c3-7698dd118444"
      },
      "source": [
        "y_pred.shape"
      ],
      "execution_count": null,
      "outputs": [
        {
          "output_type": "execute_result",
          "data": {
            "text/plain": [
              "(104, 1)"
            ]
          },
          "metadata": {},
          "execution_count": 53
        }
      ]
    },
    {
      "cell_type": "code",
      "metadata": {
        "id": "E4GKj44DNqpM"
      },
      "source": [
        "y_test=y_test.reshape(104,1)"
      ],
      "execution_count": null,
      "outputs": []
    },
    {
      "cell_type": "code",
      "metadata": {
        "colab": {
          "base_uri": "https://localhost:8080/"
        },
        "id": "yPSePjKsHCbk",
        "outputId": "0b158265-1131-4d45-f40b-f7fca6a4a26b"
      },
      "source": [
        "from sklearn.metrics import mean_absolute_error\n",
        "\n",
        "mean_absolute_error(y_pred,y_test)\n",
        "\n"
      ],
      "execution_count": null,
      "outputs": [
        {
          "output_type": "execute_result",
          "data": {
            "text/plain": [
              "0.6767856909678535"
            ]
          },
          "metadata": {},
          "execution_count": 55
        }
      ]
    },
    {
      "cell_type": "code",
      "metadata": {
        "id": "FB8dPtIkNzzH"
      },
      "source": [
        "np.set_printoptions(precision=2)\n",
        "results=np.concatenate((y_pred,y_test),1)"
      ],
      "execution_count": null,
      "outputs": []
    },
    {
      "cell_type": "code",
      "metadata": {
        "id": "GKISJA2YN96e"
      },
      "source": [
        "#model.save('ANN_model_for_IZO_peak_ratio.h5')"
      ],
      "execution_count": null,
      "outputs": []
    },
    {
      "cell_type": "code",
      "metadata": {
        "id": "cjwcf-5ozKp1"
      },
      "source": [
        "#model.save_weights('IZO_peak_ratio.h5')"
      ],
      "execution_count": null,
      "outputs": []
    },
    {
      "cell_type": "code",
      "metadata": {
        "id": "sWJrV7pVvI0f"
      },
      "source": [
        "#/content/ANN_model_for_IZO_peak_ratio"
      ],
      "execution_count": null,
      "outputs": []
    },
    {
      "cell_type": "code",
      "metadata": {
        "id": "_bKXjt9nvz10"
      },
      "source": [
        "results_ann_peak_ratio=pd.DataFrame(results,columns=['y_pred','y_test'])"
      ],
      "execution_count": null,
      "outputs": []
    },
    {
      "cell_type": "code",
      "metadata": {
        "colab": {
          "base_uri": "https://localhost:8080/",
          "height": 1000
        },
        "id": "LBoWpaPswHYi",
        "outputId": "d9020361-572a-4901-ddb4-3e455e74fd2f"
      },
      "source": [
        "results_ann_peak_ratio.head(50)"
      ],
      "execution_count": null,
      "outputs": [
        {
          "output_type": "execute_result",
          "data": {
            "text/html": [
              "<div>\n",
              "<style scoped>\n",
              "    .dataframe tbody tr th:only-of-type {\n",
              "        vertical-align: middle;\n",
              "    }\n",
              "\n",
              "    .dataframe tbody tr th {\n",
              "        vertical-align: top;\n",
              "    }\n",
              "\n",
              "    .dataframe thead th {\n",
              "        text-align: right;\n",
              "    }\n",
              "</style>\n",
              "<table border=\"1\" class=\"dataframe\">\n",
              "  <thead>\n",
              "    <tr style=\"text-align: right;\">\n",
              "      <th></th>\n",
              "      <th>y_pred</th>\n",
              "      <th>y_test</th>\n",
              "    </tr>\n",
              "  </thead>\n",
              "  <tbody>\n",
              "    <tr>\n",
              "      <th>0</th>\n",
              "      <td>9.981297</td>\n",
              "      <td>9.8</td>\n",
              "    </tr>\n",
              "    <tr>\n",
              "      <th>1</th>\n",
              "      <td>10.688016</td>\n",
              "      <td>10.7</td>\n",
              "    </tr>\n",
              "    <tr>\n",
              "      <th>2</th>\n",
              "      <td>9.630534</td>\n",
              "      <td>9.6</td>\n",
              "    </tr>\n",
              "    <tr>\n",
              "      <th>3</th>\n",
              "      <td>8.931956</td>\n",
              "      <td>10.0</td>\n",
              "    </tr>\n",
              "    <tr>\n",
              "      <th>4</th>\n",
              "      <td>9.623703</td>\n",
              "      <td>9.8</td>\n",
              "    </tr>\n",
              "    <tr>\n",
              "      <th>5</th>\n",
              "      <td>11.188565</td>\n",
              "      <td>11.0</td>\n",
              "    </tr>\n",
              "    <tr>\n",
              "      <th>6</th>\n",
              "      <td>9.608744</td>\n",
              "      <td>9.8</td>\n",
              "    </tr>\n",
              "    <tr>\n",
              "      <th>7</th>\n",
              "      <td>9.941178</td>\n",
              "      <td>9.6</td>\n",
              "    </tr>\n",
              "    <tr>\n",
              "      <th>8</th>\n",
              "      <td>7.890296</td>\n",
              "      <td>7.5</td>\n",
              "    </tr>\n",
              "    <tr>\n",
              "      <th>9</th>\n",
              "      <td>10.936285</td>\n",
              "      <td>11.0</td>\n",
              "    </tr>\n",
              "    <tr>\n",
              "      <th>10</th>\n",
              "      <td>11.409513</td>\n",
              "      <td>10.7</td>\n",
              "    </tr>\n",
              "    <tr>\n",
              "      <th>11</th>\n",
              "      <td>7.915526</td>\n",
              "      <td>7.5</td>\n",
              "    </tr>\n",
              "    <tr>\n",
              "      <th>12</th>\n",
              "      <td>12.291739</td>\n",
              "      <td>13.5</td>\n",
              "    </tr>\n",
              "    <tr>\n",
              "      <th>13</th>\n",
              "      <td>7.998106</td>\n",
              "      <td>7.5</td>\n",
              "    </tr>\n",
              "    <tr>\n",
              "      <th>14</th>\n",
              "      <td>12.338359</td>\n",
              "      <td>13.5</td>\n",
              "    </tr>\n",
              "    <tr>\n",
              "      <th>15</th>\n",
              "      <td>9.652659</td>\n",
              "      <td>9.6</td>\n",
              "    </tr>\n",
              "    <tr>\n",
              "      <th>16</th>\n",
              "      <td>11.505610</td>\n",
              "      <td>11.0</td>\n",
              "    </tr>\n",
              "    <tr>\n",
              "      <th>17</th>\n",
              "      <td>8.884466</td>\n",
              "      <td>10.0</td>\n",
              "    </tr>\n",
              "    <tr>\n",
              "      <th>18</th>\n",
              "      <td>9.051120</td>\n",
              "      <td>10.0</td>\n",
              "    </tr>\n",
              "    <tr>\n",
              "      <th>19</th>\n",
              "      <td>10.810208</td>\n",
              "      <td>11.0</td>\n",
              "    </tr>\n",
              "    <tr>\n",
              "      <th>20</th>\n",
              "      <td>10.728594</td>\n",
              "      <td>11.0</td>\n",
              "    </tr>\n",
              "    <tr>\n",
              "      <th>21</th>\n",
              "      <td>11.341356</td>\n",
              "      <td>10.7</td>\n",
              "    </tr>\n",
              "    <tr>\n",
              "      <th>22</th>\n",
              "      <td>11.175698</td>\n",
              "      <td>11.0</td>\n",
              "    </tr>\n",
              "    <tr>\n",
              "      <th>23</th>\n",
              "      <td>8.669685</td>\n",
              "      <td>7.5</td>\n",
              "    </tr>\n",
              "    <tr>\n",
              "      <th>24</th>\n",
              "      <td>9.648211</td>\n",
              "      <td>9.8</td>\n",
              "    </tr>\n",
              "    <tr>\n",
              "      <th>25</th>\n",
              "      <td>8.788331</td>\n",
              "      <td>10.0</td>\n",
              "    </tr>\n",
              "    <tr>\n",
              "      <th>26</th>\n",
              "      <td>8.673752</td>\n",
              "      <td>7.5</td>\n",
              "    </tr>\n",
              "    <tr>\n",
              "      <th>27</th>\n",
              "      <td>12.961542</td>\n",
              "      <td>13.5</td>\n",
              "    </tr>\n",
              "    <tr>\n",
              "      <th>28</th>\n",
              "      <td>11.056735</td>\n",
              "      <td>11.0</td>\n",
              "    </tr>\n",
              "    <tr>\n",
              "      <th>29</th>\n",
              "      <td>9.886932</td>\n",
              "      <td>9.6</td>\n",
              "    </tr>\n",
              "    <tr>\n",
              "      <th>30</th>\n",
              "      <td>9.500598</td>\n",
              "      <td>9.8</td>\n",
              "    </tr>\n",
              "    <tr>\n",
              "      <th>31</th>\n",
              "      <td>9.552190</td>\n",
              "      <td>11.4</td>\n",
              "    </tr>\n",
              "    <tr>\n",
              "      <th>32</th>\n",
              "      <td>10.202229</td>\n",
              "      <td>10.7</td>\n",
              "    </tr>\n",
              "    <tr>\n",
              "      <th>33</th>\n",
              "      <td>9.376829</td>\n",
              "      <td>10.0</td>\n",
              "    </tr>\n",
              "    <tr>\n",
              "      <th>34</th>\n",
              "      <td>14.479271</td>\n",
              "      <td>13.5</td>\n",
              "    </tr>\n",
              "    <tr>\n",
              "      <th>35</th>\n",
              "      <td>12.130915</td>\n",
              "      <td>13.5</td>\n",
              "    </tr>\n",
              "    <tr>\n",
              "      <th>36</th>\n",
              "      <td>9.418365</td>\n",
              "      <td>9.8</td>\n",
              "    </tr>\n",
              "    <tr>\n",
              "      <th>37</th>\n",
              "      <td>10.821711</td>\n",
              "      <td>10.7</td>\n",
              "    </tr>\n",
              "    <tr>\n",
              "      <th>38</th>\n",
              "      <td>9.899654</td>\n",
              "      <td>9.6</td>\n",
              "    </tr>\n",
              "    <tr>\n",
              "      <th>39</th>\n",
              "      <td>8.656376</td>\n",
              "      <td>7.5</td>\n",
              "    </tr>\n",
              "    <tr>\n",
              "      <th>40</th>\n",
              "      <td>9.743897</td>\n",
              "      <td>11.4</td>\n",
              "    </tr>\n",
              "    <tr>\n",
              "      <th>41</th>\n",
              "      <td>8.800757</td>\n",
              "      <td>10.0</td>\n",
              "    </tr>\n",
              "    <tr>\n",
              "      <th>42</th>\n",
              "      <td>10.813731</td>\n",
              "      <td>10.7</td>\n",
              "    </tr>\n",
              "    <tr>\n",
              "      <th>43</th>\n",
              "      <td>10.703307</td>\n",
              "      <td>10.7</td>\n",
              "    </tr>\n",
              "    <tr>\n",
              "      <th>44</th>\n",
              "      <td>8.808441</td>\n",
              "      <td>10.0</td>\n",
              "    </tr>\n",
              "    <tr>\n",
              "      <th>45</th>\n",
              "      <td>7.763158</td>\n",
              "      <td>7.5</td>\n",
              "    </tr>\n",
              "    <tr>\n",
              "      <th>46</th>\n",
              "      <td>9.436299</td>\n",
              "      <td>10.0</td>\n",
              "    </tr>\n",
              "    <tr>\n",
              "      <th>47</th>\n",
              "      <td>10.223601</td>\n",
              "      <td>11.4</td>\n",
              "    </tr>\n",
              "    <tr>\n",
              "      <th>48</th>\n",
              "      <td>7.883971</td>\n",
              "      <td>7.5</td>\n",
              "    </tr>\n",
              "    <tr>\n",
              "      <th>49</th>\n",
              "      <td>8.636559</td>\n",
              "      <td>7.5</td>\n",
              "    </tr>\n",
              "  </tbody>\n",
              "</table>\n",
              "</div>"
            ],
            "text/plain": [
              "       y_pred  y_test\n",
              "0    9.981297     9.8\n",
              "1   10.688016    10.7\n",
              "2    9.630534     9.6\n",
              "3    8.931956    10.0\n",
              "4    9.623703     9.8\n",
              "5   11.188565    11.0\n",
              "6    9.608744     9.8\n",
              "7    9.941178     9.6\n",
              "8    7.890296     7.5\n",
              "9   10.936285    11.0\n",
              "10  11.409513    10.7\n",
              "11   7.915526     7.5\n",
              "12  12.291739    13.5\n",
              "13   7.998106     7.5\n",
              "14  12.338359    13.5\n",
              "15   9.652659     9.6\n",
              "16  11.505610    11.0\n",
              "17   8.884466    10.0\n",
              "18   9.051120    10.0\n",
              "19  10.810208    11.0\n",
              "20  10.728594    11.0\n",
              "21  11.341356    10.7\n",
              "22  11.175698    11.0\n",
              "23   8.669685     7.5\n",
              "24   9.648211     9.8\n",
              "25   8.788331    10.0\n",
              "26   8.673752     7.5\n",
              "27  12.961542    13.5\n",
              "28  11.056735    11.0\n",
              "29   9.886932     9.6\n",
              "30   9.500598     9.8\n",
              "31   9.552190    11.4\n",
              "32  10.202229    10.7\n",
              "33   9.376829    10.0\n",
              "34  14.479271    13.5\n",
              "35  12.130915    13.5\n",
              "36   9.418365     9.8\n",
              "37  10.821711    10.7\n",
              "38   9.899654     9.6\n",
              "39   8.656376     7.5\n",
              "40   9.743897    11.4\n",
              "41   8.800757    10.0\n",
              "42  10.813731    10.7\n",
              "43  10.703307    10.7\n",
              "44   8.808441    10.0\n",
              "45   7.763158     7.5\n",
              "46   9.436299    10.0\n",
              "47  10.223601    11.4\n",
              "48   7.883971     7.5\n",
              "49   8.636559     7.5"
            ]
          },
          "metadata": {},
          "execution_count": 61
        }
      ]
    },
    {
      "cell_type": "code",
      "metadata": {
        "id": "AJKdDUIY0J-q"
      },
      "source": [
        "Writer=pd.ExcelWriter('outpu.xlsx')\n",
        "\n",
        "results_ann_peak_ratio.to_excel(Writer)"
      ],
      "execution_count": null,
      "outputs": []
    },
    {
      "cell_type": "code",
      "metadata": {
        "id": "HTlat5Sxwa6w"
      },
      "source": [
        "Writer.save()"
      ],
      "execution_count": null,
      "outputs": []
    },
    {
      "cell_type": "code",
      "metadata": {
        "id": "xPtL0H0GxDcB"
      },
      "source": [
        "from sklearn import metrics"
      ],
      "execution_count": null,
      "outputs": []
    },
    {
      "cell_type": "code",
      "metadata": {
        "colab": {
          "base_uri": "https://localhost:8080/"
        },
        "id": "bNtFSwdO83Z_",
        "outputId": "4ad9346b-f537-4fdf-9998-63deac32bb3e"
      },
      "source": [
        "metrics.explained_variance_score(y_test,y_pred)"
      ],
      "execution_count": null,
      "outputs": [
        {
          "output_type": "execute_result",
          "data": {
            "text/plain": [
              "0.795532650012956"
            ]
          },
          "metadata": {},
          "execution_count": 65
        }
      ]
    },
    {
      "cell_type": "code",
      "metadata": {
        "colab": {
          "base_uri": "https://localhost:8080/"
        },
        "id": "P4y1ZcTB88Ki",
        "outputId": "06575188-c67a-4c20-98c4-afcdaf04d317"
      },
      "source": [
        "metrics.mean_squared_error(y_test,y_pred)"
      ],
      "execution_count": null,
      "outputs": [
        {
          "output_type": "execute_result",
          "data": {
            "text/plain": [
              "0.7094074995577222"
            ]
          },
          "metadata": {},
          "execution_count": 66
        }
      ]
    },
    {
      "cell_type": "code",
      "metadata": {
        "id": "djYcq_Hc9lyx",
        "colab": {
          "base_uri": "https://localhost:8080/"
        },
        "outputId": "350578b8-3b9c-45b6-c9f7-9917085a3ebb"
      },
      "source": [
        "model.summary()"
      ],
      "execution_count": null,
      "outputs": [
        {
          "output_type": "stream",
          "name": "stdout",
          "text": [
            "Model: \"sequential_1\"\n",
            "_________________________________________________________________\n",
            "Layer (type)                 Output Shape              Param #   \n",
            "=================================================================\n",
            "dense_5 (Dense)              (None, 30)                390       \n",
            "_________________________________________________________________\n",
            "dense_6 (Dense)              (None, 20)                620       \n",
            "_________________________________________________________________\n",
            "dense_7 (Dense)              (None, 8)                 168       \n",
            "_________________________________________________________________\n",
            "dense_8 (Dense)              (None, 4)                 36        \n",
            "_________________________________________________________________\n",
            "dense_9 (Dense)              (None, 1)                 5         \n",
            "=================================================================\n",
            "Total params: 1,219\n",
            "Trainable params: 1,219\n",
            "Non-trainable params: 0\n",
            "_________________________________________________________________\n"
          ]
        }
      ]
    },
    {
      "cell_type": "code",
      "metadata": {
        "colab": {
          "base_uri": "https://localhost:8080/",
          "height": 643
        },
        "id": "jYHZhKPuopU9",
        "outputId": "e3a94e1e-7ae4-44c0-b598-c49d78079ba4"
      },
      "source": [
        "from tensorflow.keras.utils import plot_model\n",
        "\n",
        "plot_model(model=model,show_shapes=True)"
      ],
      "execution_count": null,
      "outputs": [
        {
          "output_type": "execute_result",
          "data": {
            "image/png": "[encoded data removed]",
            "text/plain": [
              "<IPython.core.display.Image object>"
            ]
          },
          "metadata": {},
          "execution_count": 68
        }
      ]
    },
    {
      "cell_type": "code",
      "metadata": {
        "colab": {
          "base_uri": "https://localhost:8080/",
          "height": 281
        },
        "id": "XXhntwjByrMG",
        "outputId": "eb61a383-698e-4793-974a-640b54598156"
      },
      "source": [
        "import matplotlib.pyplot as plt\n",
        "plt.scatter(y_pred,y_test,marker='o',linewidths=0.0002)"
      ],
      "execution_count": null,
      "outputs": [
        {
          "output_type": "execute_result",
          "data": {
            "text/plain": [
              "<matplotlib.collections.PathCollection at 0x7fe38f5fb210>"
            ]
          },
          "metadata": {},
          "execution_count": 69
        },
        {
          "output_type": "display_data",
          "data": {
            "image/png": "[encoded data removed]",
            "text/plain": [
              "<Figure size 432x288 with 1 Axes>"
            ]
          },
          "metadata": {
            "needs_background": "light"
          }
        }
      ]
    },
    {
      "cell_type": "code",
      "metadata": {
        "colab": {
          "base_uri": "https://localhost:8080/"
        },
        "id": "dh6pxhZU0WZl",
        "outputId": "c1bdf513-0c8c-4cad-959a-3005d0d26c0b"
      },
      "source": [
        "tf.keras.metrics.mae(y_test,y_pred)"
      ],
      "execution_count": null,
      "outputs": [
        {
          "output_type": "execute_result",
          "data": {
            "text/plain": [
              "<tf.Tensor: shape=(104,), dtype=float32, numpy=\n",
              "array([0.18, 0.01, 0.03, 1.07, 0.18, 0.19, 0.19, 0.34, 0.39, 0.06, 0.71,\n",
              "       0.42, 1.21, 0.5 , 1.16, 0.05, 0.51, 1.12, 0.95, 0.19, 0.27, 0.64,\n",
              "       0.18, 1.17, 0.15, 1.21, 1.17, 0.54, 0.06, 0.29, 0.3 , 1.85, 0.5 ,\n",
              "       0.62, 0.98, 1.37, 0.38, 0.12, 0.3 , 1.16, 1.66, 1.2 , 0.11, 0.  ,\n",
              "       1.19, 0.26, 0.56, 1.18, 0.38, 1.14, 2.13, 0.89, 0.53, 0.37, 0.39,\n",
              "       0.49, 0.59, 1.11, 1.83, 0.32, 0.79, 0.14, 0.49, 0.54, 1.51, 0.76,\n",
              "       0.12, 0.75, 1.5 , 0.05, 1.31, 0.58, 1.45, 0.55, 1.65, 0.68, 0.29,\n",
              "       1.32, 1.11, 1.27, 0.44, 1.06, 0.11, 0.3 , 0.35, 0.46, 0.59, 0.87,\n",
              "       0.73, 0.12, 1.37, 0.64, 1.8 , 0.63, 1.19, 0.33, 0.14, 0.54, 0.24,\n",
              "       0.49, 0.54, 0.01, 1.12, 0.43], dtype=float32)>"
            ]
          },
          "metadata": {},
          "execution_count": 70
        }
      ]
    },
    {
      "cell_type": "code",
      "metadata": {
        "colab": {
          "base_uri": "https://localhost:8080/"
        },
        "id": "iW0pYd39S7QX",
        "outputId": "f7b43e48-dd2c-4a92-b3ca-d0fa4bf1a928"
      },
      "source": [
        "tf.keras.metrics.mse(y_test,y_pred)"
      ],
      "execution_count": null,
      "outputs": [
        {
          "output_type": "execute_result",
          "data": {
            "text/plain": [
              "<tf.Tensor: shape=(104,), dtype=float32, numpy=\n",
              "array([3.29e-02, 1.44e-04, 9.32e-04, 1.14e+00, 3.11e-02, 3.56e-02,\n",
              "       3.66e-02, 1.16e-01, 1.52e-01, 4.06e-03, 5.03e-01, 1.73e-01,\n",
              "       1.46e+00, 2.48e-01, 1.35e+00, 2.77e-03, 2.56e-01, 1.24e+00,\n",
              "       9.00e-01, 3.60e-02, 7.37e-02, 4.11e-01, 3.09e-02, 1.37e+00,\n",
              "       2.30e-02, 1.47e+00, 1.38e+00, 2.90e-01, 3.22e-03, 8.23e-02,\n",
              "       8.96e-02, 3.41e+00, 2.48e-01, 3.88e-01, 9.59e-01, 1.87e+00,\n",
              "       1.46e-01, 1.48e-02, 8.98e-02, 1.34e+00, 2.74e+00, 1.44e+00,\n",
              "       1.29e-02, 1.09e-05, 1.42e+00, 6.93e-02, 3.18e-01, 1.38e+00,\n",
              "       1.47e-01, 1.29e+00, 4.54e+00, 7.97e-01, 2.79e-01, 1.37e-01,\n",
              "       1.51e-01, 2.39e-01, 3.48e-01, 1.23e+00, 3.34e+00, 1.02e-01,\n",
              "       6.31e-01, 2.04e-02, 2.35e-01, 2.95e-01, 2.28e+00, 5.72e-01,\n",
              "       1.39e-02, 5.61e-01, 2.24e+00, 2.05e-03, 1.71e+00, 3.32e-01,\n",
              "       2.12e+00, 3.04e-01, 2.73e+00, 4.59e-01, 8.59e-02, 1.75e+00,\n",
              "       1.22e+00, 1.61e+00, 1.96e-01, 1.13e+00, 1.29e-02, 8.81e-02,\n",
              "       1.25e-01, 2.07e-01, 3.51e-01, 7.53e-01, 5.35e-01, 1.54e-02,\n",
              "       1.88e+00, 4.11e-01, 3.26e+00, 3.97e-01, 1.42e+00, 1.06e-01,\n",
              "       2.09e-02, 2.92e-01, 5.55e-02, 2.42e-01, 2.87e-01, 2.94e-05,\n",
              "       1.24e+00, 1.81e-01], dtype=float32)>"
            ]
          },
          "metadata": {},
          "execution_count": 71
        }
      ]
    },
    {
      "cell_type": "code",
      "metadata": {
        "colab": {
          "base_uri": "https://localhost:8080/"
        },
        "id": "tC9BqSV7TLlT",
        "outputId": "45e11813-9d9b-4ea1-d30e-a1dc609676ba"
      },
      "source": [
        "y_test.shape  # If we want a single value MAE or MSE,  squeex the dimentions"
      ],
      "execution_count": null,
      "outputs": [
        {
          "output_type": "execute_result",
          "data": {
            "text/plain": [
              "(104, 1)"
            ]
          },
          "metadata": {},
          "execution_count": 72
        }
      ]
    },
    {
      "cell_type": "code",
      "metadata": {
        "colab": {
          "base_uri": "https://localhost:8080/"
        },
        "id": "Bd56S28gTgxA",
        "outputId": "be44860a-b34a-4342-c547-a21811afe6f3"
      },
      "source": [
        "tf.keras.metrics.mae(tf.squeeze(y_pred),tf.squeeze(y_test))"
      ],
      "execution_count": null,
      "outputs": [
        {
          "output_type": "execute_result",
          "data": {
            "text/plain": [
              "<tf.Tensor: shape=(), dtype=float64, numpy=0.6767856909678535>"
            ]
          },
          "metadata": {},
          "execution_count": 73
        }
      ]
    },
    {
      "cell_type": "code",
      "metadata": {
        "id": "X9fwhZ4YVzjU"
      },
      "source": [
        ""
      ],
      "execution_count": null,
      "outputs": []
    }
  ]
}