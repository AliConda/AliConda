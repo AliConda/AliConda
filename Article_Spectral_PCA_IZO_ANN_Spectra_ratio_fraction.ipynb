{
  "nbformat": 4,
  "nbformat_minor": 0,
  "metadata": {
    "colab": {
      "name": "Article_Spectral_PCA_IZO_ANN Spectra ratio fraction",
      "provenance": [],
      "authorship_tag": "ABX9TyO5D1kAeeg5FN9KHIBAnpax",
      "include_colab_link": true
    },
    "kernelspec": {
      "name": "python3",
      "display_name": "Python 3"
    },
    "language_info": {
      "name": "python"
    },
    "accelerator": "GPU"
  },
  "cells": [
    {
      "cell_type": "markdown",
      "metadata": {
        "id": "view-in-github",
        "colab_type": "text"
      },
      "source": [
        "<a href=\"https://colab.research.google.com/github/AliConda/AliConda/blob/main/Article_Spectral_PCA_IZO_ANN_Spectra_ratio_fraction.ipynb\" target=\"_parent\"><img src=\"https://colab.research.google.com/assets/colab-badge.svg\" alt=\"Open In Colab\"/></a>"
      ]
    },
    {
      "cell_type": "code",
      "metadata": {
        "id": "N4a4lgpOAze0"
      },
      "source": [
        "import pandas as pd\n",
        "import tensorflow as tf\n",
        "import numpy as np\n",
        "import matplotlib.pyplot as plt"
      ],
      "execution_count": null,
      "outputs": []
    },
    {
      "cell_type": "code",
      "metadata": {
        "id": "7CX6XOowBEIm"
      },
      "source": [
        "df_raw=pd.read_excel('IZO_zeroed and scaled sum.xlsx')\n",
        "df_reserve=pd.read_excel('Full_IZO_spectral_ann.xlsx')"
      ],
      "execution_count": null,
      "outputs": []
    },
    {
      "cell_type": "code",
      "metadata": {
        "colab": {
          "base_uri": "https://localhost:8080/",
          "height": 262
        },
        "id": "8_HrC8QFBZLC",
        "outputId": "dc98b9f5-a2f5-4061-8434-75c7084e6199"
      },
      "source": [
        "df_raw.head(3)"
      ],
      "execution_count": null,
      "outputs": [
        {
          "output_type": "execute_result",
          "data": {
            "text/html": [
              "<div>\n",
              "<style scoped>\n",
              "    .dataframe tbody tr th:only-of-type {\n",
              "        vertical-align: middle;\n",
              "    }\n",
              "\n",
              "    .dataframe tbody tr th {\n",
              "        vertical-align: top;\n",
              "    }\n",
              "\n",
              "    .dataframe thead th {\n",
              "        text-align: right;\n",
              "    }\n",
              "</style>\n",
              "<table border=\"1\" class=\"dataframe\">\n",
              "  <thead>\n",
              "    <tr style=\"text-align: right;\">\n",
              "      <th></th>\n",
              "      <th>Unnamed: 0</th>\n",
              "      <th>195</th>\n",
              "      <th>195.2</th>\n",
              "      <th>195.4</th>\n",
              "      <th>195.6</th>\n",
              "      <th>195.8</th>\n",
              "      <th>196</th>\n",
              "      <th>196.2</th>\n",
              "      <th>196.4</th>\n",
              "      <th>196.6</th>\n",
              "      <th>196.8</th>\n",
              "      <th>197</th>\n",
              "      <th>197.2</th>\n",
              "      <th>197.4</th>\n",
              "      <th>197.6</th>\n",
              "      <th>197.8</th>\n",
              "      <th>198</th>\n",
              "      <th>198.2</th>\n",
              "      <th>198.4</th>\n",
              "      <th>198.6</th>\n",
              "      <th>198.8</th>\n",
              "      <th>199</th>\n",
              "      <th>199.2</th>\n",
              "      <th>199.4</th>\n",
              "      <th>199.6</th>\n",
              "      <th>199.8</th>\n",
              "      <th>200</th>\n",
              "      <th>200.2</th>\n",
              "      <th>200.4</th>\n",
              "      <th>200.6</th>\n",
              "      <th>200.8</th>\n",
              "      <th>201</th>\n",
              "      <th>201.2</th>\n",
              "      <th>201.4</th>\n",
              "      <th>201.6</th>\n",
              "      <th>201.8</th>\n",
              "      <th>202</th>\n",
              "      <th>202.2</th>\n",
              "      <th>202.4</th>\n",
              "      <th>202.6</th>\n",
              "      <th>...</th>\n",
              "      <th>1097.2</th>\n",
              "      <th>1097.4</th>\n",
              "      <th>1097.6</th>\n",
              "      <th>1097.8</th>\n",
              "      <th>1098</th>\n",
              "      <th>1098.2</th>\n",
              "      <th>1098.4</th>\n",
              "      <th>1098.6</th>\n",
              "      <th>1098.8</th>\n",
              "      <th>1099</th>\n",
              "      <th>1099.2</th>\n",
              "      <th>1099.4</th>\n",
              "      <th>1099.6</th>\n",
              "      <th>1099.8</th>\n",
              "      <th>1100</th>\n",
              "      <th>1100.2</th>\n",
              "      <th>1100.4</th>\n",
              "      <th>1100.6</th>\n",
              "      <th>1100.8</th>\n",
              "      <th>1101</th>\n",
              "      <th>1101.2</th>\n",
              "      <th>1101.4</th>\n",
              "      <th>1101.6</th>\n",
              "      <th>1101.8</th>\n",
              "      <th>1102</th>\n",
              "      <th>1102.2</th>\n",
              "      <th>1102.4</th>\n",
              "      <th>1102.6</th>\n",
              "      <th>1102.8</th>\n",
              "      <th>1103</th>\n",
              "      <th>1103.2</th>\n",
              "      <th>1103.4</th>\n",
              "      <th>1103.6</th>\n",
              "      <th>1103.8</th>\n",
              "      <th>1104</th>\n",
              "      <th>1104.2</th>\n",
              "      <th>1104.4</th>\n",
              "      <th>1104.6</th>\n",
              "      <th>1104.8</th>\n",
              "      <th>sum</th>\n",
              "    </tr>\n",
              "  </thead>\n",
              "  <tbody>\n",
              "    <tr>\n",
              "      <th>0</th>\n",
              "      <td>0</td>\n",
              "      <td>0</td>\n",
              "      <td>0.000002</td>\n",
              "      <td>6.339045e-07</td>\n",
              "      <td>0.000000</td>\n",
              "      <td>0.0</td>\n",
              "      <td>0</td>\n",
              "      <td>0.0</td>\n",
              "      <td>0.0</td>\n",
              "      <td>0.000000</td>\n",
              "      <td>0.000000</td>\n",
              "      <td>0.000000</td>\n",
              "      <td>6.995184e-07</td>\n",
              "      <td>0.000003</td>\n",
              "      <td>0.000008</td>\n",
              "      <td>0.000014</td>\n",
              "      <td>0.000018</td>\n",
              "      <td>0.000014</td>\n",
              "      <td>9.434174e-06</td>\n",
              "      <td>4.883140e-06</td>\n",
              "      <td>0.000002</td>\n",
              "      <td>0.0</td>\n",
              "      <td>0</td>\n",
              "      <td>0.0</td>\n",
              "      <td>0.000002</td>\n",
              "      <td>3.138990e-06</td>\n",
              "      <td>9.822319e-07</td>\n",
              "      <td>0.0</td>\n",
              "      <td>0</td>\n",
              "      <td>0</td>\n",
              "      <td>0.000000e+00</td>\n",
              "      <td>0.000000</td>\n",
              "      <td>0.000000</td>\n",
              "      <td>0.000000</td>\n",
              "      <td>0.000000e+00</td>\n",
              "      <td>0.0</td>\n",
              "      <td>0.0</td>\n",
              "      <td>1.604555e-07</td>\n",
              "      <td>0.0</td>\n",
              "      <td>0</td>\n",
              "      <td>...</td>\n",
              "      <td>0</td>\n",
              "      <td>0</td>\n",
              "      <td>0.000000</td>\n",
              "      <td>0.0</td>\n",
              "      <td>0</td>\n",
              "      <td>0</td>\n",
              "      <td>0</td>\n",
              "      <td>0</td>\n",
              "      <td>0</td>\n",
              "      <td>0</td>\n",
              "      <td>0</td>\n",
              "      <td>0</td>\n",
              "      <td>0</td>\n",
              "      <td>0</td>\n",
              "      <td>0</td>\n",
              "      <td>0</td>\n",
              "      <td>0</td>\n",
              "      <td>0</td>\n",
              "      <td>0</td>\n",
              "      <td>0</td>\n",
              "      <td>0</td>\n",
              "      <td>0</td>\n",
              "      <td>0</td>\n",
              "      <td>0</td>\n",
              "      <td>0</td>\n",
              "      <td>0</td>\n",
              "      <td>0</td>\n",
              "      <td>0</td>\n",
              "      <td>0</td>\n",
              "      <td>0</td>\n",
              "      <td>0</td>\n",
              "      <td>0</td>\n",
              "      <td>0</td>\n",
              "      <td>0</td>\n",
              "      <td>0</td>\n",
              "      <td>0</td>\n",
              "      <td>0</td>\n",
              "      <td>0</td>\n",
              "      <td>0</td>\n",
              "      <td>1</td>\n",
              "    </tr>\n",
              "    <tr>\n",
              "      <th>1</th>\n",
              "      <td>1</td>\n",
              "      <td>0</td>\n",
              "      <td>0.000000</td>\n",
              "      <td>0.000000e+00</td>\n",
              "      <td>0.000000</td>\n",
              "      <td>0.0</td>\n",
              "      <td>0</td>\n",
              "      <td>0.0</td>\n",
              "      <td>0.0</td>\n",
              "      <td>0.000001</td>\n",
              "      <td>0.000006</td>\n",
              "      <td>0.000005</td>\n",
              "      <td>4.400519e-06</td>\n",
              "      <td>0.000004</td>\n",
              "      <td>0.000006</td>\n",
              "      <td>0.000008</td>\n",
              "      <td>0.000009</td>\n",
              "      <td>0.000005</td>\n",
              "      <td>2.217574e-07</td>\n",
              "      <td>0.000000e+00</td>\n",
              "      <td>0.000000</td>\n",
              "      <td>0.0</td>\n",
              "      <td>0</td>\n",
              "      <td>0.0</td>\n",
              "      <td>0.000000</td>\n",
              "      <td>5.029072e-07</td>\n",
              "      <td>0.000000e+00</td>\n",
              "      <td>0.0</td>\n",
              "      <td>0</td>\n",
              "      <td>0</td>\n",
              "      <td>6.303286e-08</td>\n",
              "      <td>0.000002</td>\n",
              "      <td>0.000002</td>\n",
              "      <td>0.000001</td>\n",
              "      <td>4.746836e-07</td>\n",
              "      <td>0.0</td>\n",
              "      <td>0.0</td>\n",
              "      <td>0.000000e+00</td>\n",
              "      <td>0.0</td>\n",
              "      <td>0</td>\n",
              "      <td>...</td>\n",
              "      <td>0</td>\n",
              "      <td>0</td>\n",
              "      <td>0.000000</td>\n",
              "      <td>0.0</td>\n",
              "      <td>0</td>\n",
              "      <td>0</td>\n",
              "      <td>0</td>\n",
              "      <td>0</td>\n",
              "      <td>0</td>\n",
              "      <td>0</td>\n",
              "      <td>0</td>\n",
              "      <td>0</td>\n",
              "      <td>0</td>\n",
              "      <td>0</td>\n",
              "      <td>0</td>\n",
              "      <td>0</td>\n",
              "      <td>0</td>\n",
              "      <td>0</td>\n",
              "      <td>0</td>\n",
              "      <td>0</td>\n",
              "      <td>0</td>\n",
              "      <td>0</td>\n",
              "      <td>0</td>\n",
              "      <td>0</td>\n",
              "      <td>0</td>\n",
              "      <td>0</td>\n",
              "      <td>0</td>\n",
              "      <td>0</td>\n",
              "      <td>0</td>\n",
              "      <td>0</td>\n",
              "      <td>0</td>\n",
              "      <td>0</td>\n",
              "      <td>0</td>\n",
              "      <td>0</td>\n",
              "      <td>0</td>\n",
              "      <td>0</td>\n",
              "      <td>0</td>\n",
              "      <td>0</td>\n",
              "      <td>0</td>\n",
              "      <td>1</td>\n",
              "    </tr>\n",
              "    <tr>\n",
              "      <th>2</th>\n",
              "      <td>2</td>\n",
              "      <td>0</td>\n",
              "      <td>0.000004</td>\n",
              "      <td>4.009876e-06</td>\n",
              "      <td>0.000003</td>\n",
              "      <td>0.0</td>\n",
              "      <td>0</td>\n",
              "      <td>0.0</td>\n",
              "      <td>0.0</td>\n",
              "      <td>0.000000</td>\n",
              "      <td>0.000003</td>\n",
              "      <td>0.000004</td>\n",
              "      <td>5.331071e-06</td>\n",
              "      <td>0.000006</td>\n",
              "      <td>0.000009</td>\n",
              "      <td>0.000012</td>\n",
              "      <td>0.000014</td>\n",
              "      <td>0.000010</td>\n",
              "      <td>5.345027e-06</td>\n",
              "      <td>9.396877e-07</td>\n",
              "      <td>0.000000</td>\n",
              "      <td>0.0</td>\n",
              "      <td>0</td>\n",
              "      <td>0.0</td>\n",
              "      <td>0.000005</td>\n",
              "      <td>1.084514e-05</td>\n",
              "      <td>6.023756e-06</td>\n",
              "      <td>0.0</td>\n",
              "      <td>0</td>\n",
              "      <td>0</td>\n",
              "      <td>0.000000e+00</td>\n",
              "      <td>0.000000</td>\n",
              "      <td>0.000001</td>\n",
              "      <td>0.000002</td>\n",
              "      <td>2.889537e-06</td>\n",
              "      <td>0.0</td>\n",
              "      <td>0.0</td>\n",
              "      <td>0.000000e+00</td>\n",
              "      <td>0.0</td>\n",
              "      <td>0</td>\n",
              "      <td>...</td>\n",
              "      <td>0</td>\n",
              "      <td>0</td>\n",
              "      <td>0.000001</td>\n",
              "      <td>0.0</td>\n",
              "      <td>0</td>\n",
              "      <td>0</td>\n",
              "      <td>0</td>\n",
              "      <td>0</td>\n",
              "      <td>0</td>\n",
              "      <td>0</td>\n",
              "      <td>0</td>\n",
              "      <td>0</td>\n",
              "      <td>0</td>\n",
              "      <td>0</td>\n",
              "      <td>0</td>\n",
              "      <td>0</td>\n",
              "      <td>0</td>\n",
              "      <td>0</td>\n",
              "      <td>0</td>\n",
              "      <td>0</td>\n",
              "      <td>0</td>\n",
              "      <td>0</td>\n",
              "      <td>0</td>\n",
              "      <td>0</td>\n",
              "      <td>0</td>\n",
              "      <td>0</td>\n",
              "      <td>0</td>\n",
              "      <td>0</td>\n",
              "      <td>0</td>\n",
              "      <td>0</td>\n",
              "      <td>0</td>\n",
              "      <td>0</td>\n",
              "      <td>0</td>\n",
              "      <td>0</td>\n",
              "      <td>0</td>\n",
              "      <td>0</td>\n",
              "      <td>0</td>\n",
              "      <td>0</td>\n",
              "      <td>0</td>\n",
              "      <td>1</td>\n",
              "    </tr>\n",
              "  </tbody>\n",
              "</table>\n",
              "<p>3 rows × 4552 columns</p>\n",
              "</div>"
            ],
            "text/plain": [
              "   Unnamed: 0  195     195.2         195.4  ...  1104.4  1104.6  1104.8  sum\n",
              "0           0    0  0.000002  6.339045e-07  ...       0       0       0    1\n",
              "1           1    0  0.000000  0.000000e+00  ...       0       0       0    1\n",
              "2           2    0  0.000004  4.009876e-06  ...       0       0       0    1\n",
              "\n",
              "[3 rows x 4552 columns]"
            ]
          },
          "metadata": {},
          "execution_count": 179
        }
      ]
    },
    {
      "cell_type": "code",
      "metadata": {
        "colab": {
          "base_uri": "https://localhost:8080/"
        },
        "id": "KnBXeTD-BcSI",
        "outputId": "777f5faa-d7fe-4cb9-bf9a-6e78f75f0a99"
      },
      "source": [
        "df_raw.shape"
      ],
      "execution_count": null,
      "outputs": [
        {
          "output_type": "execute_result",
          "data": {
            "text/plain": [
              "(113, 4552)"
            ]
          },
          "metadata": {},
          "execution_count": 180
        }
      ]
    },
    {
      "cell_type": "code",
      "metadata": {
        "id": "fNiWgj7NBj8o"
      },
      "source": [
        "df_raw=df_raw.drop('sum',axis=1)\n"
      ],
      "execution_count": null,
      "outputs": []
    },
    {
      "cell_type": "code",
      "metadata": {
        "id": "FByLyiOiME3w"
      },
      "source": [
        "df_raw['sheet']=df_reserve['sheet']"
      ],
      "execution_count": null,
      "outputs": []
    },
    {
      "cell_type": "code",
      "metadata": {
        "colab": {
          "base_uri": "https://localhost:8080/"
        },
        "id": "KgQCQ7apMEuB",
        "outputId": "1aeaf59e-0f27-4e9e-fafc-dcaff942b1b4"
      },
      "source": [
        "df_raw.shape"
      ],
      "execution_count": null,
      "outputs": [
        {
          "output_type": "execute_result",
          "data": {
            "text/plain": [
              "(113, 4552)"
            ]
          },
          "metadata": {},
          "execution_count": 183
        }
      ]
    },
    {
      "cell_type": "code",
      "metadata": {
        "colab": {
          "base_uri": "https://localhost:8080/",
          "height": 262
        },
        "id": "P3V8Ee-jPhwN",
        "outputId": "917c05d5-08ff-4ee2-c88e-7cf56e40384c"
      },
      "source": [
        "#df_raw.iloc[0,4550]\n",
        "df_raw.head(3)"
      ],
      "execution_count": null,
      "outputs": [
        {
          "output_type": "execute_result",
          "data": {
            "text/html": [
              "<div>\n",
              "<style scoped>\n",
              "    .dataframe tbody tr th:only-of-type {\n",
              "        vertical-align: middle;\n",
              "    }\n",
              "\n",
              "    .dataframe tbody tr th {\n",
              "        vertical-align: top;\n",
              "    }\n",
              "\n",
              "    .dataframe thead th {\n",
              "        text-align: right;\n",
              "    }\n",
              "</style>\n",
              "<table border=\"1\" class=\"dataframe\">\n",
              "  <thead>\n",
              "    <tr style=\"text-align: right;\">\n",
              "      <th></th>\n",
              "      <th>Unnamed: 0</th>\n",
              "      <th>195</th>\n",
              "      <th>195.2</th>\n",
              "      <th>195.4</th>\n",
              "      <th>195.6</th>\n",
              "      <th>195.8</th>\n",
              "      <th>196</th>\n",
              "      <th>196.2</th>\n",
              "      <th>196.4</th>\n",
              "      <th>196.6</th>\n",
              "      <th>196.8</th>\n",
              "      <th>197</th>\n",
              "      <th>197.2</th>\n",
              "      <th>197.4</th>\n",
              "      <th>197.6</th>\n",
              "      <th>197.8</th>\n",
              "      <th>198</th>\n",
              "      <th>198.2</th>\n",
              "      <th>198.4</th>\n",
              "      <th>198.6</th>\n",
              "      <th>198.8</th>\n",
              "      <th>199</th>\n",
              "      <th>199.2</th>\n",
              "      <th>199.4</th>\n",
              "      <th>199.6</th>\n",
              "      <th>199.8</th>\n",
              "      <th>200</th>\n",
              "      <th>200.2</th>\n",
              "      <th>200.4</th>\n",
              "      <th>200.6</th>\n",
              "      <th>200.8</th>\n",
              "      <th>201</th>\n",
              "      <th>201.2</th>\n",
              "      <th>201.4</th>\n",
              "      <th>201.6</th>\n",
              "      <th>201.8</th>\n",
              "      <th>202</th>\n",
              "      <th>202.2</th>\n",
              "      <th>202.4</th>\n",
              "      <th>202.6</th>\n",
              "      <th>...</th>\n",
              "      <th>1097.2</th>\n",
              "      <th>1097.4</th>\n",
              "      <th>1097.6</th>\n",
              "      <th>1097.8</th>\n",
              "      <th>1098</th>\n",
              "      <th>1098.2</th>\n",
              "      <th>1098.4</th>\n",
              "      <th>1098.6</th>\n",
              "      <th>1098.8</th>\n",
              "      <th>1099</th>\n",
              "      <th>1099.2</th>\n",
              "      <th>1099.4</th>\n",
              "      <th>1099.6</th>\n",
              "      <th>1099.8</th>\n",
              "      <th>1100</th>\n",
              "      <th>1100.2</th>\n",
              "      <th>1100.4</th>\n",
              "      <th>1100.6</th>\n",
              "      <th>1100.8</th>\n",
              "      <th>1101</th>\n",
              "      <th>1101.2</th>\n",
              "      <th>1101.4</th>\n",
              "      <th>1101.6</th>\n",
              "      <th>1101.8</th>\n",
              "      <th>1102</th>\n",
              "      <th>1102.2</th>\n",
              "      <th>1102.4</th>\n",
              "      <th>1102.6</th>\n",
              "      <th>1102.8</th>\n",
              "      <th>1103</th>\n",
              "      <th>1103.2</th>\n",
              "      <th>1103.4</th>\n",
              "      <th>1103.6</th>\n",
              "      <th>1103.8</th>\n",
              "      <th>1104</th>\n",
              "      <th>1104.2</th>\n",
              "      <th>1104.4</th>\n",
              "      <th>1104.6</th>\n",
              "      <th>1104.8</th>\n",
              "      <th>sheet</th>\n",
              "    </tr>\n",
              "  </thead>\n",
              "  <tbody>\n",
              "    <tr>\n",
              "      <th>0</th>\n",
              "      <td>0</td>\n",
              "      <td>0</td>\n",
              "      <td>0.000002</td>\n",
              "      <td>6.339045e-07</td>\n",
              "      <td>0.000000</td>\n",
              "      <td>0.0</td>\n",
              "      <td>0</td>\n",
              "      <td>0.0</td>\n",
              "      <td>0.0</td>\n",
              "      <td>0.000000</td>\n",
              "      <td>0.000000</td>\n",
              "      <td>0.000000</td>\n",
              "      <td>6.995184e-07</td>\n",
              "      <td>0.000003</td>\n",
              "      <td>0.000008</td>\n",
              "      <td>0.000014</td>\n",
              "      <td>0.000018</td>\n",
              "      <td>0.000014</td>\n",
              "      <td>9.434174e-06</td>\n",
              "      <td>4.883140e-06</td>\n",
              "      <td>0.000002</td>\n",
              "      <td>0.0</td>\n",
              "      <td>0</td>\n",
              "      <td>0.0</td>\n",
              "      <td>0.000002</td>\n",
              "      <td>3.138990e-06</td>\n",
              "      <td>9.822319e-07</td>\n",
              "      <td>0.0</td>\n",
              "      <td>0</td>\n",
              "      <td>0</td>\n",
              "      <td>0.000000e+00</td>\n",
              "      <td>0.000000</td>\n",
              "      <td>0.000000</td>\n",
              "      <td>0.000000</td>\n",
              "      <td>0.000000e+00</td>\n",
              "      <td>0.0</td>\n",
              "      <td>0.0</td>\n",
              "      <td>1.604555e-07</td>\n",
              "      <td>0.0</td>\n",
              "      <td>0</td>\n",
              "      <td>...</td>\n",
              "      <td>0</td>\n",
              "      <td>0</td>\n",
              "      <td>0.000000</td>\n",
              "      <td>0.0</td>\n",
              "      <td>0</td>\n",
              "      <td>0</td>\n",
              "      <td>0</td>\n",
              "      <td>0</td>\n",
              "      <td>0</td>\n",
              "      <td>0</td>\n",
              "      <td>0</td>\n",
              "      <td>0</td>\n",
              "      <td>0</td>\n",
              "      <td>0</td>\n",
              "      <td>0</td>\n",
              "      <td>0</td>\n",
              "      <td>0</td>\n",
              "      <td>0</td>\n",
              "      <td>0</td>\n",
              "      <td>0</td>\n",
              "      <td>0</td>\n",
              "      <td>0</td>\n",
              "      <td>0</td>\n",
              "      <td>0</td>\n",
              "      <td>0</td>\n",
              "      <td>0</td>\n",
              "      <td>0</td>\n",
              "      <td>0</td>\n",
              "      <td>0</td>\n",
              "      <td>0</td>\n",
              "      <td>0</td>\n",
              "      <td>0</td>\n",
              "      <td>0</td>\n",
              "      <td>0</td>\n",
              "      <td>0</td>\n",
              "      <td>0</td>\n",
              "      <td>0</td>\n",
              "      <td>0</td>\n",
              "      <td>0</td>\n",
              "      <td>11.0</td>\n",
              "    </tr>\n",
              "    <tr>\n",
              "      <th>1</th>\n",
              "      <td>1</td>\n",
              "      <td>0</td>\n",
              "      <td>0.000000</td>\n",
              "      <td>0.000000e+00</td>\n",
              "      <td>0.000000</td>\n",
              "      <td>0.0</td>\n",
              "      <td>0</td>\n",
              "      <td>0.0</td>\n",
              "      <td>0.0</td>\n",
              "      <td>0.000001</td>\n",
              "      <td>0.000006</td>\n",
              "      <td>0.000005</td>\n",
              "      <td>4.400519e-06</td>\n",
              "      <td>0.000004</td>\n",
              "      <td>0.000006</td>\n",
              "      <td>0.000008</td>\n",
              "      <td>0.000009</td>\n",
              "      <td>0.000005</td>\n",
              "      <td>2.217574e-07</td>\n",
              "      <td>0.000000e+00</td>\n",
              "      <td>0.000000</td>\n",
              "      <td>0.0</td>\n",
              "      <td>0</td>\n",
              "      <td>0.0</td>\n",
              "      <td>0.000000</td>\n",
              "      <td>5.029072e-07</td>\n",
              "      <td>0.000000e+00</td>\n",
              "      <td>0.0</td>\n",
              "      <td>0</td>\n",
              "      <td>0</td>\n",
              "      <td>6.303286e-08</td>\n",
              "      <td>0.000002</td>\n",
              "      <td>0.000002</td>\n",
              "      <td>0.000001</td>\n",
              "      <td>4.746836e-07</td>\n",
              "      <td>0.0</td>\n",
              "      <td>0.0</td>\n",
              "      <td>0.000000e+00</td>\n",
              "      <td>0.0</td>\n",
              "      <td>0</td>\n",
              "      <td>...</td>\n",
              "      <td>0</td>\n",
              "      <td>0</td>\n",
              "      <td>0.000000</td>\n",
              "      <td>0.0</td>\n",
              "      <td>0</td>\n",
              "      <td>0</td>\n",
              "      <td>0</td>\n",
              "      <td>0</td>\n",
              "      <td>0</td>\n",
              "      <td>0</td>\n",
              "      <td>0</td>\n",
              "      <td>0</td>\n",
              "      <td>0</td>\n",
              "      <td>0</td>\n",
              "      <td>0</td>\n",
              "      <td>0</td>\n",
              "      <td>0</td>\n",
              "      <td>0</td>\n",
              "      <td>0</td>\n",
              "      <td>0</td>\n",
              "      <td>0</td>\n",
              "      <td>0</td>\n",
              "      <td>0</td>\n",
              "      <td>0</td>\n",
              "      <td>0</td>\n",
              "      <td>0</td>\n",
              "      <td>0</td>\n",
              "      <td>0</td>\n",
              "      <td>0</td>\n",
              "      <td>0</td>\n",
              "      <td>0</td>\n",
              "      <td>0</td>\n",
              "      <td>0</td>\n",
              "      <td>0</td>\n",
              "      <td>0</td>\n",
              "      <td>0</td>\n",
              "      <td>0</td>\n",
              "      <td>0</td>\n",
              "      <td>0</td>\n",
              "      <td>11.0</td>\n",
              "    </tr>\n",
              "    <tr>\n",
              "      <th>2</th>\n",
              "      <td>2</td>\n",
              "      <td>0</td>\n",
              "      <td>0.000004</td>\n",
              "      <td>4.009876e-06</td>\n",
              "      <td>0.000003</td>\n",
              "      <td>0.0</td>\n",
              "      <td>0</td>\n",
              "      <td>0.0</td>\n",
              "      <td>0.0</td>\n",
              "      <td>0.000000</td>\n",
              "      <td>0.000003</td>\n",
              "      <td>0.000004</td>\n",
              "      <td>5.331071e-06</td>\n",
              "      <td>0.000006</td>\n",
              "      <td>0.000009</td>\n",
              "      <td>0.000012</td>\n",
              "      <td>0.000014</td>\n",
              "      <td>0.000010</td>\n",
              "      <td>5.345027e-06</td>\n",
              "      <td>9.396877e-07</td>\n",
              "      <td>0.000000</td>\n",
              "      <td>0.0</td>\n",
              "      <td>0</td>\n",
              "      <td>0.0</td>\n",
              "      <td>0.000005</td>\n",
              "      <td>1.084514e-05</td>\n",
              "      <td>6.023756e-06</td>\n",
              "      <td>0.0</td>\n",
              "      <td>0</td>\n",
              "      <td>0</td>\n",
              "      <td>0.000000e+00</td>\n",
              "      <td>0.000000</td>\n",
              "      <td>0.000001</td>\n",
              "      <td>0.000002</td>\n",
              "      <td>2.889537e-06</td>\n",
              "      <td>0.0</td>\n",
              "      <td>0.0</td>\n",
              "      <td>0.000000e+00</td>\n",
              "      <td>0.0</td>\n",
              "      <td>0</td>\n",
              "      <td>...</td>\n",
              "      <td>0</td>\n",
              "      <td>0</td>\n",
              "      <td>0.000001</td>\n",
              "      <td>0.0</td>\n",
              "      <td>0</td>\n",
              "      <td>0</td>\n",
              "      <td>0</td>\n",
              "      <td>0</td>\n",
              "      <td>0</td>\n",
              "      <td>0</td>\n",
              "      <td>0</td>\n",
              "      <td>0</td>\n",
              "      <td>0</td>\n",
              "      <td>0</td>\n",
              "      <td>0</td>\n",
              "      <td>0</td>\n",
              "      <td>0</td>\n",
              "      <td>0</td>\n",
              "      <td>0</td>\n",
              "      <td>0</td>\n",
              "      <td>0</td>\n",
              "      <td>0</td>\n",
              "      <td>0</td>\n",
              "      <td>0</td>\n",
              "      <td>0</td>\n",
              "      <td>0</td>\n",
              "      <td>0</td>\n",
              "      <td>0</td>\n",
              "      <td>0</td>\n",
              "      <td>0</td>\n",
              "      <td>0</td>\n",
              "      <td>0</td>\n",
              "      <td>0</td>\n",
              "      <td>0</td>\n",
              "      <td>0</td>\n",
              "      <td>0</td>\n",
              "      <td>0</td>\n",
              "      <td>0</td>\n",
              "      <td>0</td>\n",
              "      <td>11.0</td>\n",
              "    </tr>\n",
              "  </tbody>\n",
              "</table>\n",
              "<p>3 rows × 4552 columns</p>\n",
              "</div>"
            ],
            "text/plain": [
              "   Unnamed: 0  195     195.2         195.4  ...  1104.4  1104.6  1104.8  sheet\n",
              "0           0    0  0.000002  6.339045e-07  ...       0       0       0   11.0\n",
              "1           1    0  0.000000  0.000000e+00  ...       0       0       0   11.0\n",
              "2           2    0  0.000004  4.009876e-06  ...       0       0       0   11.0\n",
              "\n",
              "[3 rows x 4552 columns]"
            ]
          },
          "metadata": {},
          "execution_count": 184
        }
      ]
    },
    {
      "cell_type": "code",
      "metadata": {
        "id": "r4vCVB6mfRVT",
        "colab": {
          "base_uri": "https://localhost:8080/"
        },
        "outputId": "7df16202-4874-47f8-bf39-44e86200b4b5"
      },
      "source": [
        "df_raw.shape"
      ],
      "execution_count": null,
      "outputs": [
        {
          "output_type": "execute_result",
          "data": {
            "text/plain": [
              "(113, 4552)"
            ]
          },
          "metadata": {},
          "execution_count": 185
        }
      ]
    },
    {
      "cell_type": "markdown",
      "metadata": {
        "id": "yODdglInft18"
      },
      "source": [
        "#PCA"
      ]
    },
    {
      "cell_type": "code",
      "metadata": {
        "id": "E6TYb5khHdeF"
      },
      "source": [
        "from sklearn.decomposition import PCA\n",
        "pca=PCA(n_components=10)"
      ],
      "execution_count": null,
      "outputs": []
    },
    {
      "cell_type": "code",
      "metadata": {
        "id": "96-AHP-xCDRM"
      },
      "source": [
        "X=df_raw.iloc[:,:-1].values\n",
        "y=df_raw.iloc[:,-1].values"
      ],
      "execution_count": null,
      "outputs": []
    },
    {
      "cell_type": "code",
      "metadata": {
        "id": "SDzmgHykCgWX"
      },
      "source": [
        "from sklearn.preprocessing import StandardScaler,MinMaxScaler\n",
        "sc_s=StandardScaler()\n",
        "sc_m=StandardScaler()"
      ],
      "execution_count": null,
      "outputs": []
    },
    {
      "cell_type": "code",
      "metadata": {
        "id": "0HzgroQ6DzcZ"
      },
      "source": [
        "y=y.reshape(113,1)"
      ],
      "execution_count": null,
      "outputs": []
    },
    {
      "cell_type": "code",
      "metadata": {
        "id": "9m7WJObFDqBx"
      },
      "source": [
        "from sklearn.model_selection import train_test_split"
      ],
      "execution_count": null,
      "outputs": []
    },
    {
      "cell_type": "code",
      "metadata": {
        "id": "defziBXRDwfl"
      },
      "source": [
        "X_train,X_test,y_train,y_test=train_test_split(X,y,test_size=0.2)"
      ],
      "execution_count": null,
      "outputs": []
    },
    {
      "cell_type": "code",
      "metadata": {
        "id": "FxtZgiGYg0zL"
      },
      "source": [
        "X_train=sc_s.fit_transform(X_train)\n",
        "X_test=sc_s.transform(X_test)"
      ],
      "execution_count": null,
      "outputs": []
    },
    {
      "cell_type": "code",
      "metadata": {
        "id": "svoesrvhIfvM"
      },
      "source": [
        "X_train=pca.fit_transform(X_train)\n",
        "X_test=pca.transform(X_test)"
      ],
      "execution_count": null,
      "outputs": []
    },
    {
      "cell_type": "code",
      "metadata": {
        "id": "X39TE7N1J-4D"
      },
      "source": [
        ""
      ],
      "execution_count": null,
      "outputs": []
    },
    {
      "cell_type": "code",
      "metadata": {
        "colab": {
          "base_uri": "https://localhost:8080/"
        },
        "id": "-0mawn5aIfmR",
        "outputId": "c62cbd0e-10e0-4f32-afc0-f42f00cd79ce"
      },
      "source": [
        "X_test.shape"
      ],
      "execution_count": null,
      "outputs": [
        {
          "output_type": "execute_result",
          "data": {
            "text/plain": [
              "(23, 10)"
            ]
          },
          "metadata": {},
          "execution_count": 194
        }
      ]
    },
    {
      "cell_type": "code",
      "metadata": {
        "colab": {
          "base_uri": "https://localhost:8080/"
        },
        "id": "RriSnyHRIfay",
        "outputId": "72c61378-880c-4894-b408-34b0c7aa311e"
      },
      "source": [
        "y_test.shape"
      ],
      "execution_count": null,
      "outputs": [
        {
          "output_type": "execute_result",
          "data": {
            "text/plain": [
              "(23, 1)"
            ]
          },
          "metadata": {},
          "execution_count": 195
        }
      ]
    },
    {
      "cell_type": "code",
      "metadata": {
        "id": "sovTXJwKEOzV"
      },
      "source": [
        "from tensorflow.keras.models import Sequential\n",
        "from tensorflow.keras.layers import Dense,Dropout\n",
        "\n",
        "from tensorflow.keras.callbacks import EarlyStopping\n",
        "\n",
        "#Earliy stop, we monitor the validation loss, set up a minium value and a patience on achiving no further improvements on the accuracy"
      ],
      "execution_count": null,
      "outputs": []
    },
    {
      "cell_type": "code",
      "metadata": {
        "id": "mNVfmqMIq333"
      },
      "source": [
        "early_stop=EarlyStopping(monitor='val_loss',mode='min',verbose=1,patience=10) # applied during fitting"
      ],
      "execution_count": null,
      "outputs": []
    },
    {
      "cell_type": "code",
      "metadata": {
        "id": "lXnMACMxEmhq"
      },
      "source": [
        "\n",
        "model=Sequential()"
      ],
      "execution_count": null,
      "outputs": []
    },
    {
      "cell_type": "code",
      "metadata": {
        "id": "H6f2eRfAErKs"
      },
      "source": [
        "#model.add(Dense(units=9000,activation='relu'))\n",
        "\n",
        "#model.add(Dense(units=9000,activation='relu'))\n",
        "#model.add(Dense(units=15000,activation='relu'))\n",
        "#model.add(Dense(units=1000,activation='relu'))\n",
        "#model.add(Dense(units=1000,activation='relu'))\n",
        "#model.add(Dense(units=500,activation='relu'))\n",
        "#model.add(Dense(units=300,activation='relu'))\n",
        "#model.add(Dense(units=300,activation='relu'))\n",
        "#model.add(Dense(units=50,activation='relu'))\n",
        "model.add(Dense(units=10,activation='relu'))\n",
        "\n",
        "model.add(Dropout(rate=0.2))  # fraction of which we randomly turn some neurons off (% of neurons  0  to 1)\n",
        "\n",
        "model.add(Dense(units=10,activation='relu'))\n",
        "\n",
        "model.add(Dropout(rate=0.2))\n",
        "\n",
        "\n",
        "model.add(Dense(units=8,activation='relu'))\n",
        "model.add(Dense(units=4,activation='relu'))\n",
        "model.add(Dense(units=1))"
      ],
      "execution_count": null,
      "outputs": []
    },
    {
      "cell_type": "code",
      "metadata": {
        "id": "pSPytteSFavs"
      },
      "source": [
        "model.compile(optimizer=tf.keras.optimizers.Adam(learning_rate=0.1),\n",
        "              loss='mse',\n",
        "              metrics=['mae'])"
      ],
      "execution_count": null,
      "outputs": []
    },
    {
      "cell_type": "code",
      "metadata": {
        "colab": {
          "base_uri": "https://localhost:8080/"
        },
        "id": "qJcO_zIVFgqq",
        "outputId": "dfc65412-3c5a-4a47-802d-c7a7b2ecb7ef"
      },
      "source": [
        "model.fit(X_train,y_train,batch_size=32,validation_data=(X_test,y_test),epochs=200,callbacks=[early_stop])"
      ],
      "execution_count": null,
      "outputs": [
        {
          "output_type": "stream",
          "name": "stdout",
          "text": [
            "Epoch 1/200\n",
            "3/3 [==============================] - 1s 91ms/step - loss: 80.4984 - mae: 7.1908 - val_loss: 36.0885 - val_mae: 5.3086\n",
            "Epoch 2/200\n",
            "3/3 [==============================] - 0s 19ms/step - loss: 34.8958 - mae: 5.0443 - val_loss: 37.1375 - val_mae: 5.8656\n",
            "Epoch 3/200\n",
            "3/3 [==============================] - 0s 18ms/step - loss: 30.8141 - mae: 4.7726 - val_loss: 18.6651 - val_mae: 3.5961\n",
            "Epoch 4/200\n",
            "3/3 [==============================] - 0s 20ms/step - loss: 33.0753 - mae: 4.3038 - val_loss: 34.5154 - val_mae: 5.6961\n",
            "Epoch 5/200\n",
            "3/3 [==============================] - 0s 18ms/step - loss: 22.9619 - mae: 4.1440 - val_loss: 11.3358 - val_mae: 2.6967\n",
            "Epoch 6/200\n",
            "3/3 [==============================] - 0s 18ms/step - loss: 25.2032 - mae: 3.8996 - val_loss: 22.7343 - val_mae: 4.4134\n",
            "Epoch 7/200\n",
            "3/3 [==============================] - 0s 15ms/step - loss: 23.7864 - mae: 4.3872 - val_loss: 30.8337 - val_mae: 5.3678\n",
            "Epoch 8/200\n",
            "3/3 [==============================] - 0s 23ms/step - loss: 14.4203 - mae: 3.0619 - val_loss: 5.2610 - val_mae: 1.9653\n",
            "Epoch 9/200\n",
            "3/3 [==============================] - 0s 17ms/step - loss: 13.3396 - mae: 3.0225 - val_loss: 10.8183 - val_mae: 3.0697\n",
            "Epoch 10/200\n",
            "3/3 [==============================] - 0s 14ms/step - loss: 10.2832 - mae: 2.6686 - val_loss: 19.1774 - val_mae: 4.2932\n",
            "Epoch 11/200\n",
            "3/3 [==============================] - 0s 17ms/step - loss: 9.6270 - mae: 2.6003 - val_loss: 7.3683 - val_mae: 2.3811\n",
            "Epoch 12/200\n",
            "3/3 [==============================] - 0s 14ms/step - loss: 11.8496 - mae: 2.6547 - val_loss: 7.3466 - val_mae: 2.4330\n",
            "Epoch 13/200\n",
            "3/3 [==============================] - 0s 16ms/step - loss: 8.2458 - mae: 2.2492 - val_loss: 13.5520 - val_mae: 3.5903\n",
            "Epoch 14/200\n",
            "3/3 [==============================] - 0s 15ms/step - loss: 9.4082 - mae: 2.5030 - val_loss: 6.0299 - val_mae: 2.2468\n",
            "Epoch 15/200\n",
            "3/3 [==============================] - 0s 16ms/step - loss: 6.3575 - mae: 1.8428 - val_loss: 2.8159 - val_mae: 1.5226\n",
            "Epoch 16/200\n",
            "3/3 [==============================] - 0s 14ms/step - loss: 4.7802 - mae: 1.6281 - val_loss: 7.6011 - val_mae: 2.6279\n",
            "Epoch 17/200\n",
            "3/3 [==============================] - 0s 23ms/step - loss: 6.0311 - mae: 1.9631 - val_loss: 5.0703 - val_mae: 2.1064\n",
            "Epoch 18/200\n",
            "3/3 [==============================] - 0s 14ms/step - loss: 4.5824 - mae: 1.6967 - val_loss: 2.2610 - val_mae: 1.3518\n",
            "Epoch 19/200\n",
            "3/3 [==============================] - 0s 17ms/step - loss: 5.2762 - mae: 1.7948 - val_loss: 6.1327 - val_mae: 2.3704\n",
            "Epoch 20/200\n",
            "3/3 [==============================] - 0s 14ms/step - loss: 4.5438 - mae: 1.7223 - val_loss: 3.8401 - val_mae: 1.8327\n",
            "Epoch 21/200\n",
            "3/3 [==============================] - 0s 16ms/step - loss: 4.3674 - mae: 1.6797 - val_loss: 2.2817 - val_mae: 1.3846\n",
            "Epoch 22/200\n",
            "3/3 [==============================] - 0s 13ms/step - loss: 4.8952 - mae: 1.7031 - val_loss: 3.2814 - val_mae: 1.6738\n",
            "Epoch 23/200\n",
            "3/3 [==============================] - 0s 15ms/step - loss: 3.6129 - mae: 1.4543 - val_loss: 3.6543 - val_mae: 1.7855\n",
            "Epoch 24/200\n",
            "3/3 [==============================] - 0s 15ms/step - loss: 2.7372 - mae: 1.2857 - val_loss: 2.6054 - val_mae: 1.4871\n",
            "Epoch 25/200\n",
            "3/3 [==============================] - 0s 15ms/step - loss: 2.7111 - mae: 1.1891 - val_loss: 2.3922 - val_mae: 1.4206\n",
            "Epoch 26/200\n",
            "3/3 [==============================] - 0s 23ms/step - loss: 3.3714 - mae: 1.4123 - val_loss: 2.4924 - val_mae: 1.4487\n",
            "Epoch 27/200\n",
            "3/3 [==============================] - 0s 15ms/step - loss: 2.2302 - mae: 1.1348 - val_loss: 4.0428 - val_mae: 1.8933\n",
            "Epoch 28/200\n",
            "3/3 [==============================] - 0s 17ms/step - loss: 2.1022 - mae: 1.1040 - val_loss: 2.1991 - val_mae: 1.3626\n",
            "Epoch 29/200\n",
            "3/3 [==============================] - 0s 21ms/step - loss: 2.4725 - mae: 1.1860 - val_loss: 2.0150 - val_mae: 1.3048\n",
            "Epoch 30/200\n",
            "3/3 [==============================] - 0s 14ms/step - loss: 2.0698 - mae: 1.0619 - val_loss: 3.3677 - val_mae: 1.7234\n",
            "Epoch 31/200\n",
            "3/3 [==============================] - 0s 14ms/step - loss: 1.2745 - mae: 0.8198 - val_loss: 2.9399 - val_mae: 1.6117\n",
            "Epoch 32/200\n",
            "3/3 [==============================] - 0s 15ms/step - loss: 1.6415 - mae: 0.9601 - val_loss: 1.7310 - val_mae: 1.2157\n",
            "Epoch 33/200\n",
            "3/3 [==============================] - 0s 15ms/step - loss: 1.5410 - mae: 0.9220 - val_loss: 2.3923 - val_mae: 1.4596\n",
            "Epoch 34/200\n",
            "3/3 [==============================] - 0s 17ms/step - loss: 1.7707 - mae: 1.0149 - val_loss: 2.3528 - val_mae: 1.4414\n",
            "Epoch 35/200\n",
            "3/3 [==============================] - 0s 27ms/step - loss: 1.4486 - mae: 0.9090 - val_loss: 1.2846 - val_mae: 1.0367\n",
            "Epoch 36/200\n",
            "3/3 [==============================] - 0s 25ms/step - loss: 1.8312 - mae: 1.0255 - val_loss: 1.6996 - val_mae: 1.2001\n",
            "Epoch 37/200\n",
            "3/3 [==============================] - 0s 15ms/step - loss: 1.4444 - mae: 0.9410 - val_loss: 1.8002 - val_mae: 1.2349\n",
            "Epoch 38/200\n",
            "3/3 [==============================] - 0s 15ms/step - loss: 2.1640 - mae: 0.9923 - val_loss: 2.5367 - val_mae: 1.4739\n",
            "Epoch 39/200\n",
            "3/3 [==============================] - 0s 15ms/step - loss: 2.0643 - mae: 1.0965 - val_loss: 1.8566 - val_mae: 1.2644\n",
            "Epoch 40/200\n",
            "3/3 [==============================] - 0s 15ms/step - loss: 1.2959 - mae: 0.9235 - val_loss: 0.7147 - val_mae: 0.7622\n",
            "Epoch 41/200\n",
            "3/3 [==============================] - 0s 15ms/step - loss: 2.0278 - mae: 1.0260 - val_loss: 2.1347 - val_mae: 1.3567\n",
            "Epoch 42/200\n",
            "3/3 [==============================] - 0s 19ms/step - loss: 1.2047 - mae: 0.8698 - val_loss: 1.8357 - val_mae: 1.2597\n",
            "Epoch 43/200\n",
            "3/3 [==============================] - 0s 14ms/step - loss: 1.4211 - mae: 0.9498 - val_loss: 0.6333 - val_mae: 0.7290\n",
            "Epoch 44/200\n",
            "3/3 [==============================] - 0s 16ms/step - loss: 1.0175 - mae: 0.8549 - val_loss: 1.6788 - val_mae: 1.2022\n",
            "Epoch 45/200\n",
            "3/3 [==============================] - 0s 15ms/step - loss: 0.9784 - mae: 0.7982 - val_loss: 1.0671 - val_mae: 0.9578\n",
            "Epoch 46/200\n",
            "3/3 [==============================] - 0s 18ms/step - loss: 0.8126 - mae: 0.7000 - val_loss: 1.3063 - val_mae: 1.0657\n",
            "Epoch 47/200\n",
            "3/3 [==============================] - 0s 16ms/step - loss: 1.5632 - mae: 0.8780 - val_loss: 1.5469 - val_mae: 1.1694\n",
            "Epoch 48/200\n",
            "3/3 [==============================] - 0s 17ms/step - loss: 0.5856 - mae: 0.6012 - val_loss: 1.2027 - val_mae: 1.0393\n",
            "Epoch 49/200\n",
            "3/3 [==============================] - 0s 17ms/step - loss: 1.3098 - mae: 0.8309 - val_loss: 0.6846 - val_mae: 0.7783\n",
            "Epoch 50/200\n",
            "3/3 [==============================] - 0s 19ms/step - loss: 0.9879 - mae: 0.7748 - val_loss: 1.0769 - val_mae: 0.9863\n",
            "Epoch 51/200\n",
            "3/3 [==============================] - 0s 17ms/step - loss: 1.0407 - mae: 0.7451 - val_loss: 1.4105 - val_mae: 1.1266\n",
            "Epoch 52/200\n",
            "3/3 [==============================] - 0s 18ms/step - loss: 0.9436 - mae: 0.7232 - val_loss: 0.7876 - val_mae: 0.8463\n",
            "Epoch 53/200\n",
            "3/3 [==============================] - 0s 16ms/step - loss: 0.8812 - mae: 0.7512 - val_loss: 0.9613 - val_mae: 0.9316\n",
            "Epoch 00053: early stopping\n"
          ]
        },
        {
          "output_type": "execute_result",
          "data": {
            "text/plain": [
              "<keras.callbacks.History at 0x7fbe70058bd0>"
            ]
          },
          "metadata": {},
          "execution_count": 201
        }
      ]
    },
    {
      "cell_type": "code",
      "metadata": {
        "id": "G-2ROUMdh7r1",
        "colab": {
          "base_uri": "https://localhost:8080/",
          "height": 282
        },
        "outputId": "8334b6ea-b5d7-4383-dfd7-610c4e042852"
      },
      "source": [
        "losses=pd.DataFrame(model.history.history)\n",
        "losses.plot()"
      ],
      "execution_count": null,
      "outputs": [
        {
          "output_type": "execute_result",
          "data": {
            "text/plain": [
              "<matplotlib.axes._subplots.AxesSubplot at 0x7fbe676bb710>"
            ]
          },
          "metadata": {},
          "execution_count": 202
        },
        {
          "output_type": "display_data",
          "data": {
            "image/png": "[encoded data removed]",
            "text/plain": [
              "<Figure size 432x288 with 1 Axes>"
            ]
          },
          "metadata": {
            "needs_background": "light"
          }
        }
      ]
    },
    {
      "cell_type": "code",
      "metadata": {
        "id": "tlaD2Z66Fmz9",
        "colab": {
          "base_uri": "https://localhost:8080/"
        },
        "outputId": "ded11997-8824-4548-e0de-e7b295460275"
      },
      "source": [
        "y_pred=model.predict(X_test)"
      ],
      "execution_count": null,
      "outputs": [
        {
          "output_type": "stream",
          "name": "stdout",
          "text": [
            "WARNING:tensorflow:6 out of the last 6 calls to <function Model.make_predict_function.<locals>.predict_function at 0x7fbe70276b00> triggered tf.function retracing. Tracing is expensive and the excessive number of tracings could be due to (1) creating @tf.function repeatedly in a loop, (2) passing tensors with different shapes, (3) passing Python objects instead of tensors. For (1), please define your @tf.function outside of the loop. For (2), @tf.function has experimental_relax_shapes=True option that relaxes argument shapes that can avoid unnecessary retracing. For (3), please refer to https://www.tensorflow.org/guide/function#controlling_retracing and https://www.tensorflow.org/api_docs/python/tf/function for  more details.\n"
          ]
        }
      ]
    },
    {
      "cell_type": "code",
      "metadata": {
        "id": "A9hNhrywGknK",
        "colab": {
          "base_uri": "https://localhost:8080/"
        },
        "outputId": "f8e15d8d-134f-47a8-9123-5a121d38efc0"
      },
      "source": [
        "y_pred.shape"
      ],
      "execution_count": null,
      "outputs": [
        {
          "output_type": "execute_result",
          "data": {
            "text/plain": [
              "(23, 1)"
            ]
          },
          "metadata": {},
          "execution_count": 204
        }
      ]
    },
    {
      "cell_type": "code",
      "metadata": {
        "id": "tINBpLRwGnfW",
        "colab": {
          "base_uri": "https://localhost:8080/"
        },
        "outputId": "89ee697c-04b6-4d35-f067-1174331c4af0"
      },
      "source": [
        "y_test.shape"
      ],
      "execution_count": null,
      "outputs": [
        {
          "output_type": "execute_result",
          "data": {
            "text/plain": [
              "(23, 1)"
            ]
          },
          "metadata": {},
          "execution_count": 205
        }
      ]
    },
    {
      "cell_type": "code",
      "metadata": {
        "id": "CW2RlFrSGr85",
        "colab": {
          "base_uri": "https://localhost:8080/"
        },
        "outputId": "731717b5-6858-4ed9-ffbd-7134ab3dcd76"
      },
      "source": [
        "from sklearn.metrics import mean_absolute_error\n",
        "\n",
        "mean_absolute_error(y_pred,y_test)"
      ],
      "execution_count": null,
      "outputs": [
        {
          "output_type": "execute_result",
          "data": {
            "text/plain": [
              "0.9315909675929857"
            ]
          },
          "metadata": {},
          "execution_count": 206
        }
      ]
    },
    {
      "cell_type": "code",
      "metadata": {
        "colab": {
          "base_uri": "https://localhost:8080/"
        },
        "id": "y1AOS3XdNLzU",
        "outputId": "b603afb4-2fe8-4eba-bdd7-32fb1a66af69"
      },
      "source": [
        "from sklearn import metrics\n",
        "metrics.explained_variance_score(y_test,y_pred)"
      ],
      "execution_count": null,
      "outputs": [
        {
          "output_type": "execute_result",
          "data": {
            "text/plain": [
              "0.8834121280517153"
            ]
          },
          "metadata": {},
          "execution_count": 207
        }
      ]
    },
    {
      "cell_type": "code",
      "metadata": {
        "id": "F86CPNpzGzQy",
        "colab": {
          "base_uri": "https://localhost:8080/",
          "height": 770
        },
        "outputId": "bffab18a-f455-4105-ccc8-b75487ec300c"
      },
      "source": [
        "results=np.concatenate((y_pred,y_test),1)\n",
        "\n",
        "results_ann_peak_ratio=pd.DataFrame(results,columns=['y_pred','y_test'])\n",
        "\n",
        "results_ann_peak_ratio.head(50)"
      ],
      "execution_count": null,
      "outputs": [
        {
          "output_type": "execute_result",
          "data": {
            "text/html": [
              "<div>\n",
              "<style scoped>\n",
              "    .dataframe tbody tr th:only-of-type {\n",
              "        vertical-align: middle;\n",
              "    }\n",
              "\n",
              "    .dataframe tbody tr th {\n",
              "        vertical-align: top;\n",
              "    }\n",
              "\n",
              "    .dataframe thead th {\n",
              "        text-align: right;\n",
              "    }\n",
              "</style>\n",
              "<table border=\"1\" class=\"dataframe\">\n",
              "  <thead>\n",
              "    <tr style=\"text-align: right;\">\n",
              "      <th></th>\n",
              "      <th>y_pred</th>\n",
              "      <th>y_test</th>\n",
              "    </tr>\n",
              "  </thead>\n",
              "  <tbody>\n",
              "    <tr>\n",
              "      <th>0</th>\n",
              "      <td>11.755327</td>\n",
              "      <td>13.5</td>\n",
              "    </tr>\n",
              "    <tr>\n",
              "      <th>1</th>\n",
              "      <td>12.157944</td>\n",
              "      <td>13.5</td>\n",
              "    </tr>\n",
              "    <tr>\n",
              "      <th>2</th>\n",
              "      <td>9.639500</td>\n",
              "      <td>10.7</td>\n",
              "    </tr>\n",
              "    <tr>\n",
              "      <th>3</th>\n",
              "      <td>8.652542</td>\n",
              "      <td>9.6</td>\n",
              "    </tr>\n",
              "    <tr>\n",
              "      <th>4</th>\n",
              "      <td>9.049351</td>\n",
              "      <td>10.0</td>\n",
              "    </tr>\n",
              "    <tr>\n",
              "      <th>5</th>\n",
              "      <td>9.030609</td>\n",
              "      <td>9.8</td>\n",
              "    </tr>\n",
              "    <tr>\n",
              "      <th>6</th>\n",
              "      <td>10.065783</td>\n",
              "      <td>10.7</td>\n",
              "    </tr>\n",
              "    <tr>\n",
              "      <th>7</th>\n",
              "      <td>8.895735</td>\n",
              "      <td>9.8</td>\n",
              "    </tr>\n",
              "    <tr>\n",
              "      <th>8</th>\n",
              "      <td>9.463948</td>\n",
              "      <td>10.7</td>\n",
              "    </tr>\n",
              "    <tr>\n",
              "      <th>9</th>\n",
              "      <td>8.761745</td>\n",
              "      <td>9.8</td>\n",
              "    </tr>\n",
              "    <tr>\n",
              "      <th>10</th>\n",
              "      <td>9.232122</td>\n",
              "      <td>9.8</td>\n",
              "    </tr>\n",
              "    <tr>\n",
              "      <th>11</th>\n",
              "      <td>10.207363</td>\n",
              "      <td>11.4</td>\n",
              "    </tr>\n",
              "    <tr>\n",
              "      <th>12</th>\n",
              "      <td>9.445702</td>\n",
              "      <td>10.0</td>\n",
              "    </tr>\n",
              "    <tr>\n",
              "      <th>13</th>\n",
              "      <td>12.445601</td>\n",
              "      <td>13.5</td>\n",
              "    </tr>\n",
              "    <tr>\n",
              "      <th>14</th>\n",
              "      <td>9.763397</td>\n",
              "      <td>10.7</td>\n",
              "    </tr>\n",
              "    <tr>\n",
              "      <th>15</th>\n",
              "      <td>10.013063</td>\n",
              "      <td>11.4</td>\n",
              "    </tr>\n",
              "    <tr>\n",
              "      <th>16</th>\n",
              "      <td>8.960545</td>\n",
              "      <td>9.8</td>\n",
              "    </tr>\n",
              "    <tr>\n",
              "      <th>17</th>\n",
              "      <td>8.079298</td>\n",
              "      <td>7.5</td>\n",
              "    </tr>\n",
              "    <tr>\n",
              "      <th>18</th>\n",
              "      <td>10.100030</td>\n",
              "      <td>11.0</td>\n",
              "    </tr>\n",
              "    <tr>\n",
              "      <th>19</th>\n",
              "      <td>8.815004</td>\n",
              "      <td>9.8</td>\n",
              "    </tr>\n",
              "    <tr>\n",
              "      <th>20</th>\n",
              "      <td>9.016621</td>\n",
              "      <td>9.8</td>\n",
              "    </tr>\n",
              "    <tr>\n",
              "      <th>21</th>\n",
              "      <td>9.125442</td>\n",
              "      <td>9.6</td>\n",
              "    </tr>\n",
              "    <tr>\n",
              "      <th>22</th>\n",
              "      <td>8.044668</td>\n",
              "      <td>7.5</td>\n",
              "    </tr>\n",
              "  </tbody>\n",
              "</table>\n",
              "</div>"
            ],
            "text/plain": [
              "       y_pred  y_test\n",
              "0   11.755327    13.5\n",
              "1   12.157944    13.5\n",
              "2    9.639500    10.7\n",
              "3    8.652542     9.6\n",
              "4    9.049351    10.0\n",
              "5    9.030609     9.8\n",
              "6   10.065783    10.7\n",
              "7    8.895735     9.8\n",
              "8    9.463948    10.7\n",
              "9    8.761745     9.8\n",
              "10   9.232122     9.8\n",
              "11  10.207363    11.4\n",
              "12   9.445702    10.0\n",
              "13  12.445601    13.5\n",
              "14   9.763397    10.7\n",
              "15  10.013063    11.4\n",
              "16   8.960545     9.8\n",
              "17   8.079298     7.5\n",
              "18  10.100030    11.0\n",
              "19   8.815004     9.8\n",
              "20   9.016621     9.8\n",
              "21   9.125442     9.6\n",
              "22   8.044668     7.5"
            ]
          },
          "metadata": {},
          "execution_count": 208
        }
      ]
    },
    {
      "cell_type": "code",
      "metadata": {
        "id": "Fx6Mtp3JHiyw",
        "colab": {
          "base_uri": "https://localhost:8080/"
        },
        "outputId": "04258a71-9f76-4f8d-9968-d536c3f75327"
      },
      "source": [
        "model.summary()"
      ],
      "execution_count": null,
      "outputs": [
        {
          "output_type": "stream",
          "name": "stdout",
          "text": [
            "Model: \"sequential_5\"\n",
            "_________________________________________________________________\n",
            "Layer (type)                 Output Shape              Param #   \n",
            "=================================================================\n",
            "dense_25 (Dense)             (None, 10)                110       \n",
            "_________________________________________________________________\n",
            "dropout_6 (Dropout)          (None, 10)                0         \n",
            "_________________________________________________________________\n",
            "dense_26 (Dense)             (None, 10)                110       \n",
            "_________________________________________________________________\n",
            "dropout_7 (Dropout)          (None, 10)                0         \n",
            "_________________________________________________________________\n",
            "dense_27 (Dense)             (None, 8)                 88        \n",
            "_________________________________________________________________\n",
            "dense_28 (Dense)             (None, 4)                 36        \n",
            "_________________________________________________________________\n",
            "dense_29 (Dense)             (None, 1)                 5         \n",
            "=================================================================\n",
            "Total params: 349\n",
            "Trainable params: 349\n",
            "Non-trainable params: 0\n",
            "_________________________________________________________________\n"
          ]
        }
      ]
    },
    {
      "cell_type": "code",
      "metadata": {
        "id": "ZeaTuizWH-en",
        "colab": {
          "base_uri": "https://localhost:8080/",
          "height": 865
        },
        "outputId": "5dccf571-8ca4-4acf-9981-b1cf79c753b3"
      },
      "source": [
        "from tensorflow.keras.utils import plot_model\n",
        "\n",
        "plot_model(model=model,show_shapes=True)"
      ],
      "execution_count": null,
      "outputs": [
        {
          "output_type": "execute_result",
          "data": {
            "image/png": "[encoded data removed]",
            "text/plain": [
              "<IPython.core.display.Image object>"
            ]
          },
          "metadata": {},
          "execution_count": 210
        }
      ]
    },
    {
      "cell_type": "code",
      "metadata": {
        "id": "fkPgGl_5IFv1",
        "colab": {
          "base_uri": "https://localhost:8080/",
          "height": 297
        },
        "outputId": "1f4c979d-4463-47b9-8665-bf6727ee6f10"
      },
      "source": [
        "results=np.concatenate((y_pred,y_test),1)\n",
        "\n",
        "results_ann_peak_ratio=pd.DataFrame(results,columns=['y_pred','y_test'])\n",
        "\n",
        "#results_ann_peak_ratio.head(50)\n",
        "import seaborn as sns\n",
        "\n",
        "sns.scatterplot(x='y_pred',y='y_test',data=results_ann_peak_ratio)"
      ],
      "execution_count": null,
      "outputs": [
        {
          "output_type": "execute_result",
          "data": {
            "text/plain": [
              "<matplotlib.axes._subplots.AxesSubplot at 0x7fbe702a6e10>"
            ]
          },
          "metadata": {},
          "execution_count": 211
        },
        {
          "output_type": "display_data",
          "data": {
            "image/png": "[encoded data removed]",
            "text/plain": [
              "<Figure size 432x288 with 1 Axes>"
            ]
          },
          "metadata": {
            "needs_background": "light"
          }
        }
      ]
    },
    {
      "cell_type": "code",
      "metadata": {
        "id": "i6eXfgdiIMQQ"
      },
      "source": [
        ""
      ],
      "execution_count": null,
      "outputs": []
    }
  ]
}