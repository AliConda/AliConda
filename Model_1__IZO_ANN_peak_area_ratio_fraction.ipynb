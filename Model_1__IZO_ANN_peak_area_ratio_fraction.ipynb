{
  "nbformat": 4,
  "nbformat_minor": 0,
  "metadata": {
    "colab": {
      "name": "Model_1_ IZO ANN peak area ratio fraction",
      "provenance": [],
      "mount_file_id": "13xMjmTJKvItUqCy8TtvwLbgXTP5AcEjS",
      "authorship_tag": "ABX9TyPkugP3cBoMqxatSuxlEexa",
      "include_colab_link": true
    },
    "kernelspec": {
      "name": "python3",
      "display_name": "Python 3"
    },
    "language_info": {
      "name": "python"
    }
  },
  "cells": [
    {
      "cell_type": "markdown",
      "metadata": {
        "id": "view-in-github",
        "colab_type": "text"
      },
      "source": [
        "<a href=\"https://colab.research.google.com/github/AliConda/AliConda/blob/main/Model_1__IZO_ANN_peak_area_ratio_fraction.ipynb\" target=\"_parent\"><img src=\"https://colab.research.google.com/assets/colab-badge.svg\" alt=\"Open In Colab\"/></a>"
      ]
    },
    {
      "cell_type": "code",
      "metadata": {
        "id": "9AdrcreIEHQv"
      },
      "source": [
        "import pandas as pd\n",
        "import numpy as np\n",
        "import tensorflow as tf\n",
        "import matplotlib.pyplot as plt"
      ],
      "execution_count": null,
      "outputs": []
    },
    {
      "cell_type": "code",
      "metadata": {
        "id": "VS6ukA16EPyW"
      },
      "source": [
        "#df=pd.read_excel('Integral_of_peaks_comparison_IZO_only.xlsx')  the 3mbar with its 21 ohm sq was worng so now removed\n",
        "df=pd.read_excel('Integral_of_peaks_comparison_IZO_only_3mbarcutout.xlsx')"
      ],
      "execution_count": null,
      "outputs": []
    },
    {
      "cell_type": "code",
      "metadata": {
        "colab": {
          "base_uri": "https://localhost:8080/",
          "height": 148
        },
        "id": "iyvEiNpoGub9",
        "outputId": "f9a6178e-7f14-4b55-a583-15ec721fd2a0"
      },
      "source": [
        "df.head(2)"
      ],
      "execution_count": null,
      "outputs": [
        {
          "output_type": "execute_result",
          "data": {
            "text/html": [
              "<div>\n",
              "<style scoped>\n",
              "    .dataframe tbody tr th:only-of-type {\n",
              "        vertical-align: middle;\n",
              "    }\n",
              "\n",
              "    .dataframe tbody tr th {\n",
              "        vertical-align: top;\n",
              "    }\n",
              "\n",
              "    .dataframe thead th {\n",
              "        text-align: right;\n",
              "    }\n",
              "</style>\n",
              "<table border=\"1\" class=\"dataframe\">\n",
              "  <thead>\n",
              "    <tr style=\"text-align: right;\">\n",
              "      <th></th>\n",
              "      <th>A</th>\n",
              "      <th>B</th>\n",
              "      <th>C</th>\n",
              "      <th>D</th>\n",
              "      <th>E</th>\n",
              "      <th>F</th>\n",
              "      <th>G</th>\n",
              "      <th>H</th>\n",
              "      <th>I</th>\n",
              "      <th>J</th>\n",
              "      <th>K</th>\n",
              "      <th>L</th>\n",
              "      <th>Pres</th>\n",
              "      <th>Sheet</th>\n",
              "      <th>Sample</th>\n",
              "      <th>ID</th>\n",
              "      <th>Unnamed: 16</th>\n",
              "      <th>sum</th>\n",
              "      <th>Unnamed: 18</th>\n",
              "      <th>A.1</th>\n",
              "      <th>B.1</th>\n",
              "      <th>C.1</th>\n",
              "      <th>D.1</th>\n",
              "      <th>E.1</th>\n",
              "      <th>F.1</th>\n",
              "      <th>G.1</th>\n",
              "      <th>H.1</th>\n",
              "      <th>I.1</th>\n",
              "      <th>J.1</th>\n",
              "      <th>K.1</th>\n",
              "      <th>L.1</th>\n",
              "      <th>Sheet.1</th>\n",
              "    </tr>\n",
              "  </thead>\n",
              "  <tbody>\n",
              "    <tr>\n",
              "      <th>0</th>\n",
              "      <td>743.8543</td>\n",
              "      <td>340.2103</td>\n",
              "      <td>2926.237</td>\n",
              "      <td>1384.301</td>\n",
              "      <td>768.4669</td>\n",
              "      <td>1008.149</td>\n",
              "      <td>861.4096</td>\n",
              "      <td>1002.9320</td>\n",
              "      <td>1570.475</td>\n",
              "      <td>2182.261</td>\n",
              "      <td>3235.216</td>\n",
              "      <td>115.4485</td>\n",
              "      <td>1.0</td>\n",
              "      <td>13.5</td>\n",
              "      <td>IZO</td>\n",
              "      <td>1</td>\n",
              "      <td>NaN</td>\n",
              "      <td>16138.9606</td>\n",
              "      <td>NaN</td>\n",
              "      <td>0.046091</td>\n",
              "      <td>0.021080</td>\n",
              "      <td>0.181315</td>\n",
              "      <td>0.085774</td>\n",
              "      <td>0.047616</td>\n",
              "      <td>0.062467</td>\n",
              "      <td>0.053375</td>\n",
              "      <td>0.062144</td>\n",
              "      <td>0.097310</td>\n",
              "      <td>0.135217</td>\n",
              "      <td>0.200460</td>\n",
              "      <td>0.007153</td>\n",
              "      <td>13.5</td>\n",
              "    </tr>\n",
              "    <tr>\n",
              "      <th>1</th>\n",
              "      <td>741.7682</td>\n",
              "      <td>335.8525</td>\n",
              "      <td>2929.873</td>\n",
              "      <td>1375.218</td>\n",
              "      <td>768.2396</td>\n",
              "      <td>1002.382</td>\n",
              "      <td>860.3216</td>\n",
              "      <td>990.2999</td>\n",
              "      <td>1558.786</td>\n",
              "      <td>2181.261</td>\n",
              "      <td>3227.857</td>\n",
              "      <td>113.7976</td>\n",
              "      <td>1.0</td>\n",
              "      <td>13.5</td>\n",
              "      <td>IZO</td>\n",
              "      <td>1</td>\n",
              "      <td>NaN</td>\n",
              "      <td>16085.6564</td>\n",
              "      <td>NaN</td>\n",
              "      <td>0.046114</td>\n",
              "      <td>0.020879</td>\n",
              "      <td>0.182142</td>\n",
              "      <td>0.085493</td>\n",
              "      <td>0.047759</td>\n",
              "      <td>0.062315</td>\n",
              "      <td>0.053484</td>\n",
              "      <td>0.061564</td>\n",
              "      <td>0.096905</td>\n",
              "      <td>0.135603</td>\n",
              "      <td>0.200667</td>\n",
              "      <td>0.007074</td>\n",
              "      <td>13.5</td>\n",
              "    </tr>\n",
              "  </tbody>\n",
              "</table>\n",
              "</div>"
            ],
            "text/plain": [
              "          A         B         C  ...       K.1       L.1  Sheet.1\n",
              "0  743.8543  340.2103  2926.237  ...  0.200460  0.007153     13.5\n",
              "1  741.7682  335.8525  2929.873  ...  0.200667  0.007074     13.5\n",
              "\n",
              "[2 rows x 32 columns]"
            ]
          },
          "metadata": {},
          "execution_count": 154
        }
      ]
    },
    {
      "cell_type": "code",
      "metadata": {
        "id": "yCUK0lBSGvtN"
      },
      "source": [
        "X=df.iloc[:,19:31].values\n",
        "y=df.iloc[:,31].values"
      ],
      "execution_count": null,
      "outputs": []
    },
    {
      "cell_type": "code",
      "metadata": {
        "id": "IwRZRsOeHRVi"
      },
      "source": [
        "from sklearn.model_selection import train_test_split"
      ],
      "execution_count": null,
      "outputs": []
    },
    {
      "cell_type": "code",
      "metadata": {
        "id": "fhehdQs2HsdR"
      },
      "source": [
        "X_train,X_test,y_train,y_test=train_test_split(X,y,test_size=.2)"
      ],
      "execution_count": null,
      "outputs": []
    },
    {
      "cell_type": "markdown",
      "metadata": {
        "id": "gMmMxht4IFg-"
      },
      "source": [
        "##ANN Buildup"
      ]
    },
    {
      "cell_type": "code",
      "metadata": {
        "id": "AYIVI5dKIwmR"
      },
      "source": [
        "from tensorflow.keras.models import Sequential\n",
        "from tensorflow.keras.layers import Dense"
      ],
      "execution_count": null,
      "outputs": []
    },
    {
      "cell_type": "code",
      "metadata": {
        "id": "VIoftWPBJT8D"
      },
      "source": [
        "model=Sequential()"
      ],
      "execution_count": null,
      "outputs": []
    },
    {
      "cell_type": "code",
      "metadata": {
        "id": "UD1Fj1NFJXqa"
      },
      "source": [
        "model.add(Dense(units=30,activation='relu'))\n",
        "model.add(Dense(units=100,activation='relu'))\n",
        "model.add(Dense(units=100,activation='relu'))\n",
        "model.add(Dense(units=20,activation='relu'))\n",
        "model.add(Dense(units=8,activation='relu'))\n",
        "model.add(Dense(units=4,activation='relu'))\n",
        "model.add(Dense(units=1))"
      ],
      "execution_count": null,
      "outputs": []
    },
    {
      "cell_type": "code",
      "metadata": {
        "id": "CHmcFn2fLLjB"
      },
      "source": [
        "model.compile(optimizer=tf.keras.optimizers.Adam(learning_rate=0.01),\n",
        "              loss=tf.keras.losses.Huber(),\n",
        "              metrics=['mae'])\n",
        "\n",
        "#mae  >> great for any regressions problem\n",
        "#mase >> when large errors are more significant than smaller errors\n",
        "#huber >> combination of both and less sensitive to outliners  tf.keras.losses.Huber()  we got the best results with this"
      ],
      "execution_count": null,
      "outputs": []
    },
    {
      "cell_type": "code",
      "metadata": {
        "colab": {
          "base_uri": "https://localhost:8080/"
        },
        "id": "rMzA6GFuMW_D",
        "outputId": "7617c919-1328-4b53-dafc-57fce4165e73"
      },
      "source": [
        "model.fit(X_train,y_train,batch_size=32,epochs=150)"
      ],
      "execution_count": null,
      "outputs": [
        {
          "output_type": "stream",
          "name": "stdout",
          "text": [
            "Epoch 1/150\n",
            "13/13 [==============================] - 1s 3ms/step - loss: 4.8583 - mae: 5.3485\n",
            "Epoch 2/150\n",
            "13/13 [==============================] - 0s 3ms/step - loss: 1.3023 - mae: 1.7452\n",
            "Epoch 3/150\n",
            "13/13 [==============================] - 0s 3ms/step - loss: 0.9414 - mae: 1.3528\n",
            "Epoch 4/150\n",
            "13/13 [==============================] - 0s 3ms/step - loss: 0.8502 - mae: 1.2340\n",
            "Epoch 5/150\n",
            "13/13 [==============================] - 0s 2ms/step - loss: 0.8276 - mae: 1.2250\n",
            "Epoch 6/150\n",
            "13/13 [==============================] - 0s 3ms/step - loss: 0.8381 - mae: 1.2322\n",
            "Epoch 7/150\n",
            "13/13 [==============================] - 0s 3ms/step - loss: 0.8384 - mae: 1.2300\n",
            "Epoch 8/150\n",
            "13/13 [==============================] - 0s 3ms/step - loss: 0.8925 - mae: 1.2849\n",
            "Epoch 9/150\n",
            "13/13 [==============================] - 0s 2ms/step - loss: 0.8293 - mae: 1.2252\n",
            "Epoch 10/150\n",
            "13/13 [==============================] - 0s 2ms/step - loss: 0.8897 - mae: 1.2821\n",
            "Epoch 11/150\n",
            "13/13 [==============================] - 0s 3ms/step - loss: 0.8617 - mae: 1.2393\n",
            "Epoch 12/150\n",
            "13/13 [==============================] - 0s 2ms/step - loss: 0.8381 - mae: 1.2318\n",
            "Epoch 13/150\n",
            "13/13 [==============================] - 0s 3ms/step - loss: 0.8178 - mae: 1.1996\n",
            "Epoch 14/150\n",
            "13/13 [==============================] - 0s 2ms/step - loss: 0.7808 - mae: 1.1780\n",
            "Epoch 15/150\n",
            "13/13 [==============================] - 0s 2ms/step - loss: 0.8234 - mae: 1.2108\n",
            "Epoch 16/150\n",
            "13/13 [==============================] - 0s 3ms/step - loss: 0.8047 - mae: 1.2017\n",
            "Epoch 17/150\n",
            "13/13 [==============================] - 0s 2ms/step - loss: 0.8417 - mae: 1.2363\n",
            "Epoch 18/150\n",
            "13/13 [==============================] - 0s 2ms/step - loss: 0.8692 - mae: 1.2675\n",
            "Epoch 19/150\n",
            "13/13 [==============================] - 0s 3ms/step - loss: 0.8353 - mae: 1.2297\n",
            "Epoch 20/150\n",
            "13/13 [==============================] - 0s 3ms/step - loss: 0.9060 - mae: 1.3199\n",
            "Epoch 21/150\n",
            "13/13 [==============================] - 0s 2ms/step - loss: 0.8179 - mae: 1.2127\n",
            "Epoch 22/150\n",
            "13/13 [==============================] - 0s 3ms/step - loss: 0.7708 - mae: 1.1516\n",
            "Epoch 23/150\n",
            "13/13 [==============================] - 0s 4ms/step - loss: 0.7842 - mae: 1.1772\n",
            "Epoch 24/150\n",
            "13/13 [==============================] - 0s 3ms/step - loss: 0.7762 - mae: 1.1669\n",
            "Epoch 25/150\n",
            "13/13 [==============================] - 0s 4ms/step - loss: 0.7570 - mae: 1.1403\n",
            "Epoch 26/150\n",
            "13/13 [==============================] - 0s 3ms/step - loss: 0.8337 - mae: 1.2309\n",
            "Epoch 27/150\n",
            "13/13 [==============================] - 0s 3ms/step - loss: 0.7566 - mae: 1.1321\n",
            "Epoch 28/150\n",
            "13/13 [==============================] - 0s 2ms/step - loss: 0.7588 - mae: 1.1479\n",
            "Epoch 29/150\n",
            "13/13 [==============================] - 0s 3ms/step - loss: 0.6841 - mae: 1.0669\n",
            "Epoch 30/150\n",
            "13/13 [==============================] - 0s 2ms/step - loss: 0.7295 - mae: 1.1136\n",
            "Epoch 31/150\n",
            "13/13 [==============================] - 0s 3ms/step - loss: 0.6201 - mae: 0.9778\n",
            "Epoch 32/150\n",
            "13/13 [==============================] - 0s 3ms/step - loss: 0.6308 - mae: 1.0254\n",
            "Epoch 33/150\n",
            "13/13 [==============================] - 0s 2ms/step - loss: 0.6188 - mae: 1.0105\n",
            "Epoch 34/150\n",
            "13/13 [==============================] - 0s 3ms/step - loss: 0.7566 - mae: 1.1760\n",
            "Epoch 35/150\n",
            "13/13 [==============================] - 0s 3ms/step - loss: 0.7086 - mae: 1.1206\n",
            "Epoch 36/150\n",
            "13/13 [==============================] - 0s 2ms/step - loss: 0.8878 - mae: 1.3283\n",
            "Epoch 37/150\n",
            "13/13 [==============================] - 0s 3ms/step - loss: 0.6803 - mae: 1.1014\n",
            "Epoch 38/150\n",
            "13/13 [==============================] - 0s 2ms/step - loss: 0.4807 - mae: 0.8228\n",
            "Epoch 39/150\n",
            "13/13 [==============================] - 0s 4ms/step - loss: 0.5687 - mae: 0.9589\n",
            "Epoch 40/150\n",
            "13/13 [==============================] - 0s 3ms/step - loss: 0.7304 - mae: 1.1528\n",
            "Epoch 41/150\n",
            "13/13 [==============================] - 0s 3ms/step - loss: 0.4801 - mae: 0.8505\n",
            "Epoch 42/150\n",
            "13/13 [==============================] - 0s 3ms/step - loss: 0.4518 - mae: 0.8190\n",
            "Epoch 43/150\n",
            "13/13 [==============================] - 0s 3ms/step - loss: 0.4445 - mae: 0.8123\n",
            "Epoch 44/150\n",
            "13/13 [==============================] - 0s 3ms/step - loss: 0.4398 - mae: 0.8036\n",
            "Epoch 45/150\n",
            "13/13 [==============================] - 0s 2ms/step - loss: 0.4454 - mae: 0.8233\n",
            "Epoch 46/150\n",
            "13/13 [==============================] - 0s 3ms/step - loss: 0.4618 - mae: 0.8416\n",
            "Epoch 47/150\n",
            "13/13 [==============================] - 0s 3ms/step - loss: 0.5507 - mae: 0.9524\n",
            "Epoch 48/150\n",
            "13/13 [==============================] - 0s 3ms/step - loss: 0.4580 - mae: 0.8538\n",
            "Epoch 49/150\n",
            "13/13 [==============================] - 0s 3ms/step - loss: 0.4370 - mae: 0.8191\n",
            "Epoch 50/150\n",
            "13/13 [==============================] - 0s 3ms/step - loss: 0.5445 - mae: 0.9419\n",
            "Epoch 51/150\n",
            "13/13 [==============================] - 0s 3ms/step - loss: 0.4909 - mae: 0.8719\n",
            "Epoch 52/150\n",
            "13/13 [==============================] - 0s 2ms/step - loss: 0.4217 - mae: 0.7835\n",
            "Epoch 53/150\n",
            "13/13 [==============================] - 0s 3ms/step - loss: 0.5375 - mae: 0.9232\n",
            "Epoch 54/150\n",
            "13/13 [==============================] - 0s 3ms/step - loss: 0.4907 - mae: 0.8815\n",
            "Epoch 55/150\n",
            "13/13 [==============================] - 0s 3ms/step - loss: 0.4950 - mae: 0.8854\n",
            "Epoch 56/150\n",
            "13/13 [==============================] - 0s 3ms/step - loss: 0.4631 - mae: 0.8439\n",
            "Epoch 57/150\n",
            "13/13 [==============================] - 0s 2ms/step - loss: 0.4729 - mae: 0.8529\n",
            "Epoch 58/150\n",
            "13/13 [==============================] - 0s 3ms/step - loss: 0.4094 - mae: 0.7799\n",
            "Epoch 59/150\n",
            "13/13 [==============================] - 0s 2ms/step - loss: 0.3632 - mae: 0.7272\n",
            "Epoch 60/150\n",
            "13/13 [==============================] - 0s 3ms/step - loss: 0.6063 - mae: 1.0166\n",
            "Epoch 61/150\n",
            "13/13 [==============================] - 0s 3ms/step - loss: 0.4550 - mae: 0.8325\n",
            "Epoch 62/150\n",
            "13/13 [==============================] - 0s 2ms/step - loss: 0.4129 - mae: 0.7899\n",
            "Epoch 63/150\n",
            "13/13 [==============================] - 0s 4ms/step - loss: 0.3742 - mae: 0.7274\n",
            "Epoch 64/150\n",
            "13/13 [==============================] - 0s 3ms/step - loss: 0.3509 - mae: 0.7116\n",
            "Epoch 65/150\n",
            "13/13 [==============================] - 0s 3ms/step - loss: 0.3360 - mae: 0.6875\n",
            "Epoch 66/150\n",
            "13/13 [==============================] - 0s 3ms/step - loss: 0.4054 - mae: 0.7795\n",
            "Epoch 67/150\n",
            "13/13 [==============================] - 0s 3ms/step - loss: 0.3617 - mae: 0.7237\n",
            "Epoch 68/150\n",
            "13/13 [==============================] - 0s 2ms/step - loss: 0.4578 - mae: 0.8394\n",
            "Epoch 69/150\n",
            "13/13 [==============================] - 0s 3ms/step - loss: 0.4816 - mae: 0.8598\n",
            "Epoch 70/150\n",
            "13/13 [==============================] - 0s 3ms/step - loss: 0.3940 - mae: 0.7606\n",
            "Epoch 71/150\n",
            "13/13 [==============================] - 0s 2ms/step - loss: 0.3575 - mae: 0.7199\n",
            "Epoch 72/150\n",
            "13/13 [==============================] - 0s 3ms/step - loss: 0.3430 - mae: 0.6968\n",
            "Epoch 73/150\n",
            "13/13 [==============================] - 0s 2ms/step - loss: 0.5055 - mae: 0.8917\n",
            "Epoch 74/150\n",
            "13/13 [==============================] - 0s 2ms/step - loss: 0.6181 - mae: 1.0217\n",
            "Epoch 75/150\n",
            "13/13 [==============================] - 0s 3ms/step - loss: 0.4792 - mae: 0.8613\n",
            "Epoch 76/150\n",
            "13/13 [==============================] - 0s 4ms/step - loss: 0.3725 - mae: 0.7291\n",
            "Epoch 77/150\n",
            "13/13 [==============================] - 0s 2ms/step - loss: 0.3710 - mae: 0.7226\n",
            "Epoch 78/150\n",
            "13/13 [==============================] - 0s 3ms/step - loss: 0.4219 - mae: 0.7999\n",
            "Epoch 79/150\n",
            "13/13 [==============================] - 0s 2ms/step - loss: 0.4887 - mae: 0.8687\n",
            "Epoch 80/150\n",
            "13/13 [==============================] - 0s 2ms/step - loss: 0.3432 - mae: 0.6940\n",
            "Epoch 81/150\n",
            "13/13 [==============================] - 0s 3ms/step - loss: 0.3792 - mae: 0.7474\n",
            "Epoch 82/150\n",
            "13/13 [==============================] - 0s 2ms/step - loss: 0.3703 - mae: 0.7289\n",
            "Epoch 83/150\n",
            "13/13 [==============================] - 0s 3ms/step - loss: 0.3204 - mae: 0.6722\n",
            "Epoch 84/150\n",
            "13/13 [==============================] - 0s 2ms/step - loss: 0.3210 - mae: 0.6712\n",
            "Epoch 85/150\n",
            "13/13 [==============================] - 0s 2ms/step - loss: 0.3370 - mae: 0.6886\n",
            "Epoch 86/150\n",
            "13/13 [==============================] - 0s 3ms/step - loss: 0.3673 - mae: 0.7225\n",
            "Epoch 87/150\n",
            "13/13 [==============================] - 0s 3ms/step - loss: 0.4270 - mae: 0.7995\n",
            "Epoch 88/150\n",
            "13/13 [==============================] - 0s 3ms/step - loss: 0.4293 - mae: 0.7997\n",
            "Epoch 89/150\n",
            "13/13 [==============================] - 0s 3ms/step - loss: 0.5595 - mae: 0.9584\n",
            "Epoch 90/150\n",
            "13/13 [==============================] - 0s 3ms/step - loss: 0.5641 - mae: 0.9667\n",
            "Epoch 91/150\n",
            "13/13 [==============================] - 0s 3ms/step - loss: 0.5065 - mae: 0.8972\n",
            "Epoch 92/150\n",
            "13/13 [==============================] - 0s 3ms/step - loss: 0.4097 - mae: 0.7930\n",
            "Epoch 93/150\n",
            "13/13 [==============================] - 0s 3ms/step - loss: 0.3269 - mae: 0.6813\n",
            "Epoch 94/150\n",
            "13/13 [==============================] - 0s 2ms/step - loss: 0.3470 - mae: 0.7091\n",
            "Epoch 95/150\n",
            "13/13 [==============================] - 0s 3ms/step - loss: 0.3720 - mae: 0.7343\n",
            "Epoch 96/150\n",
            "13/13 [==============================] - 0s 2ms/step - loss: 0.3706 - mae: 0.7333\n",
            "Epoch 97/150\n",
            "13/13 [==============================] - 0s 3ms/step - loss: 0.4770 - mae: 0.8605\n",
            "Epoch 98/150\n",
            "13/13 [==============================] - 0s 3ms/step - loss: 0.4607 - mae: 0.8482\n",
            "Epoch 99/150\n",
            "13/13 [==============================] - 0s 3ms/step - loss: 0.5316 - mae: 0.9215\n",
            "Epoch 100/150\n",
            "13/13 [==============================] - 0s 3ms/step - loss: 0.5669 - mae: 0.9634\n",
            "Epoch 101/150\n",
            "13/13 [==============================] - 0s 3ms/step - loss: 0.3828 - mae: 0.7386\n",
            "Epoch 102/150\n",
            "13/13 [==============================] - 0s 3ms/step - loss: 0.3477 - mae: 0.7065\n",
            "Epoch 103/150\n",
            "13/13 [==============================] - 0s 3ms/step - loss: 0.3459 - mae: 0.7078\n",
            "Epoch 104/150\n",
            "13/13 [==============================] - 0s 3ms/step - loss: 0.3245 - mae: 0.6691\n",
            "Epoch 105/150\n",
            "13/13 [==============================] - 0s 2ms/step - loss: 0.3707 - mae: 0.7350\n",
            "Epoch 106/150\n",
            "13/13 [==============================] - 0s 3ms/step - loss: 0.3379 - mae: 0.6905\n",
            "Epoch 107/150\n",
            "13/13 [==============================] - 0s 2ms/step - loss: 0.3149 - mae: 0.6661\n",
            "Epoch 108/150\n",
            "13/13 [==============================] - 0s 2ms/step - loss: 0.3873 - mae: 0.7458\n",
            "Epoch 109/150\n",
            "13/13 [==============================] - 0s 4ms/step - loss: 0.3416 - mae: 0.6984\n",
            "Epoch 110/150\n",
            "13/13 [==============================] - 0s 3ms/step - loss: 0.3881 - mae: 0.7653\n",
            "Epoch 111/150\n",
            "13/13 [==============================] - 0s 3ms/step - loss: 0.3648 - mae: 0.7435\n",
            "Epoch 112/150\n",
            "13/13 [==============================] - 0s 2ms/step - loss: 0.4107 - mae: 0.7776\n",
            "Epoch 113/150\n",
            "13/13 [==============================] - 0s 3ms/step - loss: 0.3652 - mae: 0.7330\n",
            "Epoch 114/150\n",
            "13/13 [==============================] - 0s 2ms/step - loss: 0.3278 - mae: 0.6838\n",
            "Epoch 115/150\n",
            "13/13 [==============================] - 0s 3ms/step - loss: 0.5773 - mae: 0.9671\n",
            "Epoch 116/150\n",
            "13/13 [==============================] - 0s 3ms/step - loss: 0.5004 - mae: 0.8985\n",
            "Epoch 117/150\n",
            "13/13 [==============================] - 0s 3ms/step - loss: 0.4176 - mae: 0.7949\n",
            "Epoch 118/150\n",
            "13/13 [==============================] - 0s 3ms/step - loss: 0.3494 - mae: 0.7088\n",
            "Epoch 119/150\n",
            "13/13 [==============================] - 0s 3ms/step - loss: 0.4064 - mae: 0.7774\n",
            "Epoch 120/150\n",
            "13/13 [==============================] - 0s 2ms/step - loss: 0.4145 - mae: 0.7846\n",
            "Epoch 121/150\n",
            "13/13 [==============================] - 0s 3ms/step - loss: 0.3543 - mae: 0.7149\n",
            "Epoch 122/150\n",
            "13/13 [==============================] - 0s 2ms/step - loss: 0.3320 - mae: 0.6830\n",
            "Epoch 123/150\n",
            "13/13 [==============================] - 0s 2ms/step - loss: 0.3739 - mae: 0.7519\n",
            "Epoch 124/150\n",
            "13/13 [==============================] - 0s 3ms/step - loss: 0.3513 - mae: 0.7196\n",
            "Epoch 125/150\n",
            "13/13 [==============================] - 0s 3ms/step - loss: 0.3392 - mae: 0.6884\n",
            "Epoch 126/150\n",
            "13/13 [==============================] - 0s 3ms/step - loss: 0.5554 - mae: 0.9571\n",
            "Epoch 127/150\n",
            "13/13 [==============================] - 0s 4ms/step - loss: 0.5399 - mae: 0.9429\n",
            "Epoch 128/150\n",
            "13/13 [==============================] - 0s 3ms/step - loss: 0.4626 - mae: 0.8598\n",
            "Epoch 129/150\n",
            "13/13 [==============================] - 0s 3ms/step - loss: 0.3849 - mae: 0.7674\n",
            "Epoch 130/150\n",
            "13/13 [==============================] - 0s 3ms/step - loss: 0.3536 - mae: 0.7187\n",
            "Epoch 131/150\n",
            "13/13 [==============================] - 0s 3ms/step - loss: 0.3700 - mae: 0.7324\n",
            "Epoch 132/150\n",
            "13/13 [==============================] - 0s 4ms/step - loss: 0.5002 - mae: 0.9024\n",
            "Epoch 133/150\n",
            "13/13 [==============================] - 0s 3ms/step - loss: 0.4344 - mae: 0.8196\n",
            "Epoch 134/150\n",
            "13/13 [==============================] - 0s 2ms/step - loss: 0.3895 - mae: 0.7613\n",
            "Epoch 135/150\n",
            "13/13 [==============================] - 0s 3ms/step - loss: 0.3364 - mae: 0.6960\n",
            "Epoch 136/150\n",
            "13/13 [==============================] - 0s 3ms/step - loss: 0.3611 - mae: 0.7310\n",
            "Epoch 137/150\n",
            "13/13 [==============================] - 0s 3ms/step - loss: 0.3165 - mae: 0.6713\n",
            "Epoch 138/150\n",
            "13/13 [==============================] - 0s 2ms/step - loss: 0.3098 - mae: 0.6562\n",
            "Epoch 139/150\n",
            "13/13 [==============================] - 0s 2ms/step - loss: 0.3498 - mae: 0.7079\n",
            "Epoch 140/150\n",
            "13/13 [==============================] - 0s 3ms/step - loss: 0.3982 - mae: 0.7685\n",
            "Epoch 141/150\n",
            "13/13 [==============================] - 0s 3ms/step - loss: 0.2968 - mae: 0.6436\n",
            "Epoch 142/150\n",
            "13/13 [==============================] - 0s 3ms/step - loss: 0.3597 - mae: 0.7170\n",
            "Epoch 143/150\n",
            "13/13 [==============================] - 0s 2ms/step - loss: 0.3629 - mae: 0.7263\n",
            "Epoch 144/150\n",
            "13/13 [==============================] - 0s 2ms/step - loss: 0.3192 - mae: 0.6786\n",
            "Epoch 145/150\n",
            "13/13 [==============================] - 0s 3ms/step - loss: 0.3217 - mae: 0.6698\n",
            "Epoch 146/150\n",
            "13/13 [==============================] - 0s 3ms/step - loss: 0.3282 - mae: 0.6839\n",
            "Epoch 147/150\n",
            "13/13 [==============================] - 0s 3ms/step - loss: 0.3201 - mae: 0.6624\n",
            "Epoch 148/150\n",
            "13/13 [==============================] - 0s 2ms/step - loss: 0.3200 - mae: 0.6649\n",
            "Epoch 149/150\n",
            "13/13 [==============================] - 0s 3ms/step - loss: 0.3009 - mae: 0.6333\n",
            "Epoch 150/150\n",
            "13/13 [==============================] - 0s 3ms/step - loss: 0.2606 - mae: 0.5856\n"
          ]
        },
        {
          "output_type": "execute_result",
          "data": {
            "text/plain": [
              "<keras.callbacks.History at 0x7f79f61fd1d0>"
            ]
          },
          "metadata": {},
          "execution_count": 162
        }
      ]
    },
    {
      "cell_type": "code",
      "metadata": {
        "id": "qMlrxXg_se82"
      },
      "source": [
        "#losses=pd.DataFrame(model.history.history)\n",
        "#losses.plot()"
      ],
      "execution_count": null,
      "outputs": []
    },
    {
      "cell_type": "code",
      "metadata": {
        "id": "swkIz7_eMor6"
      },
      "source": [
        "y_pred=model.predict(X_test)"
      ],
      "execution_count": null,
      "outputs": []
    },
    {
      "cell_type": "code",
      "metadata": {
        "colab": {
          "base_uri": "https://localhost:8080/"
        },
        "id": "4N1hsYbZNo_Y",
        "outputId": "82bab3ad-e833-40c5-b992-fd1548fb6581"
      },
      "source": [
        "y_pred.shape"
      ],
      "execution_count": null,
      "outputs": [
        {
          "output_type": "execute_result",
          "data": {
            "text/plain": [
              "(104, 1)"
            ]
          },
          "metadata": {},
          "execution_count": 165
        }
      ]
    },
    {
      "cell_type": "code",
      "metadata": {
        "id": "E4GKj44DNqpM"
      },
      "source": [
        "y_test=y_test.reshape(104,1)"
      ],
      "execution_count": null,
      "outputs": []
    },
    {
      "cell_type": "code",
      "metadata": {
        "id": "JgJfYcfHr_vy"
      },
      "source": [
        ""
      ],
      "execution_count": null,
      "outputs": []
    },
    {
      "cell_type": "code",
      "metadata": {
        "colab": {
          "base_uri": "https://localhost:8080/"
        },
        "id": "yPSePjKsHCbk",
        "outputId": "6120ec5d-76f5-40e3-81bb-9a7f8f9cdd5a"
      },
      "source": [
        "from sklearn.metrics import mean_absolute_error\n",
        "\n",
        "mean_absolute_error(y_pred,y_test)\n",
        "\n"
      ],
      "execution_count": null,
      "outputs": [
        {
          "output_type": "execute_result",
          "data": {
            "text/plain": [
              "0.697888270708231"
            ]
          },
          "metadata": {},
          "execution_count": 167
        }
      ]
    },
    {
      "cell_type": "code",
      "metadata": {
        "id": "FB8dPtIkNzzH"
      },
      "source": [
        "np.set_printoptions(precision=2)\n",
        "results=np.concatenate((y_pred,y_test),1)"
      ],
      "execution_count": null,
      "outputs": []
    },
    {
      "cell_type": "code",
      "metadata": {
        "id": "GKISJA2YN96e"
      },
      "source": [
        "#model.save('ANN_model_for_IZO_peak_ratio.h5')"
      ],
      "execution_count": null,
      "outputs": []
    },
    {
      "cell_type": "code",
      "metadata": {
        "id": "cjwcf-5ozKp1"
      },
      "source": [
        "#model.save_weights('IZO_peak_ratio.h5')"
      ],
      "execution_count": null,
      "outputs": []
    },
    {
      "cell_type": "code",
      "metadata": {
        "id": "sWJrV7pVvI0f"
      },
      "source": [
        "#/content/ANN_model_for_IZO_peak_ratio"
      ],
      "execution_count": null,
      "outputs": []
    },
    {
      "cell_type": "code",
      "metadata": {
        "id": "_bKXjt9nvz10"
      },
      "source": [
        "results_ann_peak_ratio=pd.DataFrame(results,columns=['y_pred','y_test'])"
      ],
      "execution_count": null,
      "outputs": []
    },
    {
      "cell_type": "code",
      "metadata": {
        "colab": {
          "base_uri": "https://localhost:8080/",
          "height": 1000
        },
        "id": "LBoWpaPswHYi",
        "outputId": "0ffb3252-e951-4972-e294-564802ad4e0e"
      },
      "source": [
        "results_ann_peak_ratio.head(50)"
      ],
      "execution_count": null,
      "outputs": [
        {
          "output_type": "execute_result",
          "data": {
            "text/html": [
              "<div>\n",
              "<style scoped>\n",
              "    .dataframe tbody tr th:only-of-type {\n",
              "        vertical-align: middle;\n",
              "    }\n",
              "\n",
              "    .dataframe tbody tr th {\n",
              "        vertical-align: top;\n",
              "    }\n",
              "\n",
              "    .dataframe thead th {\n",
              "        text-align: right;\n",
              "    }\n",
              "</style>\n",
              "<table border=\"1\" class=\"dataframe\">\n",
              "  <thead>\n",
              "    <tr style=\"text-align: right;\">\n",
              "      <th></th>\n",
              "      <th>y_pred</th>\n",
              "      <th>y_test</th>\n",
              "    </tr>\n",
              "  </thead>\n",
              "  <tbody>\n",
              "    <tr>\n",
              "      <th>0</th>\n",
              "      <td>10.226252</td>\n",
              "      <td>9.6</td>\n",
              "    </tr>\n",
              "    <tr>\n",
              "      <th>1</th>\n",
              "      <td>9.317330</td>\n",
              "      <td>10.0</td>\n",
              "    </tr>\n",
              "    <tr>\n",
              "      <th>2</th>\n",
              "      <td>9.117767</td>\n",
              "      <td>10.0</td>\n",
              "    </tr>\n",
              "    <tr>\n",
              "      <th>3</th>\n",
              "      <td>9.272094</td>\n",
              "      <td>11.4</td>\n",
              "    </tr>\n",
              "    <tr>\n",
              "      <th>4</th>\n",
              "      <td>9.494141</td>\n",
              "      <td>9.8</td>\n",
              "    </tr>\n",
              "    <tr>\n",
              "      <th>5</th>\n",
              "      <td>9.310472</td>\n",
              "      <td>9.8</td>\n",
              "    </tr>\n",
              "    <tr>\n",
              "      <th>6</th>\n",
              "      <td>7.387047</td>\n",
              "      <td>7.5</td>\n",
              "    </tr>\n",
              "    <tr>\n",
              "      <th>7</th>\n",
              "      <td>9.544577</td>\n",
              "      <td>9.6</td>\n",
              "    </tr>\n",
              "    <tr>\n",
              "      <th>8</th>\n",
              "      <td>7.385607</td>\n",
              "      <td>7.5</td>\n",
              "    </tr>\n",
              "    <tr>\n",
              "      <th>9</th>\n",
              "      <td>7.385360</td>\n",
              "      <td>7.5</td>\n",
              "    </tr>\n",
              "    <tr>\n",
              "      <th>10</th>\n",
              "      <td>14.316263</td>\n",
              "      <td>13.5</td>\n",
              "    </tr>\n",
              "    <tr>\n",
              "      <th>11</th>\n",
              "      <td>11.101206</td>\n",
              "      <td>11.0</td>\n",
              "    </tr>\n",
              "    <tr>\n",
              "      <th>12</th>\n",
              "      <td>10.011886</td>\n",
              "      <td>11.4</td>\n",
              "    </tr>\n",
              "    <tr>\n",
              "      <th>13</th>\n",
              "      <td>7.373538</td>\n",
              "      <td>7.5</td>\n",
              "    </tr>\n",
              "    <tr>\n",
              "      <th>14</th>\n",
              "      <td>9.278701</td>\n",
              "      <td>9.6</td>\n",
              "    </tr>\n",
              "    <tr>\n",
              "      <th>15</th>\n",
              "      <td>10.768990</td>\n",
              "      <td>11.0</td>\n",
              "    </tr>\n",
              "    <tr>\n",
              "      <th>16</th>\n",
              "      <td>9.993688</td>\n",
              "      <td>9.6</td>\n",
              "    </tr>\n",
              "    <tr>\n",
              "      <th>17</th>\n",
              "      <td>8.731461</td>\n",
              "      <td>10.0</td>\n",
              "    </tr>\n",
              "    <tr>\n",
              "      <th>18</th>\n",
              "      <td>9.490912</td>\n",
              "      <td>11.4</td>\n",
              "    </tr>\n",
              "    <tr>\n",
              "      <th>19</th>\n",
              "      <td>8.020495</td>\n",
              "      <td>7.5</td>\n",
              "    </tr>\n",
              "    <tr>\n",
              "      <th>20</th>\n",
              "      <td>8.710152</td>\n",
              "      <td>10.0</td>\n",
              "    </tr>\n",
              "    <tr>\n",
              "      <th>21</th>\n",
              "      <td>10.847935</td>\n",
              "      <td>10.7</td>\n",
              "    </tr>\n",
              "    <tr>\n",
              "      <th>22</th>\n",
              "      <td>10.849602</td>\n",
              "      <td>11.0</td>\n",
              "    </tr>\n",
              "    <tr>\n",
              "      <th>23</th>\n",
              "      <td>8.987921</td>\n",
              "      <td>9.8</td>\n",
              "    </tr>\n",
              "    <tr>\n",
              "      <th>24</th>\n",
              "      <td>9.915879</td>\n",
              "      <td>9.8</td>\n",
              "    </tr>\n",
              "    <tr>\n",
              "      <th>25</th>\n",
              "      <td>11.930315</td>\n",
              "      <td>13.5</td>\n",
              "    </tr>\n",
              "    <tr>\n",
              "      <th>26</th>\n",
              "      <td>10.013597</td>\n",
              "      <td>11.4</td>\n",
              "    </tr>\n",
              "    <tr>\n",
              "      <th>27</th>\n",
              "      <td>9.242728</td>\n",
              "      <td>11.4</td>\n",
              "    </tr>\n",
              "    <tr>\n",
              "      <th>28</th>\n",
              "      <td>9.262255</td>\n",
              "      <td>10.0</td>\n",
              "    </tr>\n",
              "    <tr>\n",
              "      <th>29</th>\n",
              "      <td>10.404866</td>\n",
              "      <td>9.8</td>\n",
              "    </tr>\n",
              "    <tr>\n",
              "      <th>30</th>\n",
              "      <td>10.752340</td>\n",
              "      <td>10.7</td>\n",
              "    </tr>\n",
              "    <tr>\n",
              "      <th>31</th>\n",
              "      <td>11.677028</td>\n",
              "      <td>13.5</td>\n",
              "    </tr>\n",
              "    <tr>\n",
              "      <th>32</th>\n",
              "      <td>10.585836</td>\n",
              "      <td>11.0</td>\n",
              "    </tr>\n",
              "    <tr>\n",
              "      <th>33</th>\n",
              "      <td>8.634416</td>\n",
              "      <td>10.0</td>\n",
              "    </tr>\n",
              "    <tr>\n",
              "      <th>34</th>\n",
              "      <td>8.027826</td>\n",
              "      <td>7.5</td>\n",
              "    </tr>\n",
              "    <tr>\n",
              "      <th>35</th>\n",
              "      <td>7.373427</td>\n",
              "      <td>7.5</td>\n",
              "    </tr>\n",
              "    <tr>\n",
              "      <th>36</th>\n",
              "      <td>7.397652</td>\n",
              "      <td>7.5</td>\n",
              "    </tr>\n",
              "    <tr>\n",
              "      <th>37</th>\n",
              "      <td>7.973097</td>\n",
              "      <td>7.5</td>\n",
              "    </tr>\n",
              "    <tr>\n",
              "      <th>38</th>\n",
              "      <td>9.478516</td>\n",
              "      <td>11.4</td>\n",
              "    </tr>\n",
              "    <tr>\n",
              "      <th>39</th>\n",
              "      <td>9.271677</td>\n",
              "      <td>10.0</td>\n",
              "    </tr>\n",
              "    <tr>\n",
              "      <th>40</th>\n",
              "      <td>11.226193</td>\n",
              "      <td>11.0</td>\n",
              "    </tr>\n",
              "    <tr>\n",
              "      <th>41</th>\n",
              "      <td>9.901940</td>\n",
              "      <td>11.4</td>\n",
              "    </tr>\n",
              "    <tr>\n",
              "      <th>42</th>\n",
              "      <td>7.374485</td>\n",
              "      <td>7.5</td>\n",
              "    </tr>\n",
              "    <tr>\n",
              "      <th>43</th>\n",
              "      <td>11.096617</td>\n",
              "      <td>11.0</td>\n",
              "    </tr>\n",
              "    <tr>\n",
              "      <th>44</th>\n",
              "      <td>10.372024</td>\n",
              "      <td>11.4</td>\n",
              "    </tr>\n",
              "    <tr>\n",
              "      <th>45</th>\n",
              "      <td>10.676955</td>\n",
              "      <td>10.7</td>\n",
              "    </tr>\n",
              "    <tr>\n",
              "      <th>46</th>\n",
              "      <td>9.023786</td>\n",
              "      <td>10.0</td>\n",
              "    </tr>\n",
              "    <tr>\n",
              "      <th>47</th>\n",
              "      <td>7.432865</td>\n",
              "      <td>7.5</td>\n",
              "    </tr>\n",
              "    <tr>\n",
              "      <th>48</th>\n",
              "      <td>7.367147</td>\n",
              "      <td>7.5</td>\n",
              "    </tr>\n",
              "    <tr>\n",
              "      <th>49</th>\n",
              "      <td>7.368405</td>\n",
              "      <td>7.5</td>\n",
              "    </tr>\n",
              "  </tbody>\n",
              "</table>\n",
              "</div>"
            ],
            "text/plain": [
              "       y_pred  y_test\n",
              "0   10.226252     9.6\n",
              "1    9.317330    10.0\n",
              "2    9.117767    10.0\n",
              "3    9.272094    11.4\n",
              "4    9.494141     9.8\n",
              "5    9.310472     9.8\n",
              "6    7.387047     7.5\n",
              "7    9.544577     9.6\n",
              "8    7.385607     7.5\n",
              "9    7.385360     7.5\n",
              "10  14.316263    13.5\n",
              "11  11.101206    11.0\n",
              "12  10.011886    11.4\n",
              "13   7.373538     7.5\n",
              "14   9.278701     9.6\n",
              "15  10.768990    11.0\n",
              "16   9.993688     9.6\n",
              "17   8.731461    10.0\n",
              "18   9.490912    11.4\n",
              "19   8.020495     7.5\n",
              "20   8.710152    10.0\n",
              "21  10.847935    10.7\n",
              "22  10.849602    11.0\n",
              "23   8.987921     9.8\n",
              "24   9.915879     9.8\n",
              "25  11.930315    13.5\n",
              "26  10.013597    11.4\n",
              "27   9.242728    11.4\n",
              "28   9.262255    10.0\n",
              "29  10.404866     9.8\n",
              "30  10.752340    10.7\n",
              "31  11.677028    13.5\n",
              "32  10.585836    11.0\n",
              "33   8.634416    10.0\n",
              "34   8.027826     7.5\n",
              "35   7.373427     7.5\n",
              "36   7.397652     7.5\n",
              "37   7.973097     7.5\n",
              "38   9.478516    11.4\n",
              "39   9.271677    10.0\n",
              "40  11.226193    11.0\n",
              "41   9.901940    11.4\n",
              "42   7.374485     7.5\n",
              "43  11.096617    11.0\n",
              "44  10.372024    11.4\n",
              "45  10.676955    10.7\n",
              "46   9.023786    10.0\n",
              "47   7.432865     7.5\n",
              "48   7.367147     7.5\n",
              "49   7.368405     7.5"
            ]
          },
          "metadata": {},
          "execution_count": 173
        }
      ]
    },
    {
      "cell_type": "code",
      "metadata": {
        "id": "AJKdDUIY0J-q"
      },
      "source": [
        "Writer=pd.ExcelWriter('outpu.xlsx')\n",
        "\n",
        "results_ann_peak_ratio.to_excel(Writer)"
      ],
      "execution_count": null,
      "outputs": []
    },
    {
      "cell_type": "code",
      "metadata": {
        "id": "HTlat5Sxwa6w"
      },
      "source": [
        "Writer.save()"
      ],
      "execution_count": null,
      "outputs": []
    },
    {
      "cell_type": "code",
      "metadata": {
        "id": "xPtL0H0GxDcB"
      },
      "source": [
        "from sklearn import metrics"
      ],
      "execution_count": null,
      "outputs": []
    },
    {
      "cell_type": "code",
      "metadata": {
        "colab": {
          "base_uri": "https://localhost:8080/"
        },
        "id": "bNtFSwdO83Z_",
        "outputId": "dc894d65-b49d-4c5f-ad85-5e4d73771f29"
      },
      "source": [
        "metrics.explained_variance_score(y_test,y_pred)"
      ],
      "execution_count": null,
      "outputs": [
        {
          "output_type": "execute_result",
          "data": {
            "text/plain": [
              "0.7835481547045435"
            ]
          },
          "metadata": {},
          "execution_count": 177
        }
      ]
    },
    {
      "cell_type": "code",
      "metadata": {
        "colab": {
          "base_uri": "https://localhost:8080/"
        },
        "id": "P4y1ZcTB88Ki",
        "outputId": "25818435-42d6-4407-b385-cc19dafae51d"
      },
      "source": [
        "metrics.mean_squared_error(y_test,y_pred)"
      ],
      "execution_count": null,
      "outputs": [
        {
          "output_type": "execute_result",
          "data": {
            "text/plain": [
              "0.8447837715582683"
            ]
          },
          "metadata": {},
          "execution_count": 178
        }
      ]
    },
    {
      "cell_type": "code",
      "metadata": {
        "id": "djYcq_Hc9lyx",
        "colab": {
          "base_uri": "https://localhost:8080/"
        },
        "outputId": "ea27e285-4790-4f0e-f33d-7e2844da1767"
      },
      "source": [
        "model.summary()"
      ],
      "execution_count": null,
      "outputs": [
        {
          "output_type": "stream",
          "name": "stdout",
          "text": [
            "Model: \"sequential_5\"\n",
            "_________________________________________________________________\n",
            "Layer (type)                 Output Shape              Param #   \n",
            "=================================================================\n",
            "dense_35 (Dense)             (None, 30)                390       \n",
            "_________________________________________________________________\n",
            "dense_36 (Dense)             (None, 100)               3100      \n",
            "_________________________________________________________________\n",
            "dense_37 (Dense)             (None, 100)               10100     \n",
            "_________________________________________________________________\n",
            "dense_38 (Dense)             (None, 20)                2020      \n",
            "_________________________________________________________________\n",
            "dense_39 (Dense)             (None, 8)                 168       \n",
            "_________________________________________________________________\n",
            "dense_40 (Dense)             (None, 4)                 36        \n",
            "_________________________________________________________________\n",
            "dense_41 (Dense)             (None, 1)                 5         \n",
            "=================================================================\n",
            "Total params: 15,819\n",
            "Trainable params: 15,819\n",
            "Non-trainable params: 0\n",
            "_________________________________________________________________\n"
          ]
        }
      ]
    },
    {
      "cell_type": "code",
      "metadata": {
        "colab": {
          "base_uri": "https://localhost:8080/",
          "height": 865
        },
        "id": "jYHZhKPuopU9",
        "outputId": "79545615-59b7-40d5-dfb4-cd291cab014d"
      },
      "source": [
        "from tensorflow.keras.utils import plot_model\n",
        "\n",
        "plot_model(model=model,show_shapes=True)"
      ],
      "execution_count": null,
      "outputs": [
        {
          "output_type": "execute_result",
          "data": {
            "image/png": "[encoded data removed]",
            "text/plain": [
              "<IPython.core.display.Image object>"
            ]
          },
          "metadata": {},
          "execution_count": 180
        }
      ]
    },
    {
      "cell_type": "code",
      "metadata": {
        "colab": {
          "base_uri": "https://localhost:8080/",
          "height": 282
        },
        "id": "XXhntwjByrMG",
        "outputId": "36770fb7-b2d6-48ef-eb41-4c06c02de0ab"
      },
      "source": [
        "import matplotlib.pyplot as plt\n",
        "plt.scatter(y_pred,y_test,marker='o',linewidths=0.0002)"
      ],
      "execution_count": null,
      "outputs": [
        {
          "output_type": "execute_result",
          "data": {
            "text/plain": [
              "<matplotlib.collections.PathCollection at 0x7f7998172290>"
            ]
          },
          "metadata": {},
          "execution_count": 181
        },
        {
          "output_type": "display_data",
          "data": {
            "image/png": "[encoded data removed]",
            "text/plain": [
              "<Figure size 432x288 with 1 Axes>"
            ]
          },
          "metadata": {
            "needs_background": "light"
          }
        }
      ]
    },
    {
      "cell_type": "code",
      "metadata": {
        "colab": {
          "base_uri": "https://localhost:8080/"
        },
        "id": "dh6pxhZU0WZl",
        "outputId": "ce2f6f20-f61d-46e7-dcdf-834ac83e5a8f"
      },
      "source": [
        "tf.keras.metrics.mae(y_test,y_pred)"
      ],
      "execution_count": null,
      "outputs": [
        {
          "output_type": "execute_result",
          "data": {
            "text/plain": [
              "<tf.Tensor: shape=(104,), dtype=float32, numpy=\n",
              "array([0.63, 0.68, 0.88, 2.13, 0.31, 0.49, 0.11, 0.06, 0.11, 0.11, 0.82,\n",
              "       0.1 , 1.39, 0.13, 0.32, 0.23, 0.39, 1.27, 1.91, 0.52, 1.29, 0.15,\n",
              "       0.15, 0.81, 0.12, 1.57, 1.39, 2.16, 0.74, 0.6 , 0.05, 1.82, 0.41,\n",
              "       1.37, 0.53, 0.13, 0.1 , 0.47, 1.92, 0.73, 0.23, 1.5 , 0.13, 0.1 ,\n",
              "       1.03, 0.02, 0.98, 0.07, 0.13, 0.13, 0.23, 0.31, 0.26, 1.17, 0.56,\n",
              "       0.4 , 1.89, 1.51, 1.04, 0.33, 0.63, 1.49, 1.65, 0.72, 1.11, 0.13,\n",
              "       0.04, 0.13, 0.18, 0.6 , 1.62, 0.24, 0.8 , 0.07, 0.72, 1.89, 0.36,\n",
              "       0.12, 1.55, 0.91, 0.39, 1.64, 0.15, 0.12, 0.05, 1.72, 0.16, 0.43,\n",
              "       0.92, 0.48, 1.39, 1.3 , 0.59, 0.46, 1.46, 1.09, 0.71, 0.7 , 1.61,\n",
              "       0.24, 0.43, 0.31, 0.05, 0.08], dtype=float32)>"
            ]
          },
          "metadata": {},
          "execution_count": 182
        }
      ]
    },
    {
      "cell_type": "code",
      "metadata": {
        "colab": {
          "base_uri": "https://localhost:8080/"
        },
        "id": "iW0pYd39S7QX",
        "outputId": "f912e094-27c8-4fdc-c4fb-dd4f082c2e19"
      },
      "source": [
        "tf.keras.metrics.mse(y_test,y_pred)"
      ],
      "execution_count": null,
      "outputs": [
        {
          "output_type": "execute_result",
          "data": {
            "text/plain": [
              "<tf.Tensor: shape=(104,), dtype=float32, numpy=\n",
              "array([3.92e-01, 4.66e-01, 7.78e-01, 4.53e+00, 9.36e-02, 2.40e-01,\n",
              "       1.28e-02, 3.07e-03, 1.31e-02, 1.31e-02, 6.66e-01, 1.02e-02,\n",
              "       1.93e+00, 1.60e-02, 1.03e-01, 5.34e-02, 1.55e-01, 1.61e+00,\n",
              "       3.64e+00, 2.71e-01, 1.66e+00, 2.19e-02, 2.26e-02, 6.59e-01,\n",
              "       1.34e-02, 2.46e+00, 1.92e+00, 4.65e+00, 5.44e-01, 3.66e-01,\n",
              "       2.74e-03, 3.32e+00, 1.72e-01, 1.86e+00, 2.79e-01, 1.60e-02,\n",
              "       1.05e-02, 2.24e-01, 3.69e+00, 5.30e-01, 5.12e-02, 2.24e+00,\n",
              "       1.58e-02, 9.33e-03, 1.06e+00, 5.31e-04, 9.53e-01, 4.51e-03,\n",
              "       1.76e-02, 1.73e-02, 5.26e-02, 9.48e-02, 6.74e-02, 1.37e+00,\n",
              "       3.17e-01, 1.61e-01, 3.57e+00, 2.28e+00, 1.09e+00, 1.10e-01,\n",
              "       3.97e-01, 2.22e+00, 2.72e+00, 5.19e-01, 1.23e+00, 1.59e-02,\n",
              "       1.91e-03, 1.65e-02, 3.26e-02, 3.61e-01, 2.64e+00, 5.85e-02,\n",
              "       6.33e-01, 4.63e-03, 5.17e-01, 3.59e+00, 1.28e-01, 1.55e-02,\n",
              "       2.40e+00, 8.28e-01, 1.54e-01, 2.68e+00, 2.26e-02, 1.39e-02,\n",
              "       2.72e-03, 2.97e+00, 2.68e-02, 1.88e-01, 8.40e-01, 2.35e-01,\n",
              "       1.93e+00, 1.69e+00, 3.49e-01, 2.12e-01, 2.12e+00, 1.19e+00,\n",
              "       5.07e-01, 4.97e-01, 2.61e+00, 5.79e-02, 1.83e-01, 9.50e-02,\n",
              "       2.53e-03, 7.08e-03], dtype=float32)>"
            ]
          },
          "metadata": {},
          "execution_count": 183
        }
      ]
    },
    {
      "cell_type": "code",
      "metadata": {
        "colab": {
          "base_uri": "https://localhost:8080/"
        },
        "id": "tC9BqSV7TLlT",
        "outputId": "c18227a3-303c-4d24-dd2c-47f3583a9189"
      },
      "source": [
        "y_test.shape  # If we want a single value MAE or MSE,  squeex the dimentions"
      ],
      "execution_count": null,
      "outputs": [
        {
          "output_type": "execute_result",
          "data": {
            "text/plain": [
              "(104, 1)"
            ]
          },
          "metadata": {},
          "execution_count": 184
        }
      ]
    },
    {
      "cell_type": "code",
      "metadata": {
        "colab": {
          "base_uri": "https://localhost:8080/"
        },
        "id": "Bd56S28gTgxA",
        "outputId": "2f4ad4c5-36f5-4df2-ae47-efb4b7a4bc6d"
      },
      "source": [
        "tf.keras.metrics.mae(tf.squeeze(y_pred),tf.squeeze(y_test))"
      ],
      "execution_count": null,
      "outputs": [
        {
          "output_type": "execute_result",
          "data": {
            "text/plain": [
              "<tf.Tensor: shape=(), dtype=float64, numpy=0.697888270708231>"
            ]
          },
          "metadata": {},
          "execution_count": 185
        }
      ]
    },
    {
      "cell_type": "code",
      "metadata": {
        "id": "0Apjk0gZi9ay"
      },
      "source": [
        ""
      ],
      "execution_count": null,
      "outputs": []
    }
  ]
}