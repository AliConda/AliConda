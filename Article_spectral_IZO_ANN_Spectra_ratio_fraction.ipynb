{
  "nbformat": 4,
  "nbformat_minor": 0,
  "metadata": {
    "colab": {
      "name": "Article_spectral_IZO ANN Spectra ratio fraction",
      "provenance": [],
      "authorship_tag": "ABX9TyOR2ErhleX+m04a6sWVLd29",
      "include_colab_link": true
    },
    "kernelspec": {
      "name": "python3",
      "display_name": "Python 3"
    },
    "language_info": {
      "name": "python"
    },
    "accelerator": "GPU"
  },
  "cells": [
    {
      "cell_type": "markdown",
      "metadata": {
        "id": "view-in-github",
        "colab_type": "text"
      },
      "source": [
        "<a href=\"https://colab.research.google.com/github/AliConda/AliConda/blob/main/Article_spectral_IZO_ANN_Spectra_ratio_fraction.ipynb\" target=\"_parent\"><img src=\"https://colab.research.google.com/assets/colab-badge.svg\" alt=\"Open In Colab\"/></a>"
      ]
    },
    {
      "cell_type": "code",
      "metadata": {
        "id": "N4a4lgpOAze0"
      },
      "source": [
        "import pandas as pd\n",
        "import tensorflow as tf\n",
        "import numpy as np\n",
        "import matplotlib.pyplot as plt"
      ],
      "execution_count": null,
      "outputs": []
    },
    {
      "cell_type": "code",
      "metadata": {
        "id": "7CX6XOowBEIm"
      },
      "source": [
        "df_raw=pd.read_excel('IZO_zeroed and scaled sum.xlsx')\n",
        "df_reserve=pd.read_excel('Full_IZO_spectral_ann.xlsx')"
      ],
      "execution_count": null,
      "outputs": []
    },
    {
      "cell_type": "code",
      "metadata": {
        "colab": {
          "base_uri": "https://localhost:8080/",
          "height": 258
        },
        "id": "8_HrC8QFBZLC",
        "outputId": "cc144d34-3c9b-4d0d-cd6d-e4b61440d281"
      },
      "source": [
        "df_raw.head(3)"
      ],
      "execution_count": null,
      "outputs": [
        {
          "output_type": "execute_result",
          "data": {
            "text/html": [
              "<div>\n",
              "<style scoped>\n",
              "    .dataframe tbody tr th:only-of-type {\n",
              "        vertical-align: middle;\n",
              "    }\n",
              "\n",
              "    .dataframe tbody tr th {\n",
              "        vertical-align: top;\n",
              "    }\n",
              "\n",
              "    .dataframe thead th {\n",
              "        text-align: right;\n",
              "    }\n",
              "</style>\n",
              "<table border=\"1\" class=\"dataframe\">\n",
              "  <thead>\n",
              "    <tr style=\"text-align: right;\">\n",
              "      <th></th>\n",
              "      <th>Unnamed: 0</th>\n",
              "      <th>195</th>\n",
              "      <th>195.2</th>\n",
              "      <th>195.4</th>\n",
              "      <th>195.6</th>\n",
              "      <th>195.8</th>\n",
              "      <th>196</th>\n",
              "      <th>196.2</th>\n",
              "      <th>196.4</th>\n",
              "      <th>196.6</th>\n",
              "      <th>196.8</th>\n",
              "      <th>197</th>\n",
              "      <th>197.2</th>\n",
              "      <th>197.4</th>\n",
              "      <th>197.6</th>\n",
              "      <th>197.8</th>\n",
              "      <th>198</th>\n",
              "      <th>198.2</th>\n",
              "      <th>198.4</th>\n",
              "      <th>198.6</th>\n",
              "      <th>198.8</th>\n",
              "      <th>199</th>\n",
              "      <th>199.2</th>\n",
              "      <th>199.4</th>\n",
              "      <th>199.6</th>\n",
              "      <th>199.8</th>\n",
              "      <th>200</th>\n",
              "      <th>200.2</th>\n",
              "      <th>200.4</th>\n",
              "      <th>200.6</th>\n",
              "      <th>200.8</th>\n",
              "      <th>201</th>\n",
              "      <th>201.2</th>\n",
              "      <th>201.4</th>\n",
              "      <th>201.6</th>\n",
              "      <th>201.8</th>\n",
              "      <th>202</th>\n",
              "      <th>202.2</th>\n",
              "      <th>202.4</th>\n",
              "      <th>202.6</th>\n",
              "      <th>...</th>\n",
              "      <th>1097.2</th>\n",
              "      <th>1097.4</th>\n",
              "      <th>1097.6</th>\n",
              "      <th>1097.8</th>\n",
              "      <th>1098</th>\n",
              "      <th>1098.2</th>\n",
              "      <th>1098.4</th>\n",
              "      <th>1098.6</th>\n",
              "      <th>1098.8</th>\n",
              "      <th>1099</th>\n",
              "      <th>1099.2</th>\n",
              "      <th>1099.4</th>\n",
              "      <th>1099.6</th>\n",
              "      <th>1099.8</th>\n",
              "      <th>1100</th>\n",
              "      <th>1100.2</th>\n",
              "      <th>1100.4</th>\n",
              "      <th>1100.6</th>\n",
              "      <th>1100.8</th>\n",
              "      <th>1101</th>\n",
              "      <th>1101.2</th>\n",
              "      <th>1101.4</th>\n",
              "      <th>1101.6</th>\n",
              "      <th>1101.8</th>\n",
              "      <th>1102</th>\n",
              "      <th>1102.2</th>\n",
              "      <th>1102.4</th>\n",
              "      <th>1102.6</th>\n",
              "      <th>1102.8</th>\n",
              "      <th>1103</th>\n",
              "      <th>1103.2</th>\n",
              "      <th>1103.4</th>\n",
              "      <th>1103.6</th>\n",
              "      <th>1103.8</th>\n",
              "      <th>1104</th>\n",
              "      <th>1104.2</th>\n",
              "      <th>1104.4</th>\n",
              "      <th>1104.6</th>\n",
              "      <th>1104.8</th>\n",
              "      <th>sum</th>\n",
              "    </tr>\n",
              "  </thead>\n",
              "  <tbody>\n",
              "    <tr>\n",
              "      <th>0</th>\n",
              "      <td>0</td>\n",
              "      <td>0</td>\n",
              "      <td>0.000002</td>\n",
              "      <td>6.339045e-07</td>\n",
              "      <td>0.000000</td>\n",
              "      <td>0.0</td>\n",
              "      <td>0</td>\n",
              "      <td>0.0</td>\n",
              "      <td>0.0</td>\n",
              "      <td>0.000000</td>\n",
              "      <td>0.000000</td>\n",
              "      <td>0.000000</td>\n",
              "      <td>6.995184e-07</td>\n",
              "      <td>0.000003</td>\n",
              "      <td>0.000008</td>\n",
              "      <td>0.000014</td>\n",
              "      <td>0.000018</td>\n",
              "      <td>0.000014</td>\n",
              "      <td>9.434174e-06</td>\n",
              "      <td>4.883140e-06</td>\n",
              "      <td>0.000002</td>\n",
              "      <td>0.0</td>\n",
              "      <td>0</td>\n",
              "      <td>0.0</td>\n",
              "      <td>0.000002</td>\n",
              "      <td>3.138990e-06</td>\n",
              "      <td>9.822319e-07</td>\n",
              "      <td>0.0</td>\n",
              "      <td>0</td>\n",
              "      <td>0</td>\n",
              "      <td>0.000000e+00</td>\n",
              "      <td>0.000000</td>\n",
              "      <td>0.000000</td>\n",
              "      <td>0.000000</td>\n",
              "      <td>0.000000e+00</td>\n",
              "      <td>0.0</td>\n",
              "      <td>0.0</td>\n",
              "      <td>1.604555e-07</td>\n",
              "      <td>0.0</td>\n",
              "      <td>0</td>\n",
              "      <td>...</td>\n",
              "      <td>0</td>\n",
              "      <td>0</td>\n",
              "      <td>0.000000</td>\n",
              "      <td>0.0</td>\n",
              "      <td>0</td>\n",
              "      <td>0</td>\n",
              "      <td>0</td>\n",
              "      <td>0</td>\n",
              "      <td>0</td>\n",
              "      <td>0</td>\n",
              "      <td>0</td>\n",
              "      <td>0</td>\n",
              "      <td>0</td>\n",
              "      <td>0</td>\n",
              "      <td>0</td>\n",
              "      <td>0</td>\n",
              "      <td>0</td>\n",
              "      <td>0</td>\n",
              "      <td>0</td>\n",
              "      <td>0</td>\n",
              "      <td>0</td>\n",
              "      <td>0</td>\n",
              "      <td>0</td>\n",
              "      <td>0</td>\n",
              "      <td>0</td>\n",
              "      <td>0</td>\n",
              "      <td>0</td>\n",
              "      <td>0</td>\n",
              "      <td>0</td>\n",
              "      <td>0</td>\n",
              "      <td>0</td>\n",
              "      <td>0</td>\n",
              "      <td>0</td>\n",
              "      <td>0</td>\n",
              "      <td>0</td>\n",
              "      <td>0</td>\n",
              "      <td>0</td>\n",
              "      <td>0</td>\n",
              "      <td>0</td>\n",
              "      <td>1</td>\n",
              "    </tr>\n",
              "    <tr>\n",
              "      <th>1</th>\n",
              "      <td>1</td>\n",
              "      <td>0</td>\n",
              "      <td>0.000000</td>\n",
              "      <td>0.000000e+00</td>\n",
              "      <td>0.000000</td>\n",
              "      <td>0.0</td>\n",
              "      <td>0</td>\n",
              "      <td>0.0</td>\n",
              "      <td>0.0</td>\n",
              "      <td>0.000001</td>\n",
              "      <td>0.000006</td>\n",
              "      <td>0.000005</td>\n",
              "      <td>4.400519e-06</td>\n",
              "      <td>0.000004</td>\n",
              "      <td>0.000006</td>\n",
              "      <td>0.000008</td>\n",
              "      <td>0.000009</td>\n",
              "      <td>0.000005</td>\n",
              "      <td>2.217574e-07</td>\n",
              "      <td>0.000000e+00</td>\n",
              "      <td>0.000000</td>\n",
              "      <td>0.0</td>\n",
              "      <td>0</td>\n",
              "      <td>0.0</td>\n",
              "      <td>0.000000</td>\n",
              "      <td>5.029072e-07</td>\n",
              "      <td>0.000000e+00</td>\n",
              "      <td>0.0</td>\n",
              "      <td>0</td>\n",
              "      <td>0</td>\n",
              "      <td>6.303286e-08</td>\n",
              "      <td>0.000002</td>\n",
              "      <td>0.000002</td>\n",
              "      <td>0.000001</td>\n",
              "      <td>4.746836e-07</td>\n",
              "      <td>0.0</td>\n",
              "      <td>0.0</td>\n",
              "      <td>0.000000e+00</td>\n",
              "      <td>0.0</td>\n",
              "      <td>0</td>\n",
              "      <td>...</td>\n",
              "      <td>0</td>\n",
              "      <td>0</td>\n",
              "      <td>0.000000</td>\n",
              "      <td>0.0</td>\n",
              "      <td>0</td>\n",
              "      <td>0</td>\n",
              "      <td>0</td>\n",
              "      <td>0</td>\n",
              "      <td>0</td>\n",
              "      <td>0</td>\n",
              "      <td>0</td>\n",
              "      <td>0</td>\n",
              "      <td>0</td>\n",
              "      <td>0</td>\n",
              "      <td>0</td>\n",
              "      <td>0</td>\n",
              "      <td>0</td>\n",
              "      <td>0</td>\n",
              "      <td>0</td>\n",
              "      <td>0</td>\n",
              "      <td>0</td>\n",
              "      <td>0</td>\n",
              "      <td>0</td>\n",
              "      <td>0</td>\n",
              "      <td>0</td>\n",
              "      <td>0</td>\n",
              "      <td>0</td>\n",
              "      <td>0</td>\n",
              "      <td>0</td>\n",
              "      <td>0</td>\n",
              "      <td>0</td>\n",
              "      <td>0</td>\n",
              "      <td>0</td>\n",
              "      <td>0</td>\n",
              "      <td>0</td>\n",
              "      <td>0</td>\n",
              "      <td>0</td>\n",
              "      <td>0</td>\n",
              "      <td>0</td>\n",
              "      <td>1</td>\n",
              "    </tr>\n",
              "    <tr>\n",
              "      <th>2</th>\n",
              "      <td>2</td>\n",
              "      <td>0</td>\n",
              "      <td>0.000004</td>\n",
              "      <td>4.009876e-06</td>\n",
              "      <td>0.000003</td>\n",
              "      <td>0.0</td>\n",
              "      <td>0</td>\n",
              "      <td>0.0</td>\n",
              "      <td>0.0</td>\n",
              "      <td>0.000000</td>\n",
              "      <td>0.000003</td>\n",
              "      <td>0.000004</td>\n",
              "      <td>5.331071e-06</td>\n",
              "      <td>0.000006</td>\n",
              "      <td>0.000009</td>\n",
              "      <td>0.000012</td>\n",
              "      <td>0.000014</td>\n",
              "      <td>0.000010</td>\n",
              "      <td>5.345027e-06</td>\n",
              "      <td>9.396877e-07</td>\n",
              "      <td>0.000000</td>\n",
              "      <td>0.0</td>\n",
              "      <td>0</td>\n",
              "      <td>0.0</td>\n",
              "      <td>0.000005</td>\n",
              "      <td>1.084514e-05</td>\n",
              "      <td>6.023756e-06</td>\n",
              "      <td>0.0</td>\n",
              "      <td>0</td>\n",
              "      <td>0</td>\n",
              "      <td>0.000000e+00</td>\n",
              "      <td>0.000000</td>\n",
              "      <td>0.000001</td>\n",
              "      <td>0.000002</td>\n",
              "      <td>2.889537e-06</td>\n",
              "      <td>0.0</td>\n",
              "      <td>0.0</td>\n",
              "      <td>0.000000e+00</td>\n",
              "      <td>0.0</td>\n",
              "      <td>0</td>\n",
              "      <td>...</td>\n",
              "      <td>0</td>\n",
              "      <td>0</td>\n",
              "      <td>0.000001</td>\n",
              "      <td>0.0</td>\n",
              "      <td>0</td>\n",
              "      <td>0</td>\n",
              "      <td>0</td>\n",
              "      <td>0</td>\n",
              "      <td>0</td>\n",
              "      <td>0</td>\n",
              "      <td>0</td>\n",
              "      <td>0</td>\n",
              "      <td>0</td>\n",
              "      <td>0</td>\n",
              "      <td>0</td>\n",
              "      <td>0</td>\n",
              "      <td>0</td>\n",
              "      <td>0</td>\n",
              "      <td>0</td>\n",
              "      <td>0</td>\n",
              "      <td>0</td>\n",
              "      <td>0</td>\n",
              "      <td>0</td>\n",
              "      <td>0</td>\n",
              "      <td>0</td>\n",
              "      <td>0</td>\n",
              "      <td>0</td>\n",
              "      <td>0</td>\n",
              "      <td>0</td>\n",
              "      <td>0</td>\n",
              "      <td>0</td>\n",
              "      <td>0</td>\n",
              "      <td>0</td>\n",
              "      <td>0</td>\n",
              "      <td>0</td>\n",
              "      <td>0</td>\n",
              "      <td>0</td>\n",
              "      <td>0</td>\n",
              "      <td>0</td>\n",
              "      <td>1</td>\n",
              "    </tr>\n",
              "  </tbody>\n",
              "</table>\n",
              "<p>3 rows × 4552 columns</p>\n",
              "</div>"
            ],
            "text/plain": [
              "   Unnamed: 0  195     195.2         195.4  ...  1104.4  1104.6  1104.8  sum\n",
              "0           0    0  0.000002  6.339045e-07  ...       0       0       0    1\n",
              "1           1    0  0.000000  0.000000e+00  ...       0       0       0    1\n",
              "2           2    0  0.000004  4.009876e-06  ...       0       0       0    1\n",
              "\n",
              "[3 rows x 4552 columns]"
            ]
          },
          "metadata": {},
          "execution_count": 398
        }
      ]
    },
    {
      "cell_type": "code",
      "metadata": {
        "colab": {
          "base_uri": "https://localhost:8080/"
        },
        "id": "KnBXeTD-BcSI",
        "outputId": "7663b302-7557-4a67-8146-6b178bc43612"
      },
      "source": [
        "df_raw.shape"
      ],
      "execution_count": null,
      "outputs": [
        {
          "output_type": "execute_result",
          "data": {
            "text/plain": [
              "(113, 4552)"
            ]
          },
          "metadata": {},
          "execution_count": 399
        }
      ]
    },
    {
      "cell_type": "code",
      "metadata": {
        "id": "fNiWgj7NBj8o"
      },
      "source": [
        "df_raw=df_raw.drop('sum',axis=1)\n"
      ],
      "execution_count": null,
      "outputs": []
    },
    {
      "cell_type": "code",
      "metadata": {
        "id": "FByLyiOiME3w"
      },
      "source": [
        "df_raw['sheet']=df_reserve['sheet']"
      ],
      "execution_count": null,
      "outputs": []
    },
    {
      "cell_type": "code",
      "metadata": {
        "colab": {
          "base_uri": "https://localhost:8080/"
        },
        "id": "KgQCQ7apMEuB",
        "outputId": "45eecea0-c0c7-4d50-a14e-9e1e4c221e58"
      },
      "source": [
        "df_raw.shape"
      ],
      "execution_count": null,
      "outputs": [
        {
          "output_type": "execute_result",
          "data": {
            "text/plain": [
              "(113, 4552)"
            ]
          },
          "metadata": {},
          "execution_count": 402
        }
      ]
    },
    {
      "cell_type": "code",
      "metadata": {
        "id": "KjajwEMkMEg_"
      },
      "source": [
        ""
      ],
      "execution_count": null,
      "outputs": []
    },
    {
      "cell_type": "code",
      "metadata": {
        "id": "noiubxxSB-O_"
      },
      "source": [
        ""
      ],
      "execution_count": null,
      "outputs": []
    },
    {
      "cell_type": "code",
      "metadata": {
        "id": "V-xwysQ-SK90"
      },
      "source": [
        ""
      ],
      "execution_count": null,
      "outputs": []
    },
    {
      "cell_type": "code",
      "metadata": {
        "id": "k3TIym2MQ1Yl"
      },
      "source": [
        "#df_raw.to_excel('IZO_zeroed and sum.xlsx')"
      ],
      "execution_count": null,
      "outputs": []
    },
    {
      "cell_type": "code",
      "metadata": {
        "id": "0ux1dnDbB_pY"
      },
      "source": [
        ""
      ],
      "execution_count": null,
      "outputs": []
    },
    {
      "cell_type": "code",
      "metadata": {
        "id": "KhJLAYn_Ph_a"
      },
      "source": [
        ""
      ],
      "execution_count": null,
      "outputs": []
    },
    {
      "cell_type": "code",
      "metadata": {
        "colab": {
          "base_uri": "https://localhost:8080/",
          "height": 258
        },
        "id": "P3V8Ee-jPhwN",
        "outputId": "de397a0c-fdd4-4cf0-b08f-6474f1c3c6d2"
      },
      "source": [
        "#df_raw.iloc[0,4550]\n",
        "df_raw.head(3)"
      ],
      "execution_count": null,
      "outputs": [
        {
          "output_type": "execute_result",
          "data": {
            "text/html": [
              "<div>\n",
              "<style scoped>\n",
              "    .dataframe tbody tr th:only-of-type {\n",
              "        vertical-align: middle;\n",
              "    }\n",
              "\n",
              "    .dataframe tbody tr th {\n",
              "        vertical-align: top;\n",
              "    }\n",
              "\n",
              "    .dataframe thead th {\n",
              "        text-align: right;\n",
              "    }\n",
              "</style>\n",
              "<table border=\"1\" class=\"dataframe\">\n",
              "  <thead>\n",
              "    <tr style=\"text-align: right;\">\n",
              "      <th></th>\n",
              "      <th>Unnamed: 0</th>\n",
              "      <th>195</th>\n",
              "      <th>195.2</th>\n",
              "      <th>195.4</th>\n",
              "      <th>195.6</th>\n",
              "      <th>195.8</th>\n",
              "      <th>196</th>\n",
              "      <th>196.2</th>\n",
              "      <th>196.4</th>\n",
              "      <th>196.6</th>\n",
              "      <th>196.8</th>\n",
              "      <th>197</th>\n",
              "      <th>197.2</th>\n",
              "      <th>197.4</th>\n",
              "      <th>197.6</th>\n",
              "      <th>197.8</th>\n",
              "      <th>198</th>\n",
              "      <th>198.2</th>\n",
              "      <th>198.4</th>\n",
              "      <th>198.6</th>\n",
              "      <th>198.8</th>\n",
              "      <th>199</th>\n",
              "      <th>199.2</th>\n",
              "      <th>199.4</th>\n",
              "      <th>199.6</th>\n",
              "      <th>199.8</th>\n",
              "      <th>200</th>\n",
              "      <th>200.2</th>\n",
              "      <th>200.4</th>\n",
              "      <th>200.6</th>\n",
              "      <th>200.8</th>\n",
              "      <th>201</th>\n",
              "      <th>201.2</th>\n",
              "      <th>201.4</th>\n",
              "      <th>201.6</th>\n",
              "      <th>201.8</th>\n",
              "      <th>202</th>\n",
              "      <th>202.2</th>\n",
              "      <th>202.4</th>\n",
              "      <th>202.6</th>\n",
              "      <th>...</th>\n",
              "      <th>1097.2</th>\n",
              "      <th>1097.4</th>\n",
              "      <th>1097.6</th>\n",
              "      <th>1097.8</th>\n",
              "      <th>1098</th>\n",
              "      <th>1098.2</th>\n",
              "      <th>1098.4</th>\n",
              "      <th>1098.6</th>\n",
              "      <th>1098.8</th>\n",
              "      <th>1099</th>\n",
              "      <th>1099.2</th>\n",
              "      <th>1099.4</th>\n",
              "      <th>1099.6</th>\n",
              "      <th>1099.8</th>\n",
              "      <th>1100</th>\n",
              "      <th>1100.2</th>\n",
              "      <th>1100.4</th>\n",
              "      <th>1100.6</th>\n",
              "      <th>1100.8</th>\n",
              "      <th>1101</th>\n",
              "      <th>1101.2</th>\n",
              "      <th>1101.4</th>\n",
              "      <th>1101.6</th>\n",
              "      <th>1101.8</th>\n",
              "      <th>1102</th>\n",
              "      <th>1102.2</th>\n",
              "      <th>1102.4</th>\n",
              "      <th>1102.6</th>\n",
              "      <th>1102.8</th>\n",
              "      <th>1103</th>\n",
              "      <th>1103.2</th>\n",
              "      <th>1103.4</th>\n",
              "      <th>1103.6</th>\n",
              "      <th>1103.8</th>\n",
              "      <th>1104</th>\n",
              "      <th>1104.2</th>\n",
              "      <th>1104.4</th>\n",
              "      <th>1104.6</th>\n",
              "      <th>1104.8</th>\n",
              "      <th>sheet</th>\n",
              "    </tr>\n",
              "  </thead>\n",
              "  <tbody>\n",
              "    <tr>\n",
              "      <th>0</th>\n",
              "      <td>0</td>\n",
              "      <td>0</td>\n",
              "      <td>0.000002</td>\n",
              "      <td>6.339045e-07</td>\n",
              "      <td>0.000000</td>\n",
              "      <td>0.0</td>\n",
              "      <td>0</td>\n",
              "      <td>0.0</td>\n",
              "      <td>0.0</td>\n",
              "      <td>0.000000</td>\n",
              "      <td>0.000000</td>\n",
              "      <td>0.000000</td>\n",
              "      <td>6.995184e-07</td>\n",
              "      <td>0.000003</td>\n",
              "      <td>0.000008</td>\n",
              "      <td>0.000014</td>\n",
              "      <td>0.000018</td>\n",
              "      <td>0.000014</td>\n",
              "      <td>9.434174e-06</td>\n",
              "      <td>4.883140e-06</td>\n",
              "      <td>0.000002</td>\n",
              "      <td>0.0</td>\n",
              "      <td>0</td>\n",
              "      <td>0.0</td>\n",
              "      <td>0.000002</td>\n",
              "      <td>3.138990e-06</td>\n",
              "      <td>9.822319e-07</td>\n",
              "      <td>0.0</td>\n",
              "      <td>0</td>\n",
              "      <td>0</td>\n",
              "      <td>0.000000e+00</td>\n",
              "      <td>0.000000</td>\n",
              "      <td>0.000000</td>\n",
              "      <td>0.000000</td>\n",
              "      <td>0.000000e+00</td>\n",
              "      <td>0.0</td>\n",
              "      <td>0.0</td>\n",
              "      <td>1.604555e-07</td>\n",
              "      <td>0.0</td>\n",
              "      <td>0</td>\n",
              "      <td>...</td>\n",
              "      <td>0</td>\n",
              "      <td>0</td>\n",
              "      <td>0.000000</td>\n",
              "      <td>0.0</td>\n",
              "      <td>0</td>\n",
              "      <td>0</td>\n",
              "      <td>0</td>\n",
              "      <td>0</td>\n",
              "      <td>0</td>\n",
              "      <td>0</td>\n",
              "      <td>0</td>\n",
              "      <td>0</td>\n",
              "      <td>0</td>\n",
              "      <td>0</td>\n",
              "      <td>0</td>\n",
              "      <td>0</td>\n",
              "      <td>0</td>\n",
              "      <td>0</td>\n",
              "      <td>0</td>\n",
              "      <td>0</td>\n",
              "      <td>0</td>\n",
              "      <td>0</td>\n",
              "      <td>0</td>\n",
              "      <td>0</td>\n",
              "      <td>0</td>\n",
              "      <td>0</td>\n",
              "      <td>0</td>\n",
              "      <td>0</td>\n",
              "      <td>0</td>\n",
              "      <td>0</td>\n",
              "      <td>0</td>\n",
              "      <td>0</td>\n",
              "      <td>0</td>\n",
              "      <td>0</td>\n",
              "      <td>0</td>\n",
              "      <td>0</td>\n",
              "      <td>0</td>\n",
              "      <td>0</td>\n",
              "      <td>0</td>\n",
              "      <td>11.0</td>\n",
              "    </tr>\n",
              "    <tr>\n",
              "      <th>1</th>\n",
              "      <td>1</td>\n",
              "      <td>0</td>\n",
              "      <td>0.000000</td>\n",
              "      <td>0.000000e+00</td>\n",
              "      <td>0.000000</td>\n",
              "      <td>0.0</td>\n",
              "      <td>0</td>\n",
              "      <td>0.0</td>\n",
              "      <td>0.0</td>\n",
              "      <td>0.000001</td>\n",
              "      <td>0.000006</td>\n",
              "      <td>0.000005</td>\n",
              "      <td>4.400519e-06</td>\n",
              "      <td>0.000004</td>\n",
              "      <td>0.000006</td>\n",
              "      <td>0.000008</td>\n",
              "      <td>0.000009</td>\n",
              "      <td>0.000005</td>\n",
              "      <td>2.217574e-07</td>\n",
              "      <td>0.000000e+00</td>\n",
              "      <td>0.000000</td>\n",
              "      <td>0.0</td>\n",
              "      <td>0</td>\n",
              "      <td>0.0</td>\n",
              "      <td>0.000000</td>\n",
              "      <td>5.029072e-07</td>\n",
              "      <td>0.000000e+00</td>\n",
              "      <td>0.0</td>\n",
              "      <td>0</td>\n",
              "      <td>0</td>\n",
              "      <td>6.303286e-08</td>\n",
              "      <td>0.000002</td>\n",
              "      <td>0.000002</td>\n",
              "      <td>0.000001</td>\n",
              "      <td>4.746836e-07</td>\n",
              "      <td>0.0</td>\n",
              "      <td>0.0</td>\n",
              "      <td>0.000000e+00</td>\n",
              "      <td>0.0</td>\n",
              "      <td>0</td>\n",
              "      <td>...</td>\n",
              "      <td>0</td>\n",
              "      <td>0</td>\n",
              "      <td>0.000000</td>\n",
              "      <td>0.0</td>\n",
              "      <td>0</td>\n",
              "      <td>0</td>\n",
              "      <td>0</td>\n",
              "      <td>0</td>\n",
              "      <td>0</td>\n",
              "      <td>0</td>\n",
              "      <td>0</td>\n",
              "      <td>0</td>\n",
              "      <td>0</td>\n",
              "      <td>0</td>\n",
              "      <td>0</td>\n",
              "      <td>0</td>\n",
              "      <td>0</td>\n",
              "      <td>0</td>\n",
              "      <td>0</td>\n",
              "      <td>0</td>\n",
              "      <td>0</td>\n",
              "      <td>0</td>\n",
              "      <td>0</td>\n",
              "      <td>0</td>\n",
              "      <td>0</td>\n",
              "      <td>0</td>\n",
              "      <td>0</td>\n",
              "      <td>0</td>\n",
              "      <td>0</td>\n",
              "      <td>0</td>\n",
              "      <td>0</td>\n",
              "      <td>0</td>\n",
              "      <td>0</td>\n",
              "      <td>0</td>\n",
              "      <td>0</td>\n",
              "      <td>0</td>\n",
              "      <td>0</td>\n",
              "      <td>0</td>\n",
              "      <td>0</td>\n",
              "      <td>11.0</td>\n",
              "    </tr>\n",
              "    <tr>\n",
              "      <th>2</th>\n",
              "      <td>2</td>\n",
              "      <td>0</td>\n",
              "      <td>0.000004</td>\n",
              "      <td>4.009876e-06</td>\n",
              "      <td>0.000003</td>\n",
              "      <td>0.0</td>\n",
              "      <td>0</td>\n",
              "      <td>0.0</td>\n",
              "      <td>0.0</td>\n",
              "      <td>0.000000</td>\n",
              "      <td>0.000003</td>\n",
              "      <td>0.000004</td>\n",
              "      <td>5.331071e-06</td>\n",
              "      <td>0.000006</td>\n",
              "      <td>0.000009</td>\n",
              "      <td>0.000012</td>\n",
              "      <td>0.000014</td>\n",
              "      <td>0.000010</td>\n",
              "      <td>5.345027e-06</td>\n",
              "      <td>9.396877e-07</td>\n",
              "      <td>0.000000</td>\n",
              "      <td>0.0</td>\n",
              "      <td>0</td>\n",
              "      <td>0.0</td>\n",
              "      <td>0.000005</td>\n",
              "      <td>1.084514e-05</td>\n",
              "      <td>6.023756e-06</td>\n",
              "      <td>0.0</td>\n",
              "      <td>0</td>\n",
              "      <td>0</td>\n",
              "      <td>0.000000e+00</td>\n",
              "      <td>0.000000</td>\n",
              "      <td>0.000001</td>\n",
              "      <td>0.000002</td>\n",
              "      <td>2.889537e-06</td>\n",
              "      <td>0.0</td>\n",
              "      <td>0.0</td>\n",
              "      <td>0.000000e+00</td>\n",
              "      <td>0.0</td>\n",
              "      <td>0</td>\n",
              "      <td>...</td>\n",
              "      <td>0</td>\n",
              "      <td>0</td>\n",
              "      <td>0.000001</td>\n",
              "      <td>0.0</td>\n",
              "      <td>0</td>\n",
              "      <td>0</td>\n",
              "      <td>0</td>\n",
              "      <td>0</td>\n",
              "      <td>0</td>\n",
              "      <td>0</td>\n",
              "      <td>0</td>\n",
              "      <td>0</td>\n",
              "      <td>0</td>\n",
              "      <td>0</td>\n",
              "      <td>0</td>\n",
              "      <td>0</td>\n",
              "      <td>0</td>\n",
              "      <td>0</td>\n",
              "      <td>0</td>\n",
              "      <td>0</td>\n",
              "      <td>0</td>\n",
              "      <td>0</td>\n",
              "      <td>0</td>\n",
              "      <td>0</td>\n",
              "      <td>0</td>\n",
              "      <td>0</td>\n",
              "      <td>0</td>\n",
              "      <td>0</td>\n",
              "      <td>0</td>\n",
              "      <td>0</td>\n",
              "      <td>0</td>\n",
              "      <td>0</td>\n",
              "      <td>0</td>\n",
              "      <td>0</td>\n",
              "      <td>0</td>\n",
              "      <td>0</td>\n",
              "      <td>0</td>\n",
              "      <td>0</td>\n",
              "      <td>0</td>\n",
              "      <td>11.0</td>\n",
              "    </tr>\n",
              "  </tbody>\n",
              "</table>\n",
              "<p>3 rows × 4552 columns</p>\n",
              "</div>"
            ],
            "text/plain": [
              "   Unnamed: 0  195     195.2         195.4  ...  1104.4  1104.6  1104.8  sheet\n",
              "0           0    0  0.000002  6.339045e-07  ...       0       0       0   11.0\n",
              "1           1    0  0.000000  0.000000e+00  ...       0       0       0   11.0\n",
              "2           2    0  0.000004  4.009876e-06  ...       0       0       0   11.0\n",
              "\n",
              "[3 rows x 4552 columns]"
            ]
          },
          "metadata": {},
          "execution_count": 404
        }
      ]
    },
    {
      "cell_type": "code",
      "metadata": {
        "id": "drq2RkULQuWK"
      },
      "source": [
        "#df_raw.to_excel('IZO_zeroed and scaled sum.xlsx')"
      ],
      "execution_count": null,
      "outputs": []
    },
    {
      "cell_type": "code",
      "metadata": {
        "id": "qpQQo-gCQHQs"
      },
      "source": [
        ""
      ],
      "execution_count": null,
      "outputs": []
    },
    {
      "cell_type": "code",
      "metadata": {
        "id": "r4vCVB6mfRVT",
        "colab": {
          "base_uri": "https://localhost:8080/"
        },
        "outputId": "43e084f7-f126-4674-c855-9d2c14332010"
      },
      "source": [
        "df_raw.shape"
      ],
      "execution_count": null,
      "outputs": [
        {
          "output_type": "execute_result",
          "data": {
            "text/plain": [
              "(113, 4552)"
            ]
          },
          "metadata": {},
          "execution_count": 406
        }
      ]
    },
    {
      "cell_type": "code",
      "metadata": {
        "id": "yODdglInft18"
      },
      "source": [
        ""
      ],
      "execution_count": null,
      "outputs": []
    },
    {
      "cell_type": "code",
      "metadata": {
        "id": "96-AHP-xCDRM"
      },
      "source": [
        "X=df_raw.iloc[:,:-1].values\n",
        "y=df_raw.iloc[:,-1].values"
      ],
      "execution_count": null,
      "outputs": []
    },
    {
      "cell_type": "code",
      "metadata": {
        "id": "SDzmgHykCgWX"
      },
      "source": [
        "from sklearn.preprocessing import StandardScaler,MinMaxScaler\n",
        "sc_s=StandardScaler()\n",
        "sc_m=StandardScaler()"
      ],
      "execution_count": null,
      "outputs": []
    },
    {
      "cell_type": "code",
      "metadata": {
        "id": "0HzgroQ6DzcZ"
      },
      "source": [
        "y=y.reshape(113,1)"
      ],
      "execution_count": null,
      "outputs": []
    },
    {
      "cell_type": "code",
      "metadata": {
        "id": "N3XhV-e5Cjf_"
      },
      "source": [
        ""
      ],
      "execution_count": null,
      "outputs": []
    },
    {
      "cell_type": "code",
      "metadata": {
        "id": "9m7WJObFDqBx"
      },
      "source": [
        "from sklearn.model_selection import train_test_split"
      ],
      "execution_count": null,
      "outputs": []
    },
    {
      "cell_type": "code",
      "metadata": {
        "id": "defziBXRDwfl"
      },
      "source": [
        "X_train,X_test,y_train,y_test=train_test_split(X,y,test_size=0.2)"
      ],
      "execution_count": null,
      "outputs": []
    },
    {
      "cell_type": "code",
      "metadata": {
        "id": "FxtZgiGYg0zL"
      },
      "source": [
        "X_train=sc_s.fit_transform(X_train)\n",
        "X_test=sc_s.transform(X_test)"
      ],
      "execution_count": null,
      "outputs": []
    },
    {
      "cell_type": "code",
      "metadata": {
        "id": "sovTXJwKEOzV"
      },
      "source": [
        "from tensorflow.keras.models import Sequential\n",
        "from tensorflow.keras.layers import Dense"
      ],
      "execution_count": null,
      "outputs": []
    },
    {
      "cell_type": "code",
      "metadata": {
        "id": "lXnMACMxEmhq"
      },
      "source": [
        "\n",
        "model=Sequential()"
      ],
      "execution_count": null,
      "outputs": []
    },
    {
      "cell_type": "code",
      "metadata": {
        "id": "H6f2eRfAErKs"
      },
      "source": [
        "model.add(Dense(units=4551,activation='relu'))\n",
        "#model.add(Dense(units=3000,activation='relu'))\n",
        "model.add(Dense(units=2000,activation='relu'))\n",
        "#model.add(Dense(units=1000,activation='relu'))\n",
        "model.add(Dense(units=500,activation='relu'))\n",
        "#model.add(Dense(units=300,activation='relu'))\n",
        "model.add(Dense(units=300,activation='relu'))\n",
        "#model.add(Dense(units=100,activation='relu'))\n",
        "model.add(Dense(units=50,activation='relu'))\n",
        "#model.add(Dense(units=20,activation='relu'))\n",
        "model.add(Dense(units=8,activation='relu'))\n",
        "model.add(Dense(units=4,activation='relu'))\n",
        "model.add(Dense(units=1))"
      ],
      "execution_count": null,
      "outputs": []
    },
    {
      "cell_type": "code",
      "metadata": {
        "id": "pSPytteSFavs"
      },
      "source": [
        "model.compile(optimizer=tf.keras.optimizers.Adam(learning_rate=0.01),\n",
        "              loss=tf.keras.losses.Huber(),\n",
        "              metrics=['mae'])"
      ],
      "execution_count": null,
      "outputs": []
    },
    {
      "cell_type": "code",
      "metadata": {
        "colab": {
          "base_uri": "https://localhost:8080/"
        },
        "id": "qJcO_zIVFgqq",
        "outputId": "53d59d53-0845-46f3-ea7c-0bec0040c39f"
      },
      "source": [
        "model.fit(X_train,y_train,batch_size=32,epochs=40)"
      ],
      "execution_count": null,
      "outputs": [
        {
          "output_type": "stream",
          "name": "stdout",
          "text": [
            "Epoch 1/40\n",
            "3/3 [==============================] - 1s 22ms/step - loss: 6328.5757 - mae: 6329.0757\n",
            "Epoch 2/40\n",
            "3/3 [==============================] - 0s 23ms/step - loss: 12.7226 - mae: 13.2044\n",
            "Epoch 3/40\n",
            "3/3 [==============================] - 0s 23ms/step - loss: 10.5577 - mae: 11.0529\n",
            "Epoch 4/40\n",
            "3/3 [==============================] - 0s 20ms/step - loss: 4.2723 - mae: 4.7501\n",
            "Epoch 5/40\n",
            "3/3 [==============================] - 0s 19ms/step - loss: 4.7610 - mae: 5.2518\n",
            "Epoch 6/40\n",
            "3/3 [==============================] - 0s 19ms/step - loss: 4.4229 - mae: 4.9128\n",
            "Epoch 7/40\n",
            "3/3 [==============================] - 0s 19ms/step - loss: 6.6118 - mae: 7.0770\n",
            "Epoch 8/40\n",
            "3/3 [==============================] - 0s 18ms/step - loss: 2.9564 - mae: 3.4406\n",
            "Epoch 9/40\n",
            "3/3 [==============================] - 0s 20ms/step - loss: 2.0241 - mae: 2.4674\n",
            "Epoch 10/40\n",
            "3/3 [==============================] - 0s 18ms/step - loss: 1.6119 - mae: 2.0645\n",
            "Epoch 11/40\n",
            "3/3 [==============================] - 0s 16ms/step - loss: 1.7841 - mae: 2.2292\n",
            "Epoch 12/40\n",
            "3/3 [==============================] - 0s 17ms/step - loss: 3.1446 - mae: 3.5950\n",
            "Epoch 13/40\n",
            "3/3 [==============================] - 0s 18ms/step - loss: 3.0115 - mae: 3.4809\n",
            "Epoch 14/40\n",
            "3/3 [==============================] - 0s 17ms/step - loss: 1.5323 - mae: 1.9862\n",
            "Epoch 15/40\n",
            "3/3 [==============================] - 0s 17ms/step - loss: 1.5291 - mae: 1.9758\n",
            "Epoch 16/40\n",
            "3/3 [==============================] - 0s 17ms/step - loss: 1.5356 - mae: 1.9807\n",
            "Epoch 17/40\n",
            "3/3 [==============================] - 0s 17ms/step - loss: 1.3602 - mae: 1.8035\n",
            "Epoch 18/40\n",
            "3/3 [==============================] - 0s 17ms/step - loss: 1.2933 - mae: 1.7218\n",
            "Epoch 19/40\n",
            "3/3 [==============================] - 0s 17ms/step - loss: 0.9644 - mae: 1.3701\n",
            "Epoch 20/40\n",
            "3/3 [==============================] - 0s 16ms/step - loss: 1.0295 - mae: 1.4529\n",
            "Epoch 21/40\n",
            "3/3 [==============================] - 0s 17ms/step - loss: 0.8663 - mae: 1.2606\n",
            "Epoch 22/40\n",
            "3/3 [==============================] - 0s 17ms/step - loss: 0.7349 - mae: 1.1359\n",
            "Epoch 23/40\n",
            "3/3 [==============================] - 0s 16ms/step - loss: 0.7562 - mae: 1.1532\n",
            "Epoch 24/40\n",
            "3/3 [==============================] - 0s 17ms/step - loss: 0.9971 - mae: 1.4045\n",
            "Epoch 25/40\n",
            "3/3 [==============================] - 0s 17ms/step - loss: 0.7345 - mae: 1.1138\n",
            "Epoch 26/40\n",
            "3/3 [==============================] - 0s 17ms/step - loss: 0.8103 - mae: 1.2120\n",
            "Epoch 27/40\n",
            "3/3 [==============================] - 0s 17ms/step - loss: 0.7220 - mae: 1.1231\n",
            "Epoch 28/40\n",
            "3/3 [==============================] - 0s 17ms/step - loss: 0.7292 - mae: 1.1097\n",
            "Epoch 29/40\n",
            "3/3 [==============================] - 0s 16ms/step - loss: 0.6676 - mae: 1.0728\n",
            "Epoch 30/40\n",
            "3/3 [==============================] - 0s 17ms/step - loss: 0.7061 - mae: 1.1149\n",
            "Epoch 31/40\n",
            "3/3 [==============================] - 0s 16ms/step - loss: 0.6747 - mae: 1.0778\n",
            "Epoch 32/40\n",
            "3/3 [==============================] - 0s 16ms/step - loss: 0.6578 - mae: 1.0246\n",
            "Epoch 33/40\n",
            "3/3 [==============================] - 0s 17ms/step - loss: 0.6520 - mae: 1.0469\n",
            "Epoch 34/40\n",
            "3/3 [==============================] - 0s 17ms/step - loss: 0.4668 - mae: 0.8380\n",
            "Epoch 35/40\n",
            "3/3 [==============================] - 0s 16ms/step - loss: 0.5880 - mae: 0.9505\n",
            "Epoch 36/40\n",
            "3/3 [==============================] - 0s 16ms/step - loss: 0.8022 - mae: 1.2007\n",
            "Epoch 37/40\n",
            "3/3 [==============================] - 0s 17ms/step - loss: 0.6917 - mae: 1.1114\n",
            "Epoch 38/40\n",
            "3/3 [==============================] - 0s 16ms/step - loss: 0.6773 - mae: 1.0807\n",
            "Epoch 39/40\n",
            "3/3 [==============================] - 0s 17ms/step - loss: 0.6151 - mae: 1.0308\n",
            "Epoch 40/40\n",
            "3/3 [==============================] - 0s 16ms/step - loss: 0.5052 - mae: 0.8869\n"
          ]
        },
        {
          "output_type": "execute_result",
          "data": {
            "text/plain": [
              "<keras.callbacks.History at 0x7f2e8ff7a190>"
            ]
          },
          "metadata": {},
          "execution_count": 417
        }
      ]
    },
    {
      "cell_type": "code",
      "metadata": {
        "id": "G-2ROUMdh7r1"
      },
      "source": [
        "#losses=pd.DataFrame(model.history.history)\n",
        "#losses.plot()"
      ],
      "execution_count": null,
      "outputs": []
    },
    {
      "cell_type": "code",
      "metadata": {
        "id": "tlaD2Z66Fmz9"
      },
      "source": [
        "y_pred=model.predict(X_test)"
      ],
      "execution_count": null,
      "outputs": []
    },
    {
      "cell_type": "code",
      "metadata": {
        "colab": {
          "base_uri": "https://localhost:8080/"
        },
        "id": "A9hNhrywGknK",
        "outputId": "f7aa68e0-826c-43eb-aa4c-34927299572f"
      },
      "source": [
        "y_pred.shape"
      ],
      "execution_count": null,
      "outputs": [
        {
          "output_type": "execute_result",
          "data": {
            "text/plain": [
              "(23, 1)"
            ]
          },
          "metadata": {},
          "execution_count": 420
        }
      ]
    },
    {
      "cell_type": "code",
      "metadata": {
        "colab": {
          "base_uri": "https://localhost:8080/"
        },
        "id": "tINBpLRwGnfW",
        "outputId": "73969490-90c2-403e-c70c-a80bf4a0a868"
      },
      "source": [
        "y_test.shape"
      ],
      "execution_count": null,
      "outputs": [
        {
          "output_type": "execute_result",
          "data": {
            "text/plain": [
              "(23, 1)"
            ]
          },
          "metadata": {},
          "execution_count": 421
        }
      ]
    },
    {
      "cell_type": "code",
      "metadata": {
        "colab": {
          "base_uri": "https://localhost:8080/"
        },
        "id": "CW2RlFrSGr85",
        "outputId": "3c9e93b5-f99d-4f09-b157-2d1cc2f4e1ee"
      },
      "source": [
        "from sklearn.metrics import mean_absolute_error\n",
        "\n",
        "mean_absolute_error(y_pred,y_test)"
      ],
      "execution_count": null,
      "outputs": [
        {
          "output_type": "execute_result",
          "data": {
            "text/plain": [
              "1.3739649399467138"
            ]
          },
          "metadata": {},
          "execution_count": 422
        }
      ]
    },
    {
      "cell_type": "code",
      "metadata": {
        "colab": {
          "base_uri": "https://localhost:8080/",
          "height": 758
        },
        "id": "F86CPNpzGzQy",
        "outputId": "2f2136d4-797b-4746-d3e1-4807758b52b4"
      },
      "source": [
        "results=np.concatenate((y_pred,y_test),1)\n",
        "\n",
        "results_ann_peak_ratio=pd.DataFrame(results,columns=['y_pred','y_test'])\n",
        "\n",
        "results_ann_peak_ratio.head(50)"
      ],
      "execution_count": null,
      "outputs": [
        {
          "output_type": "execute_result",
          "data": {
            "text/html": [
              "<div>\n",
              "<style scoped>\n",
              "    .dataframe tbody tr th:only-of-type {\n",
              "        vertical-align: middle;\n",
              "    }\n",
              "\n",
              "    .dataframe tbody tr th {\n",
              "        vertical-align: top;\n",
              "    }\n",
              "\n",
              "    .dataframe thead th {\n",
              "        text-align: right;\n",
              "    }\n",
              "</style>\n",
              "<table border=\"1\" class=\"dataframe\">\n",
              "  <thead>\n",
              "    <tr style=\"text-align: right;\">\n",
              "      <th></th>\n",
              "      <th>y_pred</th>\n",
              "      <th>y_test</th>\n",
              "    </tr>\n",
              "  </thead>\n",
              "  <tbody>\n",
              "    <tr>\n",
              "      <th>0</th>\n",
              "      <td>11.716638</td>\n",
              "      <td>11.0</td>\n",
              "    </tr>\n",
              "    <tr>\n",
              "      <th>1</th>\n",
              "      <td>7.242265</td>\n",
              "      <td>9.6</td>\n",
              "    </tr>\n",
              "    <tr>\n",
              "      <th>2</th>\n",
              "      <td>10.095633</td>\n",
              "      <td>11.4</td>\n",
              "    </tr>\n",
              "    <tr>\n",
              "      <th>3</th>\n",
              "      <td>8.587937</td>\n",
              "      <td>10.0</td>\n",
              "    </tr>\n",
              "    <tr>\n",
              "      <th>4</th>\n",
              "      <td>7.953916</td>\n",
              "      <td>9.6</td>\n",
              "    </tr>\n",
              "    <tr>\n",
              "      <th>5</th>\n",
              "      <td>6.134621</td>\n",
              "      <td>9.6</td>\n",
              "    </tr>\n",
              "    <tr>\n",
              "      <th>6</th>\n",
              "      <td>9.904041</td>\n",
              "      <td>10.7</td>\n",
              "    </tr>\n",
              "    <tr>\n",
              "      <th>7</th>\n",
              "      <td>14.390054</td>\n",
              "      <td>13.5</td>\n",
              "    </tr>\n",
              "    <tr>\n",
              "      <th>8</th>\n",
              "      <td>15.105602</td>\n",
              "      <td>13.5</td>\n",
              "    </tr>\n",
              "    <tr>\n",
              "      <th>9</th>\n",
              "      <td>6.924340</td>\n",
              "      <td>9.6</td>\n",
              "    </tr>\n",
              "    <tr>\n",
              "      <th>10</th>\n",
              "      <td>10.712859</td>\n",
              "      <td>11.0</td>\n",
              "    </tr>\n",
              "    <tr>\n",
              "      <th>11</th>\n",
              "      <td>7.827822</td>\n",
              "      <td>9.6</td>\n",
              "    </tr>\n",
              "    <tr>\n",
              "      <th>12</th>\n",
              "      <td>7.944081</td>\n",
              "      <td>9.8</td>\n",
              "    </tr>\n",
              "    <tr>\n",
              "      <th>13</th>\n",
              "      <td>6.307054</td>\n",
              "      <td>7.5</td>\n",
              "    </tr>\n",
              "    <tr>\n",
              "      <th>14</th>\n",
              "      <td>7.642253</td>\n",
              "      <td>9.8</td>\n",
              "    </tr>\n",
              "    <tr>\n",
              "      <th>15</th>\n",
              "      <td>12.122385</td>\n",
              "      <td>11.0</td>\n",
              "    </tr>\n",
              "    <tr>\n",
              "      <th>16</th>\n",
              "      <td>10.446682</td>\n",
              "      <td>10.7</td>\n",
              "    </tr>\n",
              "    <tr>\n",
              "      <th>17</th>\n",
              "      <td>11.522214</td>\n",
              "      <td>10.7</td>\n",
              "    </tr>\n",
              "    <tr>\n",
              "      <th>18</th>\n",
              "      <td>6.534186</td>\n",
              "      <td>7.5</td>\n",
              "    </tr>\n",
              "    <tr>\n",
              "      <th>19</th>\n",
              "      <td>8.289657</td>\n",
              "      <td>9.8</td>\n",
              "    </tr>\n",
              "    <tr>\n",
              "      <th>20</th>\n",
              "      <td>8.393852</td>\n",
              "      <td>9.6</td>\n",
              "    </tr>\n",
              "    <tr>\n",
              "      <th>21</th>\n",
              "      <td>9.558954</td>\n",
              "      <td>10.0</td>\n",
              "    </tr>\n",
              "    <tr>\n",
              "      <th>22</th>\n",
              "      <td>8.455545</td>\n",
              "      <td>9.6</td>\n",
              "    </tr>\n",
              "  </tbody>\n",
              "</table>\n",
              "</div>"
            ],
            "text/plain": [
              "       y_pred  y_test\n",
              "0   11.716638    11.0\n",
              "1    7.242265     9.6\n",
              "2   10.095633    11.4\n",
              "3    8.587937    10.0\n",
              "4    7.953916     9.6\n",
              "5    6.134621     9.6\n",
              "6    9.904041    10.7\n",
              "7   14.390054    13.5\n",
              "8   15.105602    13.5\n",
              "9    6.924340     9.6\n",
              "10  10.712859    11.0\n",
              "11   7.827822     9.6\n",
              "12   7.944081     9.8\n",
              "13   6.307054     7.5\n",
              "14   7.642253     9.8\n",
              "15  12.122385    11.0\n",
              "16  10.446682    10.7\n",
              "17  11.522214    10.7\n",
              "18   6.534186     7.5\n",
              "19   8.289657     9.8\n",
              "20   8.393852     9.6\n",
              "21   9.558954    10.0\n",
              "22   8.455545     9.6"
            ]
          },
          "metadata": {},
          "execution_count": 423
        }
      ]
    },
    {
      "cell_type": "code",
      "metadata": {
        "colab": {
          "base_uri": "https://localhost:8080/"
        },
        "id": "frH0uxNxHOgH",
        "outputId": "ccae7554-f59a-43b3-94b1-33b39c5ad2d6"
      },
      "source": [
        "from sklearn import metrics\n",
        "metrics.explained_variance_score(y_test,y_pred)\n",
        "\n"
      ],
      "execution_count": null,
      "outputs": [
        {
          "output_type": "execute_result",
          "data": {
            "text/plain": [
              "0.1532624791765993"
            ]
          },
          "metadata": {},
          "execution_count": 424
        }
      ]
    },
    {
      "cell_type": "code",
      "metadata": {
        "id": "Fx6Mtp3JHiyw",
        "colab": {
          "base_uri": "https://localhost:8080/"
        },
        "outputId": "9af1eca0-3a5c-4133-d53e-546ce1f3aa3d"
      },
      "source": [
        "model.summary()"
      ],
      "execution_count": null,
      "outputs": [
        {
          "output_type": "stream",
          "name": "stdout",
          "text": [
            "Model: \"sequential_14\"\n",
            "_________________________________________________________________\n",
            "Layer (type)                 Output Shape              Param #   \n",
            "=================================================================\n",
            "dense_106 (Dense)            (None, 4551)              20716152  \n",
            "_________________________________________________________________\n",
            "dense_107 (Dense)            (None, 2000)              9104000   \n",
            "_________________________________________________________________\n",
            "dense_108 (Dense)            (None, 500)               1000500   \n",
            "_________________________________________________________________\n",
            "dense_109 (Dense)            (None, 300)               150300    \n",
            "_________________________________________________________________\n",
            "dense_110 (Dense)            (None, 50)                15050     \n",
            "_________________________________________________________________\n",
            "dense_111 (Dense)            (None, 8)                 408       \n",
            "_________________________________________________________________\n",
            "dense_112 (Dense)            (None, 4)                 36        \n",
            "_________________________________________________________________\n",
            "dense_113 (Dense)            (None, 1)                 5         \n",
            "=================================================================\n",
            "Total params: 30,986,451\n",
            "Trainable params: 30,986,451\n",
            "Non-trainable params: 0\n",
            "_________________________________________________________________\n"
          ]
        }
      ]
    },
    {
      "cell_type": "code",
      "metadata": {
        "id": "ZeaTuizWH-en",
        "colab": {
          "base_uri": "https://localhost:8080/",
          "height": 976
        },
        "outputId": "4c9bc221-1850-4ea2-dde6-86987961cfe9"
      },
      "source": [
        "from tensorflow.keras.utils import plot_model\n",
        "\n",
        "plot_model(model=model,show_shapes=True)"
      ],
      "execution_count": null,
      "outputs": [
        {
          "output_type": "execute_result",
          "data": {
            "image/png": "[encoded data removed]",
            "text/plain": [
              "<IPython.core.display.Image object>"
            ]
          },
          "metadata": {},
          "execution_count": 428
        }
      ]
    },
    {
      "cell_type": "code",
      "metadata": {
        "colab": {
          "base_uri": "https://localhost:8080/",
          "height": 297
        },
        "id": "fkPgGl_5IFv1",
        "outputId": "588ce6fa-169a-4503-e559-f675cddd7ab3"
      },
      "source": [
        "results=np.concatenate((y_pred,y_test),1)\n",
        "\n",
        "results_ann_peak_ratio=pd.DataFrame(results,columns=['y_pred','y_test'])\n",
        "\n",
        "#results_ann_peak_ratio.head(50)\n",
        "import seaborn as sns\n",
        "\n",
        "sns.scatterplot(x='y_pred',y='y_test',data=results_ann_peak_ratio)"
      ],
      "execution_count": null,
      "outputs": [
        {
          "output_type": "execute_result",
          "data": {
            "text/plain": [
              "<matplotlib.axes._subplots.AxesSubplot at 0x7f2e8ff4cc50>"
            ]
          },
          "metadata": {},
          "execution_count": 425
        },
        {
          "output_type": "display_data",
          "data": {
            "image/png": "[encoded data removed]",
            "text/plain": [
              "<Figure size 432x288 with 1 Axes>"
            ]
          },
          "metadata": {
            "needs_background": "light"
          }
        }
      ]
    },
    {
      "cell_type": "code",
      "metadata": {
        "id": "i6eXfgdiIMQQ"
      },
      "source": [
        ""
      ],
      "execution_count": null,
      "outputs": []
    }
  ]
}